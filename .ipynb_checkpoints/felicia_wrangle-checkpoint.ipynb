{
 "cells": [
  {
   "cell_type": "markdown",
   "metadata": {},
   "source": [
    "Testing."
   ]
  },
  {
   "cell_type": "code",
   "execution_count": null,
   "metadata": {},
   "outputs": [],
   "source": [
    "import pandas as pd\n",
    "import numpy as np\n",
    "import re"
   ]
  },
  {
   "cell_type": "code",
   "execution_count": null,
   "metadata": {},
   "outputs": [],
   "source": [
    "faang = pd.read_csv(\"data/Levels_Fyi_Salary_Data.csv\")"
   ]
  },
  {
   "cell_type": "code",
   "execution_count": null,
   "metadata": {},
   "outputs": [],
   "source": [
    "faang = faang[['company', 'title', 'totalyearlycompensation',\n",
    "       'location', 'yearsofexperience', 'yearsatcompany','basesalary', 'bonus',\n",
    "        'Masters_Degree', 'Bachelors_Degree', 'Doctorate_Degree',\n",
    "       'Highschool', 'Some_College']]"
   ]
  },
  {
   "cell_type": "code",
   "execution_count": null,
   "metadata": {},
   "outputs": [],
   "source": [
    "faang.company.apply(lambda x: True if len(re.findall(amazonPat, x)) > 0 else False)\n",
    "#'(Facebook)+'\n",
    "#(facebook)+|(Facebook)+\n",
    "amazonPat = '(amazon)+|(amazon)+'\n",
    "faang['amazon'] = faang.company.apply(lambda x: True if len(re.findall(amazonPat, str(x))) > 0 else False)\n",
    "amazon = faang[faang.amazon].drop('amazon', axis=1).reset_index().drop('index', axis=1)\n",
    "amazon"
   ]
  }
 ],
 "metadata": {
  "kernelspec": {
   "display_name": "Python 3",
   "language": "python",
   "name": "python3"
  },
  "language_info": {
   "codemirror_mode": {
    "name": "ipython",
    "version": 3
   },
   "file_extension": ".py",
   "mimetype": "text/x-python",
   "name": "python",
   "nbconvert_exporter": "python",
   "pygments_lexer": "ipython3",
   "version": "3.8.8"
  }
 },
 "nbformat": 4,
 "nbformat_minor": 2
}
