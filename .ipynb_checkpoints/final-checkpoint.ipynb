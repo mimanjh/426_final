{
 "cells": [
  {
   "cell_type": "markdown",
   "metadata": {},
   "source": [
    "## Question of interest: What working scenario would give the best total compensation per year?"
   ]
  },
  {
   "cell_type": "code",
   "execution_count": 186,
   "metadata": {},
   "outputs": [],
   "source": [
    "# basic libraries\n",
    "import pandas as pd\n",
    "import numpy as np\n",
    "import seaborn as sns\n",
    "import matplotlib.pyplot as plt\n",
    "from sklearn.model_selection import train_test_split, cross_val_score\n",
    "import random"
   ]
  },
  {
   "cell_type": "code",
   "execution_count": 187,
   "metadata": {},
   "outputs": [],
   "source": [
    "## read in all 5 FAANG company data and combine them into one.\n",
    "facebook = pd.read_csv('data/facebook.csv')\n",
    "netflix = pd.read_csv('data/netflix.csv')\n",
    "amazon = pd.read_csv('data/amazon.csv')\n",
    "apple = pd.read_csv('data/apple.csv')\n",
    "gooogle = pd.read_csv('data/google.csv')\n",
    "\n",
    "arr = [facebook, netflix, amazon, apple, google]\n",
    "faang_eda = pd.concat(arr)"
   ]
  },
  {
   "cell_type": "code",
   "execution_count": 189,
   "metadata": {},
   "outputs": [
    {
     "data": {
      "text/plain": [
       "[Text(0.5, 0, 'Company'), Text(0, 0.5, 'Count')]"
      ]
     },
     "execution_count": 189,
     "metadata": {},
     "output_type": "execute_result"
    },
    {
     "data": {
      "image/png": "[encoded data removed]",
      "text/plain": [
       "<Figure size 432x288 with 1 Axes>"
      ]
     },
     "metadata": {
      "needs_background": "light"
     },
     "output_type": "display_data"
    }
   ],
   "source": [
    "## make count bar plot of companies\n",
    "comp = [facebook, netflix, amazon, apple, google]\n",
    "count = pd.concat(comp)\n",
    "\n",
    "df = count.groupby(\"company\").count().reset_index()\n",
    "comp_count = sns.barplot(x = \"company\", y = \"title\", data = df)\n",
    "comp_count.set(xlabel = 'Company', ylabel = 'Count')"
   ]
  },
  {
   "cell_type": "code",
   "execution_count": 153,
   "metadata": {},
   "outputs": [],
   "source": [
    "## randomly sample data frames\n",
    "\n",
    "# random.seed(1234)\n",
    "# amazon = ama.sample(n = 268)\n",
    "# apple = app.sample(n = 268)\n",
    "# google = go.sample(n = 268)\n",
    "# facebook = fb.sample(n = 268)\n",
    "\n",
    "# see size of company data frames\n",
    "# facebook.shape\n",
    "# netflix.shape\n",
    "# amazon.shape\n",
    "# apple.shape\n",
    "# google.shape"
   ]
  },
  {
   "cell_type": "markdown",
   "metadata": {},
   "source": [
    "## Additional data cleaning"
   ]
  },
  {
   "cell_type": "code",
   "execution_count": 190,
   "metadata": {},
   "outputs": [
    {
     "name": "stderr",
     "output_type": "stream",
     "text": [
      "<ipython-input-190-dc67da14b7ae>:7: SettingWithCopyWarning: \n",
      "A value is trying to be set on a copy of a slice from a DataFrame.\n",
      "Try using .loc[row_indexer,col_indexer] = value instead\n",
      "\n",
      "See the caveats in the documentation: https://pandas.pydata.org/pandas-docs/stable/user_guide/indexing.html#returning-a-view-versus-a-copy\n",
      "  ms_phd[\"Masters_Degree\"] = 0\n",
      "<ipython-input-190-dc67da14b7ae>:18: SettingWithCopyWarning: \n",
      "A value is trying to be set on a copy of a slice from a DataFrame.\n",
      "Try using .loc[row_indexer,col_indexer] = value instead\n",
      "\n",
      "See the caveats in the documentation: https://pandas.pydata.org/pandas-docs/stable/user_guide/indexing.html#returning-a-view-versus-a-copy\n",
      "  bs_ms[\"Bachelors_Degree\"] = 0\n"
     ]
    }
   ],
   "source": [
    "## cleaning of education variables\n",
    "\n",
    "## find duplicates of people with masters degree and doctorate degrees\n",
    "ms_phd = faang_eda[(faang_eda[\"Masters_Degree\"] == 1) & (faang_eda[\"Doctorate_Degree\"] == 1)]\n",
    "\n",
    "# change duplicates to zeros and only select the higher degree\n",
    "ms_phd[\"Masters_Degree\"] = 0\n",
    "phd = ms_phd\n",
    "\n",
    "# remove the duplicates and add on the higher degree\n",
    "faang_eda.drop(ms_phd.index, axis = 0)\n",
    "faang = pd.concat([faang_eda, phd])\n",
    "\n",
    "##  find duplicates of people with bachelors and masters degrees\n",
    "bs_ms = faang_eda[(faang_eda[\"Bachelors_Degree\"] == 1) & (faang_eda[\"Masters_Degree\"] == 1)]\n",
    "\n",
    "# change duplicates to zeros and only select the higher degree\n",
    "bs_ms[\"Bachelors_Degree\"] = 0\n",
    "ms = bs_ms\n",
    "\n",
    "# remove the duplicates and add on the higher degree\n",
    "faang_eda.drop(bs_ms.index, axis = 0)\n",
    "faang = pd.concat([faang_eda, ms])"
   ]
  },
  {
   "cell_type": "code",
   "execution_count": 191,
   "metadata": {},
   "outputs": [],
   "source": [
    "## drop other rows with zero values\n",
    "zerosalary = faang_eda[faang_eda[\"basesalary\"] == 0]\n",
    "faang_eda = faang_eda.drop(zerosalary.index, axis = 0)"
   ]
  },
  {
   "cell_type": "code",
   "execution_count": 192,
   "metadata": {},
   "outputs": [],
   "source": [
    "## create education column (\"undummy\" the variables)\n",
    "education = faang_eda[[\"Masters_Degree\", \"Bachelors_Degree\", \"Doctorate_Degree\", \"Highschool\", \"Some_College\"]].eq(1).idxmax(axis = 1)\n",
    "faang_eda[\"education\"] = education"
   ]
  },
  {
   "cell_type": "markdown",
   "metadata": {},
   "source": [
    "## Exploratory data analysis"
   ]
  },
  {
   "cell_type": "code",
   "execution_count": 140,
   "metadata": {},
   "outputs": [
    {
     "data": {
      "text/plain": [
       "Index(['company', 'title', 'totalyearlycompensation', 'location',\n",
       "       'yearsofexperience', 'yearsatcompany', 'basesalary', 'bonus',\n",
       "       'Masters_Degree', 'Bachelors_Degree', 'Doctorate_Degree', 'Highschool',\n",
       "       'Some_College'],\n",
       "      dtype='object')"
      ]
     },
     "execution_count": 140,
     "metadata": {},
     "output_type": "execute_result"
    }
   ],
   "source": [
    "faang_eda.columns"
   ]
  },
  {
   "cell_type": "code",
   "execution_count": 141,
   "metadata": {},
   "outputs": [
    {
     "data": {
      "text/plain": [
       "company                    0\n",
       "title                      0\n",
       "totalyearlycompensation    0\n",
       "location                   0\n",
       "yearsofexperience          0\n",
       "yearsatcompany             0\n",
       "basesalary                 0\n",
       "bonus                      0\n",
       "Masters_Degree             0\n",
       "Bachelors_Degree           0\n",
       "Doctorate_Degree           0\n",
       "Highschool                 0\n",
       "Some_College               0\n",
       "dtype: int64"
      ]
     },
     "execution_count": 141,
     "metadata": {},
     "output_type": "execute_result"
    }
   ],
   "source": [
    "faang_eda.isna().sum()"
   ]
  },
  {
   "cell_type": "code",
   "execution_count": 142,
   "metadata": {},
   "outputs": [
    {
     "data": {
      "text/html": [
       "<div>\n",
       "<style scoped>\n",
       "    .dataframe tbody tr th:only-of-type {\n",
       "        vertical-align: middle;\n",
       "    }\n",
       "\n",
       "    .dataframe tbody tr th {\n",
       "        vertical-align: top;\n",
       "    }\n",
       "\n",
       "    .dataframe thead th {\n",
       "        text-align: right;\n",
       "    }\n",
       "</style>\n",
       "<table border=\"1\" class=\"dataframe\">\n",
       "  <thead>\n",
       "    <tr style=\"text-align: right;\">\n",
       "      <th></th>\n",
       "      <th>totalyearlycompensation</th>\n",
       "      <th>yearsofexperience</th>\n",
       "      <th>yearsatcompany</th>\n",
       "      <th>basesalary</th>\n",
       "      <th>bonus</th>\n",
       "      <th>Masters_Degree</th>\n",
       "      <th>Bachelors_Degree</th>\n",
       "      <th>Doctorate_Degree</th>\n",
       "      <th>Highschool</th>\n",
       "      <th>Some_College</th>\n",
       "    </tr>\n",
       "  </thead>\n",
       "  <tbody>\n",
       "    <tr>\n",
       "      <th>count</th>\n",
       "      <td>1.260000e+03</td>\n",
       "      <td>1260.000000</td>\n",
       "      <td>1260.000000</td>\n",
       "      <td>1260.000000</td>\n",
       "      <td>1260.000000</td>\n",
       "      <td>1260.000000</td>\n",
       "      <td>1260.000000</td>\n",
       "      <td>1260.000000</td>\n",
       "      <td>1260.000000</td>\n",
       "      <td>1260.000000</td>\n",
       "    </tr>\n",
       "    <tr>\n",
       "      <th>mean</th>\n",
       "      <td>3.252167e+05</td>\n",
       "      <td>7.758730</td>\n",
       "      <td>2.283532</td>\n",
       "      <td>219156.507937</td>\n",
       "      <td>22270.714286</td>\n",
       "      <td>0.262698</td>\n",
       "      <td>0.169048</td>\n",
       "      <td>0.046825</td>\n",
       "      <td>0.003968</td>\n",
       "      <td>0.007143</td>\n",
       "    </tr>\n",
       "    <tr>\n",
       "      <th>std</th>\n",
       "      <td>1.999609e+05</td>\n",
       "      <td>5.596163</td>\n",
       "      <td>2.459908</td>\n",
       "      <td>142101.285563</td>\n",
       "      <td>30673.415313</td>\n",
       "      <td>0.440275</td>\n",
       "      <td>0.374943</td>\n",
       "      <td>0.211349</td>\n",
       "      <td>0.062894</td>\n",
       "      <td>0.084246</td>\n",
       "    </tr>\n",
       "    <tr>\n",
       "      <th>min</th>\n",
       "      <td>1.000000e+04</td>\n",
       "      <td>0.000000</td>\n",
       "      <td>0.000000</td>\n",
       "      <td>9000.000000</td>\n",
       "      <td>0.000000</td>\n",
       "      <td>0.000000</td>\n",
       "      <td>0.000000</td>\n",
       "      <td>0.000000</td>\n",
       "      <td>0.000000</td>\n",
       "      <td>0.000000</td>\n",
       "    </tr>\n",
       "    <tr>\n",
       "      <th>25%</th>\n",
       "      <td>2.050000e+05</td>\n",
       "      <td>4.000000</td>\n",
       "      <td>0.000000</td>\n",
       "      <td>140000.000000</td>\n",
       "      <td>0.000000</td>\n",
       "      <td>0.000000</td>\n",
       "      <td>0.000000</td>\n",
       "      <td>0.000000</td>\n",
       "      <td>0.000000</td>\n",
       "      <td>0.000000</td>\n",
       "    </tr>\n",
       "    <tr>\n",
       "      <th>50%</th>\n",
       "      <td>2.825000e+05</td>\n",
       "      <td>7.000000</td>\n",
       "      <td>2.000000</td>\n",
       "      <td>166000.000000</td>\n",
       "      <td>17000.000000</td>\n",
       "      <td>0.000000</td>\n",
       "      <td>0.000000</td>\n",
       "      <td>0.000000</td>\n",
       "      <td>0.000000</td>\n",
       "      <td>0.000000</td>\n",
       "    </tr>\n",
       "    <tr>\n",
       "      <th>75%</th>\n",
       "      <td>4.100000e+05</td>\n",
       "      <td>10.000000</td>\n",
       "      <td>3.000000</td>\n",
       "      <td>215000.000000</td>\n",
       "      <td>30000.000000</td>\n",
       "      <td>1.000000</td>\n",
       "      <td>0.000000</td>\n",
       "      <td>0.000000</td>\n",
       "      <td>0.000000</td>\n",
       "      <td>0.000000</td>\n",
       "    </tr>\n",
       "    <tr>\n",
       "      <th>max</th>\n",
       "      <td>4.490000e+06</td>\n",
       "      <td>40.000000</td>\n",
       "      <td>19.000000</td>\n",
       "      <td>893000.000000</td>\n",
       "      <td>555000.000000</td>\n",
       "      <td>1.000000</td>\n",
       "      <td>1.000000</td>\n",
       "      <td>1.000000</td>\n",
       "      <td>1.000000</td>\n",
       "      <td>1.000000</td>\n",
       "    </tr>\n",
       "  </tbody>\n",
       "</table>\n",
       "</div>"
      ],
      "text/plain": [
       "       totalyearlycompensation  yearsofexperience  yearsatcompany  \\\n",
       "count             1.260000e+03        1260.000000     1260.000000   \n",
       "mean              3.252167e+05           7.758730        2.283532   \n",
       "std               1.999609e+05           5.596163        2.459908   \n",
       "min               1.000000e+04           0.000000        0.000000   \n",
       "25%               2.050000e+05           4.000000        0.000000   \n",
       "50%               2.825000e+05           7.000000        2.000000   \n",
       "75%               4.100000e+05          10.000000        3.000000   \n",
       "max               4.490000e+06          40.000000       19.000000   \n",
       "\n",
       "          basesalary          bonus  Masters_Degree  Bachelors_Degree  \\\n",
       "count    1260.000000    1260.000000     1260.000000       1260.000000   \n",
       "mean   219156.507937   22270.714286        0.262698          0.169048   \n",
       "std    142101.285563   30673.415313        0.440275          0.374943   \n",
       "min      9000.000000       0.000000        0.000000          0.000000   \n",
       "25%    140000.000000       0.000000        0.000000          0.000000   \n",
       "50%    166000.000000   17000.000000        0.000000          0.000000   \n",
       "75%    215000.000000   30000.000000        1.000000          0.000000   \n",
       "max    893000.000000  555000.000000        1.000000          1.000000   \n",
       "\n",
       "       Doctorate_Degree   Highschool  Some_College  \n",
       "count       1260.000000  1260.000000   1260.000000  \n",
       "mean           0.046825     0.003968      0.007143  \n",
       "std            0.211349     0.062894      0.084246  \n",
       "min            0.000000     0.000000      0.000000  \n",
       "25%            0.000000     0.000000      0.000000  \n",
       "50%            0.000000     0.000000      0.000000  \n",
       "75%            0.000000     0.000000      0.000000  \n",
       "max            1.000000     1.000000      1.000000  "
      ]
     },
     "execution_count": 142,
     "metadata": {},
     "output_type": "execute_result"
    }
   ],
   "source": [
    "faang_eda.describe()"
   ]
  },
  {
   "cell_type": "code",
   "execution_count": 157,
   "metadata": {},
   "outputs": [
    {
     "data": {
      "text/plain": [
       "[Text(0.5, 0, 'Company'), Text(0, 0.5, 'Total Yearly Compensation ($)')]"
      ]
     },
     "execution_count": 157,
     "metadata": {},
     "output_type": "execute_result"
    },
    {
     "data": {
      "image/png": "[encoded data removed]",
      "text/plain": [
       "<Figure size 432x288 with 1 Axes>"
      ]
     },
     "metadata": {
      "needs_background": "light"
     },
     "output_type": "display_data"
    }
   ],
   "source": [
    "## bar plot of total yearly compensation and companies\n",
    "company_plt = sns.barplot(x = \"company\", y = \"totalyearlycompensation\", data = faang_eda, ci = None)\n",
    "company_plt.set(xlabel = 'Company', ylabel = 'Total Yearly Compensation ($)')\n",
    "\n",
    "# plt.savefig('figures/compensation-companies-plot.png')"
   ]
  },
  {
   "cell_type": "code",
   "execution_count": 159,
   "metadata": {},
   "outputs": [
    {
     "name": "stderr",
     "output_type": "stream",
     "text": [
      "<ipython-input-159-6f6329028ad0>:8: UserWarning: FixedFormatter should only be used together with FixedLocator\n",
      "  yrs_exp_plt.set_yticklabels(['0', '0', '100000', '200000', '300000', '400000', '500000'])\n"
     ]
    },
    {
     "data": {
      "text/plain": [
       "[Text(0.5, 0, 'Years of Experience'),\n",
       " Text(0, 0.5, 'Total Yearly Compensation ($)')]"
      ]
     },
     "execution_count": 159,
     "metadata": {},
     "output_type": "execute_result"
    },
    {
     "data": {
      "image/png": "[encoded data removed]",
      "text/plain": [
       "<Figure size 432x288 with 1 Axes>"
      ]
     },
     "metadata": {
      "needs_background": "light"
     },
     "output_type": "display_data"
    }
   ],
   "source": [
    "## years of experience vs total yearly compensation plot\n",
    "\n",
    "# create plot\n",
    "yrs_exp_plt = sns.scatterplot(x = \"yearsofexperience\", y = \"totalyearlycompensation\", data = faang_eda, ci = None, \n",
    "                hue = \"company\")\n",
    "\n",
    "# set axis ticks, legend position and axis labels\n",
    "yrs_exp_plt.set_yticklabels(['0', '0', '100000', '200000', '300000', '400000', '500000'])\n",
    "plt.legend(bbox_to_anchor = (1.02, 1), loc = 'upper left', borderaxespad = 0)\n",
    "yrs_exp_plt.set(xlabel = 'Years of Experience', ylabel = 'Total Yearly Compensation ($)')\n",
    "\n",
    "# save figure\n",
    "# plt.savefig('figures/yrs-exp-plot.png')"
   ]
  },
  {
   "cell_type": "code",
   "execution_count": 160,
   "metadata": {},
   "outputs": [
    {
     "data": {
      "text/plain": [
       "<matplotlib.legend.Legend at 0x1280163d0>"
      ]
     },
     "execution_count": 160,
     "metadata": {},
     "output_type": "execute_result"
    },
    {
     "data": {
      "image/png": "[encoded data removed]",
      "text/plain": [
       "<Figure size 432x288 with 1 Axes>"
      ]
     },
     "metadata": {
      "needs_background": "light"
     },
     "output_type": "display_data"
    }
   ],
   "source": [
    "## scatter plot of years at company vs total yearly compensation\n",
    "\n",
    "# create plot\n",
    "sns.scatterplot(x = \"yearsatcompany\", y = \"totalyearlycompensation\", data = faang_eda, ci = None, hue = \"company\")\n",
    "\n",
    "# set legend location\n",
    "plt.legend(bbox_to_anchor = (1.02, 1), loc = 'upper left', borderaxespad = 0)"
   ]
  },
  {
   "cell_type": "code",
   "execution_count": 161,
   "metadata": {},
   "outputs": [
    {
     "data": {
      "text/plain": [
       "<matplotlib.legend.Legend at 0x127f4b070>"
      ]
     },
     "execution_count": 161,
     "metadata": {},
     "output_type": "execute_result"
    },
    {
     "data": {
      "image/png": "[encoded data removed]",
      "text/plain": [
       "<Figure size 432x288 with 1 Axes>"
      ]
     },
     "metadata": {
      "needs_background": "light"
     },
     "output_type": "display_data"
    }
   ],
   "source": [
    "## education vs total yearly compensation plot\n",
    "\n",
    "# create education column (\"undummy\" the variables)\n",
    "education = faang_eda[[\"Masters_Degree\", \"Bachelors_Degree\", \"Doctorate_Degree\", \"Highschool\", \"Some_College\"]].eq(1).idxmax(axis = 1)\n",
    "faang_eda[\"education\"] = education\n",
    "\n",
    "# create education plot\n",
    "edu_plt = sns.barplot(x = \"education\", y = \"totalyearlycompensation\", data = faang_eda, ci = None, hue = \"company\",\n",
    "                     order = [\"Highschool\", \"Some_College\", \"Bachelors_Degree\", \"Masters_Degree\", \"Doctorate_Degree\"])\n",
    "\n",
    "# change x ticks labels, rename axis labels and change legend location\n",
    "edu_plt.set_xticklabels(['High School','Some College', 'BS', 'MS','PhD'])\n",
    "edu_plt.set(xlabel = 'Education', ylabel = 'Total Yearly Compensation ($)')\n",
    "plt.legend(bbox_to_anchor = (1.02, 1), loc = 'upper left', borderaxespad = 0)\n",
    "\n",
    "# save plot\n",
    "# plt.savefig('figures/edu-compensation-plot.png')"
   ]
  },
  {
   "cell_type": "code",
   "execution_count": 162,
   "metadata": {},
   "outputs": [
    {
     "data": {
      "text/plain": [
       "<AxesSubplot:xlabel='totalyearlycompensation', ylabel='Count'>"
      ]
     },
     "execution_count": 162,
     "metadata": {},
     "output_type": "execute_result"
    },
    {
     "data": {
      "image/png": "[encoded data removed]",
      "text/plain": [
       "<Figure size 432x288 with 1 Axes>"
      ]
     },
     "metadata": {
      "needs_background": "light"
     },
     "output_type": "display_data"
    }
   ],
   "source": [
    "## histogram of yearly total compensation\n",
    "sns.histplot(x = \"totalyearlycompensation\", data = faang)"
   ]
  },
  {
   "cell_type": "markdown",
   "metadata": {},
   "source": [
    "## Create train and test."
   ]
  },
  {
   "cell_type": "code",
   "execution_count": 163,
   "metadata": {},
   "outputs": [
    {
     "data": {
      "text/plain": [
       "Index(['company', 'title', 'totalyearlycompensation', 'location',\n",
       "       'yearsofexperience', 'yearsatcompany', 'basesalary', 'bonus',\n",
       "       'Masters_Degree', 'Bachelors_Degree', 'Doctorate_Degree', 'Highschool',\n",
       "       'Some_College', 'education'],\n",
       "      dtype='object')"
      ]
     },
     "execution_count": 163,
     "metadata": {},
     "output_type": "execute_result"
    }
   ],
   "source": [
    "faang_eda.columns"
   ]
  },
  {
   "cell_type": "code",
   "execution_count": 164,
   "metadata": {},
   "outputs": [
    {
     "data": {
      "text/plain": [
       "Index(['company', 'title', 'totalyearlycompensation', 'yearsofexperience',\n",
       "       'yearsatcompany', 'basesalary', 'bonus', 'Masters_Degree',\n",
       "       'Bachelors_Degree', 'Doctorate_Degree', 'Highschool', 'Some_College'],\n",
       "      dtype='object')"
      ]
     },
     "execution_count": 164,
     "metadata": {},
     "output_type": "execute_result"
    }
   ],
   "source": [
    "# create modified data frame for analysis\n",
    "faang = faang_eda.drop([\"location\", \"education\"], axis = 1)\n",
    "faang.columns"
   ]
  },
  {
   "cell_type": "code",
   "execution_count": 165,
   "metadata": {},
   "outputs": [],
   "source": [
    "# select X variables\n",
    "X = faang.drop(\"totalyearlycompensation\", axis = 1)\n",
    "y = faang[\"totalyearlycompensation\"]\n",
    "\n",
    "# create train and test datasets\n",
    "X_train, X_test, y_train, y_test = train_test_split(faang, y, test_size = .25, random_state = 1234)"
   ]
  },
  {
   "cell_type": "markdown",
   "metadata": {},
   "source": [
    "## Different modeling methods"
   ]
  },
  {
   "cell_type": "code",
   "execution_count": 166,
   "metadata": {},
   "outputs": [],
   "source": [
    "# sklearn modeling libraries\n",
    "from sklearn.preprocessing import PolynomialFeatures, OneHotEncoder, MinMaxScaler, StandardScaler\n",
    "from sklearn.pipeline import Pipeline\n",
    "from sklearn.model_selection import cross_val_score, GridSearchCV\n",
    "from sklearn.impute import SimpleImputer\n",
    "from sklearn.linear_model import LinearRegression, Lasso, LogisticRegression\n",
    "from sklearn.neighbors import KNeighborsRegressor\n",
    "from sklearn.tree import DecisionTreeRegressor\n",
    "from sklearn.metrics import mean_squared_error\n",
    "from sklearn.compose import ColumnTransformer\n",
    "from sklearn.naive_bayes import MultinomialNB\n",
    "from sklearn.ensemble import RandomForestClassifier, GradientBoostingClassifier\n",
    "import numpy as np"
   ]
  },
  {
   "cell_type": "code",
   "execution_count": 167,
   "metadata": {},
   "outputs": [],
   "source": [
    "# transform data\n",
    "#  Numerical features\n",
    "numeric_features = X.select_dtypes(exclude='object').columns\n",
    "\n",
    "#  Categorical features\n",
    "categorical_features = X.select_dtypes('object').columns\n",
    "# steps for the numeric data are 1. impute missing values, 2. Scale the data to be between 0 and 1\n",
    "numeric_transformer = Pipeline(steps=[\n",
    "    ('imputer', SimpleImputer(strategy='mean')),\n",
    "    #('scaler', MinMaxScaler()),\n",
    "    ('scaler', StandardScaler())])\n",
    "# steps for the categorical data are 1. fill missing values with the word missing and 2. Make the dummy variables with one hot encoding\n",
    "categorical_transformer = Pipeline(steps=[\n",
    "    ('imputer', SimpleImputer(strategy='constant', fill_value='missing')),\n",
    "    ('onehot', OneHotEncoder(handle_unknown='ignore'))])\n",
    "\n",
    "# Use ColumnTransformer to perform the various processing steps for each type of variable.  \n",
    "preprocessor = ColumnTransformer(\n",
    "    transformers=[\n",
    "        ('num', numeric_transformer, numeric_features),\n",
    "        ('cat', categorical_transformer, categorical_features)])"
   ]
  },
  {
   "cell_type": "code",
   "execution_count": 19,
   "metadata": {},
   "outputs": [],
   "source": [
    "# get appropriate tuning parameters using GridSearchCV\n",
    "#############################################\n",
    "# this takes a really long time to run.\n",
    "#############################################\n",
    "# # lm\n",
    "# pipe_lm_gs = Pipeline(\n",
    "#     [('preprocessor', preprocessor),\n",
    "#      ('poly', PolynomialFeatures()),\n",
    "#      ('lm', LinearRegression())])\n",
    "# param_grid = [{'poly__degree':[1,2,3]}]\n",
    "# gs_lm = GridSearchCV(pipe_lm_gs, param_grid, scoring='neg_mean_squared_error')\n",
    "# gs_lm.fit(X_train, y_train)\n",
    "# # knn\n",
    "# pipe_knn_gs = Pipeline(\n",
    "#     [('preprocessor', preprocessor),\n",
    "#      ('poly', PolynomialFeatures()),\n",
    "#      ('knn', KNeighborsRegressor())])\n",
    "# param_grid = [{'knn__n_neighbors': list(range(1,10)), 'poly__degree':[1,2,3]}]\n",
    "# gs_knn = GridSearchCV(pipe_knn_gs, param_grid, scoring='neg_mean_squared_error')\n",
    "# gs_knn.fit(X_train, y_train)\n",
    "# # lasso\n",
    "# pipe_lasso_gs = Pipeline(\n",
    "#     [('preprocessor', preprocessor),\n",
    "#      ('poly', PolynomialFeatures()),\n",
    "#      ('lasso', Lasso())])\n",
    "# param_grid = [{'poly__degree':[1,2,3]}]\n",
    "# gs_lasso = GridSearchCV(pipe_lasso_gs, param_grid, scoring='neg_mean_squared_error')\n",
    "# gs_lasso.fit(X_train, y_train)\n",
    "# # tree\n",
    "# pipe_tree_gs = Pipeline(\n",
    "#     [('preprocessor', preprocessor),\n",
    "#      ('poly', PolynomialFeatures()),\n",
    "#      ('tree', DecisionTreeRegressor())])\n",
    "# param_grid = [{'tree__min_samples_leaf': list(range(1,10))}, {'poly__degree':[1,2,3]}]\n",
    "# gs_tree = GridSearchCV(pipe_tree_gs, param_grid, scoring='neg_mean_squared_error')\n",
    "# gs_tree.fit(X_train, y_train)\n",
    "\n",
    "# print('lm: ', gs_lm.best_params_)\n",
    "# print('knn: ', gs_knn.best_params_)\n",
    "# print('lasso: ', gs_lasso.best_params_)\n",
    "# print('tree: ', gs_tree.best_params_)"
   ]
  },
  {
   "cell_type": "code",
   "execution_count": 172,
   "metadata": {},
   "outputs": [
    {
     "name": "stderr",
     "output_type": "stream",
     "text": [
      "/Users/emilyiliu/opt/anaconda3/lib/python3.8/site-packages/pandas/core/arraylike.py:358: RuntimeWarning: invalid value encountered in log\n",
      "  result = getattr(ufunc, method)(*inputs, **kwargs)\n"
     ]
    },
    {
     "data": {
      "text/plain": [
       "89937.57766133329"
      ]
     },
     "execution_count": 172,
     "metadata": {},
     "output_type": "execute_result"
    }
   ],
   "source": [
    "# linear regression model\n",
    "faang[\"totalyearlycompensation\"] = np.log(faang[\"totalyearlycompensation\"])\n",
    "faang[\"basesalary\"] = np.log(faang[\"basesalary\"])\n",
    "faang[\"bonus\"] = np.log(faang[\"bonus\"])\n",
    "\n",
    "lm_pipe = Pipeline([('preprocessor', preprocessor),\n",
    "                    ('poly', PolynomialFeatures(degree = 1, interaction_only = False)),\n",
    "                    ('lm', LinearRegression())\n",
    "                    ])\n",
    "# lm_pipe = Pipeline([('poly', PolynomialFeatures(degree = 2, interaction_only = True)),\n",
    "#                     ('imputer', SimpleImputer(strategy='mean')),\n",
    "#                     ('ss', StandardScaler()),\n",
    "#                     ('lm', LinearRegression()),\n",
    "#                     ('onehot', OneHotEncoder(handle_unknown='ignore'))\n",
    "#                     ])\n",
    "\n",
    "# create linear regression model\n",
    "lm_pipe.fit(X_train, y_train)\n",
    "lm_preds = lm_pipe.predict(X_test)\n",
    "# calculate model metrics\n",
    "rmse_lm = mean_squared_error(y_test, lm_preds, squared = False)\n",
    "score_lm = np.mean(cross_val_score(lm_pipe, X_train, y_train, cv=10, scoring='neg_root_mean_squared_error'))*(-1)\n",
    "score_lm"
   ]
  },
  {
   "cell_type": "code",
   "execution_count": 174,
   "metadata": {},
   "outputs": [
    {
     "data": {
      "text/plain": [
       "101740.36062626154"
      ]
     },
     "execution_count": 174,
     "metadata": {},
     "output_type": "execute_result"
    }
   ],
   "source": [
    "# knn model\n",
    "knn_pipe = Pipeline([('preprocessor', preprocessor),\n",
    "                     ('poly', PolynomialFeatures(degree = 1, interaction_only = False)),\n",
    "                     ('knn', KNeighborsRegressor(n_neighbors = 9))\n",
    "                     ])\n",
    "\n",
    "# create k-nearest neighbors model\n",
    "knn_pipe.fit(X_train, y_train)\n",
    "knn_preds = knn_pipe.predict(X_test)\n",
    "# calculate model metrics\n",
    "rmse_knn = mean_squared_error(y_test, knn_preds, squared=False)\n",
    "score_knn = np.mean(cross_val_score(knn_pipe, X_train, y_train, cv=10, scoring='neg_root_mean_squared_error'))*(-1)\n",
    "score_knn"
   ]
  },
  {
   "cell_type": "code",
   "execution_count": 175,
   "metadata": {},
   "outputs": [
    {
     "name": "stderr",
     "output_type": "stream",
     "text": [
      "/Users/emilyiliu/opt/anaconda3/lib/python3.8/site-packages/sklearn/linear_model/_coordinate_descent.py:530: ConvergenceWarning: Objective did not converge. You might want to increase the number of iterations. Duality gap: 1362577582029.1826, tolerance: 3339392066.929548\n",
      "  model = cd_fast.enet_coordinate_descent(\n",
      "/Users/emilyiliu/opt/anaconda3/lib/python3.8/site-packages/sklearn/linear_model/_coordinate_descent.py:530: ConvergenceWarning: Objective did not converge. You might want to increase the number of iterations. Duality gap: 1210704801739.6838, tolerance: 3085486636.725147\n",
      "  model = cd_fast.enet_coordinate_descent(\n",
      "/Users/emilyiliu/opt/anaconda3/lib/python3.8/site-packages/sklearn/linear_model/_coordinate_descent.py:530: ConvergenceWarning: Objective did not converge. You might want to increase the number of iterations. Duality gap: 1170254459014.3264, tolerance: 3030500446.933411\n",
      "  model = cd_fast.enet_coordinate_descent(\n",
      "/Users/emilyiliu/opt/anaconda3/lib/python3.8/site-packages/sklearn/linear_model/_coordinate_descent.py:530: ConvergenceWarning: Objective did not converge. You might want to increase the number of iterations. Duality gap: 1259969960370.474, tolerance: 3110516847.400701\n",
      "  model = cd_fast.enet_coordinate_descent(\n",
      "/Users/emilyiliu/opt/anaconda3/lib/python3.8/site-packages/sklearn/linear_model/_coordinate_descent.py:530: ConvergenceWarning: Objective did not converge. You might want to increase the number of iterations. Duality gap: 1183714960312.964, tolerance: 3093504674.7371492\n",
      "  model = cd_fast.enet_coordinate_descent(\n",
      "/Users/emilyiliu/opt/anaconda3/lib/python3.8/site-packages/sklearn/linear_model/_coordinate_descent.py:530: ConvergenceWarning: Objective did not converge. You might want to increase the number of iterations. Duality gap: 1160170100482.2783, tolerance: 3003682573.8025703\n",
      "  model = cd_fast.enet_coordinate_descent(\n",
      "/Users/emilyiliu/opt/anaconda3/lib/python3.8/site-packages/sklearn/linear_model/_coordinate_descent.py:530: ConvergenceWarning: Objective did not converge. You might want to increase the number of iterations. Duality gap: 1141795840963.0315, tolerance: 3101806866.55958\n",
      "  model = cd_fast.enet_coordinate_descent(\n",
      "/Users/emilyiliu/opt/anaconda3/lib/python3.8/site-packages/sklearn/linear_model/_coordinate_descent.py:530: ConvergenceWarning: Objective did not converge. You might want to increase the number of iterations. Duality gap: 651446734265.8356, tolerance: 2662308865.858645\n",
      "  model = cd_fast.enet_coordinate_descent(\n",
      "/Users/emilyiliu/opt/anaconda3/lib/python3.8/site-packages/sklearn/linear_model/_coordinate_descent.py:530: ConvergenceWarning: Objective did not converge. You might want to increase the number of iterations. Duality gap: 1216801949022.9856, tolerance: 3051681888.7558417\n",
      "  model = cd_fast.enet_coordinate_descent(\n",
      "/Users/emilyiliu/opt/anaconda3/lib/python3.8/site-packages/sklearn/linear_model/_coordinate_descent.py:530: ConvergenceWarning: Objective did not converge. You might want to increase the number of iterations. Duality gap: 1267013218620.9941, tolerance: 2769206720.0642524\n",
      "  model = cd_fast.enet_coordinate_descent(\n",
      "/Users/emilyiliu/opt/anaconda3/lib/python3.8/site-packages/sklearn/linear_model/_coordinate_descent.py:530: ConvergenceWarning: Objective did not converge. You might want to increase the number of iterations. Duality gap: 1211302541322.7485, tolerance: 3144283340.8586445\n",
      "  model = cd_fast.enet_coordinate_descent(\n"
     ]
    },
    {
     "data": {
      "text/plain": [
       "293713.42900075356"
      ]
     },
     "execution_count": 175,
     "metadata": {},
     "output_type": "execute_result"
    }
   ],
   "source": [
    "#############################################\n",
    "# this takes a really long time to run.\n",
    "#############################################\n",
    "# lasso model\n",
    "lasso_pipe = Pipeline([('preprocessor', preprocessor),\n",
    "                    ('poly', PolynomialFeatures(degree = 2, interaction_only = False)),\n",
    "                    ('lasso', Lasso())\n",
    "                    ])\n",
    "\n",
    "# create linear regression model\n",
    "lasso_pipe.fit(X_train, y_train)\n",
    "lasso_preds = lasso_pipe.predict(X_test)\n",
    "# calculate model metrics\n",
    "rmse_lasso = mean_squared_error(y_test, lasso_preds, squared=False)\n",
    "score_lasso = np.mean(cross_val_score(lasso_pipe, X_train, y_train, cv=10, scoring='neg_root_mean_squared_error'))*(-1)\n",
    "score_lasso"
   ]
  },
  {
   "cell_type": "code",
   "execution_count": 176,
   "metadata": {},
   "outputs": [
    {
     "data": {
      "text/plain": [
       "89821.93858913935"
      ]
     },
     "execution_count": 176,
     "metadata": {},
     "output_type": "execute_result"
    }
   ],
   "source": [
    "# decision tree model with polynomial features\n",
    "tree_pipe = Pipeline([('preprocessor', preprocessor),\n",
    "                    ('poly', PolynomialFeatures(degree = 2, interaction_only = False)),\n",
    "                    ('tree', DecisionTreeRegressor(min_samples_leaf= 8))\n",
    "                    ])\n",
    "\n",
    "# create linear regression model\n",
    "tree_pipe.fit(X_train, y_train) # create model\n",
    "tree_preds = tree_pipe.predict(X_test)\n",
    "# calculate model metrics\n",
    "rmse_tree = mean_squared_error(y_test, tree_preds, squared=False)\n",
    "score_tree = np.mean(cross_val_score(tree_pipe, X_train, y_train, cv=10, scoring='neg_root_mean_squared_error'))*(-1)\n",
    "score_tree"
   ]
  },
  {
   "cell_type": "code",
   "execution_count": null,
   "metadata": {},
   "outputs": [],
   "source": [
    "# naive bayes is for texts.\n",
    "# multinomial naive bayes model with polynomial features\n",
    "\n",
    "# nb_pipe = Pipeline([('preprocessor', preprocessor),\n",
    "#                     ('poly', PolynomialFeatures(degree = 2, interaction_only = True)),\n",
    "#                     ('nb', MultinomialNB())\n",
    "#                     ])\n",
    "# # create nb model\n",
    "# nb_pipe.fit(X_train, y_train)\n",
    "\n",
    "# # create predictions\n",
    "# nb_preds = nb_pipe.predict(X_test)\n",
    "\n",
    "# # calculate model metrics\n",
    "# nb_precision = precision_score(y_test, nb_preds)\n",
    "# nb_recall = recall_score(y_test, nb_preds)\n",
    "# nb_f1 = 2 * (nb_precision * nb_recall) / (nb_precision + nb_recall)\n",
    "\n",
    "# nb_accuracy = accuracy_score(y_test, nb_preds)\n",
    "# nb_scor = mean_squared_error(y_test, nb_preds, squared=False)\n",
    "\n",
    "# # cross validation score\n",
    "# nb_score = np.mean(cross_val_score(nb_pipe, X_train, y_train, cv=10, scoring='neg_root_mean_squared_error'))"
   ]
  },
  {
   "cell_type": "code",
   "execution_count": 66,
   "metadata": {},
   "outputs": [
    {
     "name": "stderr",
     "output_type": "stream",
     "text": [
      "C:\\Users\\jacob\\AppData\\Local\\Programs\\Python\\Python39\\lib\\site-packages\\sklearn\\model_selection\\_split.py:676: UserWarning: The least populated class in y has only 1 members, which is less than n_splits=10.\n",
      "  warnings.warn(\n"
     ]
    }
   ],
   "source": [
    "# #############################################\n",
    "# # this takes a really long time to run. Too long. Gone for 30 minutes.\n",
    "# #############################################\n",
    "# # logistic regression with polynomial features\n",
    "# lr_pipe = Pipeline([('preprocessor', preprocessor),\n",
    "#                     ('poly', PolynomialFeatures(degree = 2, interaction_only = True)),\n",
    "#                     ('lr', LogisticRegression(solver = 'liblinear', C = 1))\n",
    "#                     ])\n",
    "\n",
    "# # create logistic regression model\n",
    "# lr_pipe.fit(X_train, y_train)\n",
    "# logreg_preds = lr_pipe.predict(X_test)\n",
    "# # calculate model metrics\n",
    "# rmse_logreg = mean_squared_error(y_test, logreg_preds, squared=False)\n",
    "# score_logreg = np.mean(cross_val_score(lr_pipe, X_train, y_train, cv=10, scoring='neg_root_mean_squared_error'))*(-1)"
   ]
  },
  {
   "cell_type": "code",
   "execution_count": 178,
   "metadata": {},
   "outputs": [
    {
     "name": "stderr",
     "output_type": "stream",
     "text": [
      "/Users/emilyiliu/opt/anaconda3/lib/python3.8/site-packages/sklearn/model_selection/_split.py:666: UserWarning: The least populated class in y has only 1 members, which is less than n_splits=10.\n",
      "  warnings.warn((\"The least populated class in y has only %d\"\n"
     ]
    },
    {
     "data": {
      "text/plain": [
       "158477.4653638617"
      ]
     },
     "execution_count": 178,
     "metadata": {},
     "output_type": "execute_result"
    }
   ],
   "source": [
    "# forest model \n",
    "forest_pipe = Pipeline([('preprocessor', preprocessor),\n",
    "                     ('poly', PolynomialFeatures(degree = 1, interaction_only = False)),\n",
    "                     ('forest', RandomForestClassifier(n_estimators = 100, n_jobs = -1, max_depth = 1))\n",
    "                     ])\n",
    "\n",
    "# create forest model\n",
    "forest_pipe.fit(X_train, y_train)\n",
    "forest_preds = forest_pipe.predict(X_test)\n",
    "# calculate model metrics\n",
    "rmse_forest = mean_squared_error(y_test, forest_preds, squared=False)\n",
    "score_forest = np.mean(cross_val_score(forest_pipe, X_train, y_train, cv=10, scoring='neg_root_mean_squared_error'))*(-1)\n",
    "score_forest"
   ]
  },
  {
   "cell_type": "code",
   "execution_count": 179,
   "metadata": {},
   "outputs": [
    {
     "name": "stderr",
     "output_type": "stream",
     "text": [
      "/Users/emilyiliu/opt/anaconda3/lib/python3.8/site-packages/sklearn/model_selection/_split.py:666: UserWarning: The least populated class in y has only 1 members, which is less than n_splits=10.\n",
      "  warnings.warn((\"The least populated class in y has only %d\"\n"
     ]
    },
    {
     "data": {
      "text/plain": [
       "178089.7550204951"
      ]
     },
     "execution_count": 179,
     "metadata": {},
     "output_type": "execute_result"
    }
   ],
   "source": [
    "#############################################\n",
    "# this takes a really long time to run. Gone for 15 minutes.\n",
    "#############################################\n",
    "# gradient boosting model\n",
    "gb_pipe = Pipeline([('preprocessor', preprocessor),\n",
    "                     ('poly', PolynomialFeatures(degree = 1, interaction_only = False)),\n",
    "                     ('gb', GradientBoostingClassifier(n_estimators = 100, learning_rate = 0.1))\n",
    "                     ])\n",
    "\n",
    "# create predictions\n",
    "gb_pipe.fit(X_train, y_train)\n",
    "gb_preds = gb_pipe.predict(X_test)\n",
    "# calculate model metrics\n",
    "rmse_gb = mean_squared_error(y_test, gb_preds, squared=False)\n",
    "score_gb = np.mean(cross_val_score(gb_pipe, X_train, y_train, cv=10, scoring='neg_root_mean_squared_error'))*(-1)\n",
    "score_gb"
   ]
  },
  {
   "cell_type": "code",
   "execution_count": 29,
   "metadata": {},
   "outputs": [
    {
     "name": "stdout",
     "output_type": "stream",
     "text": [
      "Linear Model:\n",
      "rmse:  115850.87805185106\n",
      "cv:  76132.76622745625\n",
      " \n",
      "KNN Model:\n",
      "rmse:  111068.3536546687\n",
      "cv:  76920.53895281689\n",
      " \n",
      "Lasso:\n",
      "rmse:  95333.6962150018\n",
      "cv:  70303.96179300183\n",
      " \n",
      "Tree Regressor:\n",
      "rmse:  109082.20714399923\n",
      "cv:  77367.75972068521\n",
      " \n",
      "Forest:\n",
      "rmse:  178993.41907161265\n",
      "cv:  138933.65444629622\n",
      " \n"
     ]
    }
   ],
   "source": [
    "# results from various models\n",
    "print('Linear Model:')\n",
    "print('rmse: ', rmse_lm)\n",
    "print('cv: ', score_lm)\n",
    "print(' ')\n",
    "\n",
    "print('KNN Model:')\n",
    "print('rmse: ', rmse_knn)\n",
    "print('cv: ', score_knn)\n",
    "print(' ')\n",
    "\n",
    "print('Lasso:')\n",
    "print('rmse: ', rmse_lasso)\n",
    "print('cv: ', score_lasso)\n",
    "print(' ')\n",
    "\n",
    "print('Tree Regressor:')\n",
    "print('rmse: ', rmse_tree)\n",
    "print('cv: ', score_tree)\n",
    "print(' ')\n",
    "\n",
    "# print('Logistic Regression:')\n",
    "# print('rmse: ', rmse_logreg)\n",
    "# print('cv: ', score_logreg)\n",
    "# print(' ')\n",
    "\n",
    "print('Forest:')\n",
    "print('rmse: ', rmse_forest)\n",
    "print('cv: ', score_forest)\n",
    "print(' ')\n",
    "\n",
    "# print('Gradient Boosting:')\n",
    "# print('rmse: ', rmse_gb)\n",
    "# print('cv: ', score_gb)"
   ]
  },
  {
   "cell_type": "markdown",
   "metadata": {},
   "source": [
    "From what I could observe, it looks like the Lasso model with 10 cross validation score has the best result."
   ]
  },
  {
   "cell_type": "code",
   "execution_count": null,
   "metadata": {},
   "outputs": [],
   "source": []
  },
  {
   "cell_type": "code",
   "execution_count": null,
   "metadata": {},
   "outputs": [],
   "source": []
  }
 ],
 "metadata": {
  "kernelspec": {
   "display_name": "Python 3",
   "language": "python",
   "name": "python3"
  },
  "language_info": {
   "codemirror_mode": {
    "name": "ipython",
    "version": 3
   },
   "file_extension": ".py",
   "mimetype": "text/x-python",
   "name": "python",
   "nbconvert_exporter": "python",
   "pygments_lexer": "ipython3",
   "version": "3.8.8"
  }
 },
 "nbformat": 4,
 "nbformat_minor": 2
}
