{
 "cells": [
  {
   "cell_type": "markdown",
   "metadata": {},
   "source": [
    "## Question of interest: What working scenario would give the best total compensation per year?"
   ]
  },
  {
   "cell_type": "code",
   "execution_count": 301,
   "metadata": {},
   "outputs": [],
   "source": [
    "# basic libraries\n",
    "import pandas as pd\n",
    "import numpy as np\n",
    "import seaborn as sns\n",
    "import matplotlib.pyplot as plt\n",
    "from sklearn.model_selection import train_test_split, cross_val_score\n",
    "# import random"
   ]
  },
  {
   "cell_type": "code",
   "execution_count": 302,
   "metadata": {},
   "outputs": [],
   "source": [
    "## read in all 5 FAANG company data and combine them into one.\n",
    "facebook = pd.read_csv('data/facebook.csv')\n",
    "netflix = pd.read_csv('data/netflix.csv')\n",
    "amazon = pd.read_csv('data/amazon.csv')\n",
    "apple = pd.read_csv('data/apple.csv')\n",
    "gooogle = pd.read_csv('data/google.csv')\n",
    "\n",
    "arr = [facebook, netflix, amazon, apple, google]\n",
    "faang_eda = pd.concat(arr)"
   ]
  },
  {
   "cell_type": "code",
   "execution_count": 303,
   "metadata": {},
   "outputs": [
    {
     "data": {
      "text/plain": [
       "[Text(0.5, 0, 'Company'), Text(0, 0.5, 'Count')]"
      ]
     },
     "execution_count": 303,
     "metadata": {},
     "output_type": "execute_result"
    },
    {
     "data": {
      "image/png": "[encoded data removed]",
      "text/plain": [
       "<Figure size 432x288 with 1 Axes>"
      ]
     },
     "metadata": {
      "needs_background": "light"
     },
     "output_type": "display_data"
    }
   ],
   "source": [
    "## make count bar plot of companies\n",
    "comp = [facebook, netflix, amazon, apple, google]\n",
    "count = pd.concat(comp)\n",
    "\n",
    "df = count.groupby(\"company\").count().reset_index()\n",
    "comp_count = sns.barplot(x = \"company\", y = \"title\", data = df)\n",
    "comp_count.set(xlabel = 'Company', ylabel = 'Count')"
   ]
  },
  {
   "cell_type": "code",
   "execution_count": 153,
   "metadata": {},
   "outputs": [],
   "source": [
    "## randomly sample data frames\n",
    "\n",
    "# random.seed(1234)\n",
    "# amazon = ama.sample(n = 268)\n",
    "# apple = app.sample(n = 268)\n",
    "# google = go.sample(n = 268)\n",
    "# facebook = fb.sample(n = 268)\n",
    "\n",
    "# see size of company data frames\n",
    "# facebook.shape\n",
    "# netflix.shape\n",
    "# amazon.shape\n",
    "# apple.shape\n",
    "# google.shape"
   ]
  },
  {
   "cell_type": "markdown",
   "metadata": {},
   "source": [
    "## Additional data cleaning"
   ]
  },
  {
   "cell_type": "code",
   "execution_count": 304,
   "metadata": {},
   "outputs": [
    {
     "name": "stderr",
     "output_type": "stream",
     "text": [
      "<ipython-input-304-dc67da14b7ae>:7: SettingWithCopyWarning: \n",
      "A value is trying to be set on a copy of a slice from a DataFrame.\n",
      "Try using .loc[row_indexer,col_indexer] = value instead\n",
      "\n",
      "See the caveats in the documentation: https://pandas.pydata.org/pandas-docs/stable/user_guide/indexing.html#returning-a-view-versus-a-copy\n",
      "  ms_phd[\"Masters_Degree\"] = 0\n",
      "<ipython-input-304-dc67da14b7ae>:18: SettingWithCopyWarning: \n",
      "A value is trying to be set on a copy of a slice from a DataFrame.\n",
      "Try using .loc[row_indexer,col_indexer] = value instead\n",
      "\n",
      "See the caveats in the documentation: https://pandas.pydata.org/pandas-docs/stable/user_guide/indexing.html#returning-a-view-versus-a-copy\n",
      "  bs_ms[\"Bachelors_Degree\"] = 0\n"
     ]
    }
   ],
   "source": [
    "## cleaning of education variables\n",
    "\n",
    "## find duplicates of people with masters degree and doctorate degrees\n",
    "ms_phd = faang_eda[(faang_eda[\"Masters_Degree\"] == 1) & (faang_eda[\"Doctorate_Degree\"] == 1)]\n",
    "\n",
    "# change duplicates to zeros and only select the higher degree\n",
    "ms_phd[\"Masters_Degree\"] = 0\n",
    "phd = ms_phd\n",
    "\n",
    "# remove the duplicates and add on the higher degree\n",
    "faang_eda.drop(ms_phd.index, axis = 0)\n",
    "faang = pd.concat([faang_eda, phd])\n",
    "\n",
    "##  find duplicates of people with bachelors and masters degrees\n",
    "bs_ms = faang_eda[(faang_eda[\"Bachelors_Degree\"] == 1) & (faang_eda[\"Masters_Degree\"] == 1)]\n",
    "\n",
    "# change duplicates to zeros and only select the higher degree\n",
    "bs_ms[\"Bachelors_Degree\"] = 0\n",
    "ms = bs_ms\n",
    "\n",
    "# remove the duplicates and add on the higher degree\n",
    "faang_eda.drop(bs_ms.index, axis = 0)\n",
    "faang = pd.concat([faang_eda, ms])"
   ]
  },
  {
   "cell_type": "code",
   "execution_count": 305,
   "metadata": {},
   "outputs": [],
   "source": [
    "## drop other rows with zero values\n",
    "zerosalary = faang_eda[faang_eda[\"basesalary\"] == 0]\n",
    "faang_eda = faang_eda.drop(zerosalary.index, axis = 0)"
   ]
  },
  {
   "cell_type": "code",
   "execution_count": 306,
   "metadata": {},
   "outputs": [],
   "source": [
    "## create education column (\"undummy\" the variables)\n",
    "education = faang_eda[[\"Masters_Degree\", \"Bachelors_Degree\", \"Doctorate_Degree\", \"Highschool\", \"Some_College\"]].eq(1).idxmax(axis = 1)\n",
    "faang_eda[\"education\"] = education"
   ]
  },
  {
   "cell_type": "markdown",
   "metadata": {},
   "source": [
    "## Exploratory data analysis"
   ]
  },
  {
   "cell_type": "code",
   "execution_count": 193,
   "metadata": {},
   "outputs": [
    {
     "data": {
      "text/plain": [
       "Index(['company', 'title', 'totalyearlycompensation', 'location',\n",
       "       'yearsofexperience', 'yearsatcompany', 'basesalary', 'bonus',\n",
       "       'Masters_Degree', 'Bachelors_Degree', 'Doctorate_Degree', 'Highschool',\n",
       "       'Some_College', 'education'],\n",
       "      dtype='object')"
      ]
     },
     "execution_count": 193,
     "metadata": {},
     "output_type": "execute_result"
    }
   ],
   "source": [
    "# see data frame columns\n",
    "faang_eda.columns"
   ]
  },
  {
   "cell_type": "code",
   "execution_count": 194,
   "metadata": {},
   "outputs": [
    {
     "data": {
      "text/plain": [
       "company                    0\n",
       "title                      0\n",
       "totalyearlycompensation    0\n",
       "location                   0\n",
       "yearsofexperience          0\n",
       "yearsatcompany             0\n",
       "basesalary                 0\n",
       "bonus                      0\n",
       "Masters_Degree             0\n",
       "Bachelors_Degree           0\n",
       "Doctorate_Degree           0\n",
       "Highschool                 0\n",
       "Some_College               0\n",
       "education                  0\n",
       "dtype: int64"
      ]
     },
     "execution_count": 194,
     "metadata": {},
     "output_type": "execute_result"
    }
   ],
   "source": [
    "# see if missing values exist\n",
    "faang_eda.isna().sum()"
   ]
  },
  {
   "cell_type": "code",
   "execution_count": 206,
   "metadata": {},
   "outputs": [
    {
     "data": {
      "text/html": [
       "<div>\n",
       "<style scoped>\n",
       "    .dataframe tbody tr th:only-of-type {\n",
       "        vertical-align: middle;\n",
       "    }\n",
       "\n",
       "    .dataframe tbody tr th {\n",
       "        vertical-align: top;\n",
       "    }\n",
       "\n",
       "    .dataframe thead th {\n",
       "        text-align: right;\n",
       "    }\n",
       "</style>\n",
       "<table border=\"1\" class=\"dataframe\">\n",
       "  <thead>\n",
       "    <tr style=\"text-align: right;\">\n",
       "      <th></th>\n",
       "      <th>totalyearlycompensation</th>\n",
       "      <th>yearsofexperience</th>\n",
       "      <th>yearsatcompany</th>\n",
       "      <th>basesalary</th>\n",
       "      <th>bonus</th>\n",
       "      <th>Masters_Degree</th>\n",
       "      <th>Bachelors_Degree</th>\n",
       "      <th>Doctorate_Degree</th>\n",
       "      <th>Highschool</th>\n",
       "      <th>Some_College</th>\n",
       "    </tr>\n",
       "  </thead>\n",
       "  <tbody>\n",
       "    <tr>\n",
       "      <th>count</th>\n",
       "      <td>1.176500e+04</td>\n",
       "      <td>11765.000000</td>\n",
       "      <td>11765.000000</td>\n",
       "      <td>11765.000000</td>\n",
       "      <td>11765.000000</td>\n",
       "      <td>11765.000000</td>\n",
       "      <td>11765.000000</td>\n",
       "      <td>11765.000000</td>\n",
       "      <td>11765.000000</td>\n",
       "      <td>11765.000000</td>\n",
       "    </tr>\n",
       "    <tr>\n",
       "      <th>mean</th>\n",
       "      <td>2.601322e+05</td>\n",
       "      <td>7.312652</td>\n",
       "      <td>2.162677</td>\n",
       "      <td>150290.644454</td>\n",
       "      <td>21944.911517</td>\n",
       "      <td>0.272333</td>\n",
       "      <td>0.182320</td>\n",
       "      <td>0.037824</td>\n",
       "      <td>0.005695</td>\n",
       "      <td>0.004675</td>\n",
       "    </tr>\n",
       "    <tr>\n",
       "      <th>std</th>\n",
       "      <td>1.562285e+05</td>\n",
       "      <td>5.766880</td>\n",
       "      <td>2.474972</td>\n",
       "      <td>53336.005313</td>\n",
       "      <td>32184.732054</td>\n",
       "      <td>0.445179</td>\n",
       "      <td>0.386125</td>\n",
       "      <td>0.190779</td>\n",
       "      <td>0.075252</td>\n",
       "      <td>0.068216</td>\n",
       "    </tr>\n",
       "    <tr>\n",
       "      <th>min</th>\n",
       "      <td>1.000000e+04</td>\n",
       "      <td>0.000000</td>\n",
       "      <td>0.000000</td>\n",
       "      <td>9000.000000</td>\n",
       "      <td>0.000000</td>\n",
       "      <td>0.000000</td>\n",
       "      <td>0.000000</td>\n",
       "      <td>0.000000</td>\n",
       "      <td>0.000000</td>\n",
       "      <td>0.000000</td>\n",
       "    </tr>\n",
       "    <tr>\n",
       "      <th>25%</th>\n",
       "      <td>1.720000e+05</td>\n",
       "      <td>3.000000</td>\n",
       "      <td>0.000000</td>\n",
       "      <td>125000.000000</td>\n",
       "      <td>0.000000</td>\n",
       "      <td>0.000000</td>\n",
       "      <td>0.000000</td>\n",
       "      <td>0.000000</td>\n",
       "      <td>0.000000</td>\n",
       "      <td>0.000000</td>\n",
       "    </tr>\n",
       "    <tr>\n",
       "      <th>50%</th>\n",
       "      <td>2.260000e+05</td>\n",
       "      <td>6.000000</td>\n",
       "      <td>1.000000</td>\n",
       "      <td>150000.000000</td>\n",
       "      <td>15000.000000</td>\n",
       "      <td>0.000000</td>\n",
       "      <td>0.000000</td>\n",
       "      <td>0.000000</td>\n",
       "      <td>0.000000</td>\n",
       "      <td>0.000000</td>\n",
       "    </tr>\n",
       "    <tr>\n",
       "      <th>75%</th>\n",
       "      <td>3.050000e+05</td>\n",
       "      <td>10.000000</td>\n",
       "      <td>3.000000</td>\n",
       "      <td>165000.000000</td>\n",
       "      <td>30000.000000</td>\n",
       "      <td>1.000000</td>\n",
       "      <td>0.000000</td>\n",
       "      <td>0.000000</td>\n",
       "      <td>0.000000</td>\n",
       "      <td>0.000000</td>\n",
       "    </tr>\n",
       "    <tr>\n",
       "      <th>max</th>\n",
       "      <td>4.980000e+06</td>\n",
       "      <td>42.000000</td>\n",
       "      <td>20.000000</td>\n",
       "      <td>800000.000000</td>\n",
       "      <td>555000.000000</td>\n",
       "      <td>1.000000</td>\n",
       "      <td>1.000000</td>\n",
       "      <td>1.000000</td>\n",
       "      <td>1.000000</td>\n",
       "      <td>1.000000</td>\n",
       "    </tr>\n",
       "  </tbody>\n",
       "</table>\n",
       "</div>"
      ],
      "text/plain": [
       "       totalyearlycompensation  yearsofexperience  yearsatcompany  \\\n",
       "count             1.176500e+04       11765.000000    11765.000000   \n",
       "mean              2.601322e+05           7.312652        2.162677   \n",
       "std               1.562285e+05           5.766880        2.474972   \n",
       "min               1.000000e+04           0.000000        0.000000   \n",
       "25%               1.720000e+05           3.000000        0.000000   \n",
       "50%               2.260000e+05           6.000000        1.000000   \n",
       "75%               3.050000e+05          10.000000        3.000000   \n",
       "max               4.980000e+06          42.000000       20.000000   \n",
       "\n",
       "          basesalary          bonus  Masters_Degree  Bachelors_Degree  \\\n",
       "count   11765.000000   11765.000000    11765.000000      11765.000000   \n",
       "mean   150290.644454   21944.911517        0.272333          0.182320   \n",
       "std     53336.005313   32184.732054        0.445179          0.386125   \n",
       "min      9000.000000       0.000000        0.000000          0.000000   \n",
       "25%    125000.000000       0.000000        0.000000          0.000000   \n",
       "50%    150000.000000   15000.000000        0.000000          0.000000   \n",
       "75%    165000.000000   30000.000000        1.000000          0.000000   \n",
       "max    800000.000000  555000.000000        1.000000          1.000000   \n",
       "\n",
       "       Doctorate_Degree    Highschool  Some_College  \n",
       "count      11765.000000  11765.000000  11765.000000  \n",
       "mean           0.037824      0.005695      0.004675  \n",
       "std            0.190779      0.075252      0.068216  \n",
       "min            0.000000      0.000000      0.000000  \n",
       "25%            0.000000      0.000000      0.000000  \n",
       "50%            0.000000      0.000000      0.000000  \n",
       "75%            0.000000      0.000000      0.000000  \n",
       "max            1.000000      1.000000      1.000000  "
      ]
     },
     "execution_count": 206,
     "metadata": {},
     "output_type": "execute_result"
    }
   ],
   "source": [
    "# data set summary\n",
    "faang_eda.describe()"
   ]
  },
  {
   "cell_type": "code",
   "execution_count": 195,
   "metadata": {},
   "outputs": [
    {
     "data": {
      "text/plain": [
       "[Text(0.5, 0, 'Company'), Text(0, 0.5, 'Total Yearly Compensation ($)')]"
      ]
     },
     "execution_count": 195,
     "metadata": {},
     "output_type": "execute_result"
    },
    {
     "data": {
      "image/png": "[encoded data removed]",
      "text/plain": [
       "<Figure size 432x288 with 1 Axes>"
      ]
     },
     "metadata": {
      "needs_background": "light"
     },
     "output_type": "display_data"
    }
   ],
   "source": [
    "## bar plot of total yearly compensation and companies\n",
    "company_plt = sns.barplot(x = \"company\", y = \"totalyearlycompensation\", data = faang_eda, ci = None)\n",
    "company_plt.set(xlabel = 'Company', ylabel = 'Total Yearly Compensation ($)')\n",
    "\n",
    "# plt.savefig('figures/compensation-companies-plot.png')"
   ]
  },
  {
   "cell_type": "code",
   "execution_count": 196,
   "metadata": {},
   "outputs": [
    {
     "name": "stderr",
     "output_type": "stream",
     "text": [
      "<ipython-input-196-6f6329028ad0>:8: UserWarning: FixedFormatter should only be used together with FixedLocator\n",
      "  yrs_exp_plt.set_yticklabels(['0', '0', '100000', '200000', '300000', '400000', '500000'])\n"
     ]
    },
    {
     "data": {
      "text/plain": [
       "[Text(0.5, 0, 'Years of Experience'),\n",
       " Text(0, 0.5, 'Total Yearly Compensation ($)')]"
      ]
     },
     "execution_count": 196,
     "metadata": {},
     "output_type": "execute_result"
    },
    {
     "data": {
      "image/png": "[encoded data removed]",
      "text/plain": [
       "<Figure size 432x288 with 1 Axes>"
      ]
     },
     "metadata": {
      "needs_background": "light"
     },
     "output_type": "display_data"
    }
   ],
   "source": [
    "## years of experience vs total yearly compensation plot\n",
    "\n",
    "# create plot\n",
    "yrs_exp_plt = sns.scatterplot(x = \"yearsofexperience\", y = \"totalyearlycompensation\", data = faang_eda, ci = None, \n",
    "                hue = \"company\")\n",
    "\n",
    "# set axis ticks, legend position and axis labels\n",
    "yrs_exp_plt.set_yticklabels(['0', '0', '100000', '200000', '300000', '400000', '500000'])\n",
    "plt.legend(bbox_to_anchor = (1.02, 1), loc = 'upper left', borderaxespad = 0)\n",
    "yrs_exp_plt.set(xlabel = 'Years of Experience', ylabel = 'Total Yearly Compensation ($)')\n",
    "\n",
    "# save figure\n",
    "# plt.savefig('figures/yrs-exp-plot.png')"
   ]
  },
  {
   "cell_type": "code",
   "execution_count": 197,
   "metadata": {},
   "outputs": [
    {
     "data": {
      "text/plain": [
       "<matplotlib.legend.Legend at 0x1281be790>"
      ]
     },
     "execution_count": 197,
     "metadata": {},
     "output_type": "execute_result"
    },
    {
     "data": {
      "image/png": "[encoded data removed]",
      "text/plain": [
       "<Figure size 432x288 with 1 Axes>"
      ]
     },
     "metadata": {
      "needs_background": "light"
     },
     "output_type": "display_data"
    }
   ],
   "source": [
    "## scatter plot of years at company vs total yearly compensation\n",
    "\n",
    "# create plot\n",
    "sns.scatterplot(x = \"yearsatcompany\", y = \"totalyearlycompensation\", data = faang_eda, ci = None, hue = \"company\")\n",
    "\n",
    "# set legend location\n",
    "plt.legend(bbox_to_anchor = (1.02, 1), loc = 'upper left', borderaxespad = 0)"
   ]
  },
  {
   "cell_type": "code",
   "execution_count": 198,
   "metadata": {},
   "outputs": [
    {
     "data": {
      "text/plain": [
       "<matplotlib.legend.Legend at 0x12b1e4820>"
      ]
     },
     "execution_count": 198,
     "metadata": {},
     "output_type": "execute_result"
    },
    {
     "data": {
      "image/png": "[encoded data removed]",
      "text/plain": [
       "<Figure size 432x288 with 1 Axes>"
      ]
     },
     "metadata": {
      "needs_background": "light"
     },
     "output_type": "display_data"
    }
   ],
   "source": [
    "## education vs total yearly compensation plot\n",
    "\n",
    "# create education plot\n",
    "edu_plt = sns.barplot(x = \"education\", y = \"totalyearlycompensation\", data = faang_eda, ci = None, hue = \"company\",\n",
    "                     order = [\"Highschool\", \"Some_College\", \"Bachelors_Degree\", \"Masters_Degree\", \"Doctorate_Degree\"])\n",
    "\n",
    "# change x ticks labels, rename axis labels and change legend location\n",
    "edu_plt.set_xticklabels(['High School','Some College', 'BS', 'MS','PhD'])\n",
    "edu_plt.set(xlabel = 'Education', ylabel = 'Total Yearly Compensation ($)')\n",
    "plt.legend(bbox_to_anchor = (1.02, 1), loc = 'upper left', borderaxespad = 0)\n",
    "\n",
    "# save plot\n",
    "# plt.savefig('figures/edu-compensation-plot.png')"
   ]
  },
  {
   "cell_type": "code",
   "execution_count": 199,
   "metadata": {},
   "outputs": [
    {
     "data": {
      "text/plain": [
       "<AxesSubplot:xlabel='totalyearlycompensation', ylabel='Count'>"
      ]
     },
     "execution_count": 199,
     "metadata": {},
     "output_type": "execute_result"
    },
    {
     "data": {
      "image/png": "[encoded data removed]",
      "text/plain": [
       "<Figure size 432x288 with 1 Axes>"
      ]
     },
     "metadata": {
      "needs_background": "light"
     },
     "output_type": "display_data"
    }
   ],
   "source": [
    "# histogram of yearly total compensation\n",
    "sns.histplot(x = \"totalyearlycompensation\", data = faang)"
   ]
  },
  {
   "cell_type": "markdown",
   "metadata": {},
   "source": [
    "## Create train and test."
   ]
  },
  {
   "cell_type": "code",
   "execution_count": 232,
   "metadata": {},
   "outputs": [
    {
     "data": {
      "text/plain": [
       "Index(['company', 'title', 'totalyearlycompensation', 'yearsofexperience',\n",
       "       'yearsatcompany', 'basesalary', 'bonus', 'Masters_Degree',\n",
       "       'Bachelors_Degree', 'Doctorate_Degree', 'Highschool', 'Some_College'],\n",
       "      dtype='object')"
      ]
     },
     "execution_count": 232,
     "metadata": {},
     "output_type": "execute_result"
    }
   ],
   "source": [
    "# create modified data frame for analysis\n",
    "faang = faang_eda.drop([\"location\", \"education\"], axis = 1)\n",
    "faang.columns"
   ]
  },
  {
   "cell_type": "code",
   "execution_count": 233,
   "metadata": {},
   "outputs": [],
   "source": [
    "# select X variables\n",
    "X = faang.drop(\"totalyearlycompensation\", axis = 1)\n",
    "y = faang[\"totalyearlycompensation\"]\n",
    "\n",
    "# create train and test datasets\n",
    "X_train, X_test, y_train, y_test = train_test_split(faang, y, test_size = .25, random_state = 1234)"
   ]
  },
  {
   "cell_type": "markdown",
   "metadata": {},
   "source": [
    "## Different modeling methods"
   ]
  },
  {
   "cell_type": "code",
   "execution_count": 234,
   "metadata": {},
   "outputs": [],
   "source": [
    "# sklearn modeling libraries\n",
    "from sklearn.preprocessing import PolynomialFeatures, OneHotEncoder, MinMaxScaler, StandardScaler\n",
    "from sklearn.pipeline import Pipeline\n",
    "from sklearn.model_selection import cross_val_score, GridSearchCV\n",
    "from sklearn.impute import SimpleImputer\n",
    "from sklearn.linear_model import LinearRegression, Lasso, LogisticRegression\n",
    "from sklearn.neighbors import KNeighborsRegressor\n",
    "from sklearn.tree import DecisionTreeRegressor\n",
    "from sklearn.metrics import mean_squared_error\n",
    "from sklearn.compose import ColumnTransformer\n",
    "from sklearn.naive_bayes import MultinomialNB\n",
    "from sklearn.ensemble import RandomForestClassifier, GradientBoostingClassifier\n",
    "import numpy as np"
   ]
  },
  {
   "cell_type": "code",
   "execution_count": 255,
   "metadata": {},
   "outputs": [],
   "source": [
    "## transform data\n",
    "\n",
    "#  Numerical features\n",
    "numeric_features = X.select_dtypes(exclude='object').columns\n",
    "\n",
    "#  Categorical features\n",
    "categorical_features = X.select_dtypes('object').columns\n",
    "# steps for the numeric data are 1. impute missing values, 2. Scale the data to be between 0 and 1\n",
    "numeric_transformer = Pipeline(steps=[\n",
    "    ('imputer', SimpleImputer(strategy='mean')),\n",
    "    #('scaler', MinMaxScaler()),\n",
    "    ('scaler', StandardScaler())])\n",
    "# steps for the categorical data are 1. fill missing values with the word missing and 2. Make the dummy variables with one hot encoding\n",
    "categorical_transformer = Pipeline(steps=[\n",
    "    ('imputer', SimpleImputer(strategy='constant', fill_value='missing')),\n",
    "    ('onehot', OneHotEncoder(handle_unknown='ignore'))])\n",
    "\n",
    "# Use ColumnTransformer to perform the various processing steps for each type of variable.  \n",
    "preprocessor = ColumnTransformer(\n",
    "    transformers=[\n",
    "        ('num', numeric_transformer, numeric_features),\n",
    "        ('cat', categorical_transformer, categorical_features)])"
   ]
  },
  {
   "cell_type": "code",
   "execution_count": 19,
   "metadata": {},
   "outputs": [],
   "source": [
    "# get appropriate tuning parameters using GridSearchCV\n",
    "#############################################\n",
    "# this takes a really long time to run.\n",
    "#############################################\n",
    "# # lm\n",
    "# pipe_lm_gs = Pipeline(\n",
    "#     [('preprocessor', preprocessor),\n",
    "#      ('poly', PolynomialFeatures()),\n",
    "#      ('lm', LinearRegression())])\n",
    "# param_grid = [{'poly__degree':[1,2,3]}]\n",
    "# gs_lm = GridSearchCV(pipe_lm_gs, param_grid, scoring='neg_mean_squared_error')\n",
    "# gs_lm.fit(X_train, y_train)\n",
    "# # knn\n",
    "# pipe_knn_gs = Pipeline(\n",
    "#     [('preprocessor', preprocessor),\n",
    "#      ('poly', PolynomialFeatures()),\n",
    "#      ('knn', KNeighborsRegressor())])\n",
    "# param_grid = [{'knn__n_neighbors': list(range(1,10)), 'poly__degree':[1,2,3]}]\n",
    "# gs_knn = GridSearchCV(pipe_knn_gs, param_grid, scoring='neg_mean_squared_error')\n",
    "# gs_knn.fit(X_train, y_train)\n",
    "# # lasso\n",
    "# pipe_lasso_gs = Pipeline(\n",
    "#     [('preprocessor', preprocessor),\n",
    "#      ('poly', PolynomialFeatures()),\n",
    "#      ('lasso', Lasso())])\n",
    "# param_grid = [{'poly__degree':[1,2,3]}]\n",
    "# gs_lasso = GridSearchCV(pipe_lasso_gs, param_grid, scoring='neg_mean_squared_error')\n",
    "# gs_lasso.fit(X_train, y_train)\n",
    "# # tree\n",
    "# pipe_tree_gs = Pipeline(\n",
    "#     [('preprocessor', preprocessor),\n",
    "#      ('poly', PolynomialFeatures()),\n",
    "#      ('tree', DecisionTreeRegressor())])\n",
    "# param_grid = [{'tree__min_samples_leaf': list(range(1,10))}, {'poly__degree':[1,2,3]}]\n",
    "# gs_tree = GridSearchCV(pipe_tree_gs, param_grid, scoring='neg_mean_squared_error')\n",
    "# gs_tree.fit(X_train, y_train)\n",
    "\n",
    "# print('lm: ', gs_lm.best_params_)\n",
    "# print('knn: ', gs_knn.best_params_)\n",
    "# print('lasso: ', gs_lasso.best_params_)\n",
    "# print('tree: ', gs_tree.best_params_)"
   ]
  },
  {
   "cell_type": "code",
   "execution_count": 236,
   "metadata": {},
   "outputs": [
    {
     "name": "stderr",
     "output_type": "stream",
     "text": [
      "/Users/emilyiliu/opt/anaconda3/lib/python3.8/site-packages/pandas/core/arraylike.py:358: RuntimeWarning: divide by zero encountered in log\n",
      "  result = getattr(ufunc, method)(*inputs, **kwargs)\n"
     ]
    },
    {
     "data": {
      "text/plain": [
       "89282.29437329853"
      ]
     },
     "execution_count": 236,
     "metadata": {},
     "output_type": "execute_result"
    }
   ],
   "source": [
    "# linear regression model\n",
    "faang[\"totalyearlycompensation\"] = np.log(faang[\"totalyearlycompensation\"])\n",
    "faang[\"basesalary\"] = np.log(faang[\"basesalary\"])\n",
    "faang[\"bonus\"] = np.log(faang[\"bonus\"])\n",
    "\n",
    "lm_pipe = Pipeline([('preprocessor', preprocessor),\n",
    "                    ('poly', PolynomialFeatures(degree = 1, interaction_only = False)),\n",
    "                    ('lm', LinearRegression())\n",
    "                    ])\n",
    "# lm_pipe = Pipeline([('poly', PolynomialFeatures(degree = 2, interaction_only = True)),\n",
    "#                     ('imputer', SimpleImputer(strategy='mean')),\n",
    "#                     ('ss', StandardScaler()),\n",
    "#                     ('lm', LinearRegression()),\n",
    "#                     ('onehot', OneHotEncoder(handle_unknown='ignore'))\n",
    "#                     ])\n",
    "\n",
    "# create linear regression model\n",
    "lm_pipe.fit(X_train, y_train)\n",
    "lm_preds = lm_pipe.predict(X_test)\n",
    "# calculate model metrics\n",
    "rmse_lm = mean_squared_error(y_test, lm_preds, squared = False)\n",
    "score_lm = np.mean(cross_val_score(lm_pipe, X_train, y_train, cv=10, scoring='neg_root_mean_squared_error'))*(-1)\n",
    "score_lm"
   ]
  },
  {
   "cell_type": "code",
   "execution_count": 237,
   "metadata": {},
   "outputs": [
    {
     "data": {
      "text/plain": [
       "85791.67845312216"
      ]
     },
     "execution_count": 237,
     "metadata": {},
     "output_type": "execute_result"
    }
   ],
   "source": [
    "# knn model\n",
    "knn_pipe = Pipeline([('preprocessor', preprocessor),\n",
    "                     ('poly', PolynomialFeatures(degree = 1, interaction_only = False)),\n",
    "                     ('knn', KNeighborsRegressor(n_neighbors = 9))\n",
    "                     ])\n",
    "\n",
    "# create k-nearest neighbors model\n",
    "knn_pipe.fit(X_train, y_train)\n",
    "knn_preds = knn_pipe.predict(X_test)\n",
    "# calculate model metrics\n",
    "rmse_knn = mean_squared_error(y_test, knn_preds, squared=False)\n",
    "score_knn = np.mean(cross_val_score(knn_pipe, X_train, y_train, cv=10, scoring='neg_root_mean_squared_error'))*(-1)\n",
    "score_knn"
   ]
  },
  {
   "cell_type": "code",
   "execution_count": 256,
   "metadata": {},
   "outputs": [
    {
     "name": "stderr",
     "output_type": "stream",
     "text": [
      "/Users/emilyiliu/opt/anaconda3/lib/python3.8/site-packages/sklearn/linear_model/_coordinate_descent.py:530: ConvergenceWarning: Objective did not converge. You might want to increase the number of iterations. Duality gap: 20784998474138.777, tolerance: 22016535130.569252\n",
      "  model = cd_fast.enet_coordinate_descent(\n",
      "/Users/emilyiliu/opt/anaconda3/lib/python3.8/site-packages/sklearn/linear_model/_coordinate_descent.py:530: ConvergenceWarning: Objective did not converge. You might want to increase the number of iterations. Duality gap: 23149741317051.754, tolerance: 20103027428.44065\n",
      "  model = cd_fast.enet_coordinate_descent(\n",
      "/Users/emilyiliu/opt/anaconda3/lib/python3.8/site-packages/sklearn/linear_model/_coordinate_descent.py:530: ConvergenceWarning: Objective did not converge. You might want to increase the number of iterations. Duality gap: 22216926102051.746, tolerance: 20028432954.9268\n",
      "  model = cd_fast.enet_coordinate_descent(\n",
      "/Users/emilyiliu/opt/anaconda3/lib/python3.8/site-packages/sklearn/linear_model/_coordinate_descent.py:530: ConvergenceWarning: Objective did not converge. You might want to increase the number of iterations. Duality gap: 22335439463088.816, tolerance: 19961732878.97591\n",
      "  model = cd_fast.enet_coordinate_descent(\n",
      "/Users/emilyiliu/opt/anaconda3/lib/python3.8/site-packages/sklearn/linear_model/_coordinate_descent.py:530: ConvergenceWarning: Objective did not converge. You might want to increase the number of iterations. Duality gap: 18829578533746.176, tolerance: 20114526495.39731\n",
      "  model = cd_fast.enet_coordinate_descent(\n",
      "/Users/emilyiliu/opt/anaconda3/lib/python3.8/site-packages/sklearn/linear_model/_coordinate_descent.py:530: ConvergenceWarning: Objective did not converge. You might want to increase the number of iterations. Duality gap: 23104938061615.37, tolerance: 20565954112.618057\n",
      "  model = cd_fast.enet_coordinate_descent(\n",
      "/Users/emilyiliu/opt/anaconda3/lib/python3.8/site-packages/sklearn/linear_model/_coordinate_descent.py:530: ConvergenceWarning: Objective did not converge. You might want to increase the number of iterations. Duality gap: 22657612018518.19, tolerance: 20085000859.554844\n",
      "  model = cd_fast.enet_coordinate_descent(\n",
      "/Users/emilyiliu/opt/anaconda3/lib/python3.8/site-packages/sklearn/linear_model/_coordinate_descent.py:530: ConvergenceWarning: Objective did not converge. You might want to increase the number of iterations. Duality gap: 22890467391379.09, tolerance: 20184608781.211437\n",
      "  model = cd_fast.enet_coordinate_descent(\n",
      "/Users/emilyiliu/opt/anaconda3/lib/python3.8/site-packages/sklearn/linear_model/_coordinate_descent.py:530: ConvergenceWarning: Objective did not converge. You might want to increase the number of iterations. Duality gap: 20553818528863.42, tolerance: 20244816253.22063\n",
      "  model = cd_fast.enet_coordinate_descent(\n",
      "/Users/emilyiliu/opt/anaconda3/lib/python3.8/site-packages/sklearn/linear_model/_coordinate_descent.py:530: ConvergenceWarning: Objective did not converge. You might want to increase the number of iterations. Duality gap: 18478913098683.89, tolerance: 18646810878.33396\n",
      "  model = cd_fast.enet_coordinate_descent(\n",
      "/Users/emilyiliu/opt/anaconda3/lib/python3.8/site-packages/sklearn/linear_model/_coordinate_descent.py:530: ConvergenceWarning: Objective did not converge. You might want to increase the number of iterations. Duality gap: 16999701068790.324, tolerance: 18212089998.948494\n",
      "  model = cd_fast.enet_coordinate_descent(\n"
     ]
    },
    {
     "data": {
      "text/plain": [
       "79121.60466590956"
      ]
     },
     "execution_count": 256,
     "metadata": {},
     "output_type": "execute_result"
    }
   ],
   "source": [
    "#############################################\n",
    "# this takes a really long time to run.\n",
    "#############################################\n",
    "# lasso model\n",
    "lasso_pipe = Pipeline([('preprocessor', preprocessor),\n",
    "                    ('poly', PolynomialFeatures(degree = 2, interaction_only = False)),\n",
    "                    ('lasso', Lasso())])\n",
    "\n",
    "# create linear regression model\n",
    "lasso_pipe.fit(X_train, y_train)\n",
    "lasso_preds = lasso_pipe.predict(X_test)\n",
    "# calculate model metrics\n",
    "rmse_lasso = mean_squared_error(y_test, lasso_preds, squared=False)\n",
    "score_lasso = np.mean(cross_val_score(lasso_pipe, X_train, y_train, cv=10, scoring='neg_root_mean_squared_error'))*(-1)\n",
    "score_lasso"
   ]
  },
  {
   "cell_type": "code",
   "execution_count": 239,
   "metadata": {},
   "outputs": [
    {
     "data": {
      "text/plain": [
       "83483.83274428333"
      ]
     },
     "execution_count": 239,
     "metadata": {},
     "output_type": "execute_result"
    }
   ],
   "source": [
    "# decision tree model with polynomial features\n",
    "tree_pipe = Pipeline([('preprocessor', preprocessor),\n",
    "                    ('poly', PolynomialFeatures(degree = 2, interaction_only = False)),\n",
    "                    ('tree', DecisionTreeRegressor(min_samples_leaf= 8))\n",
    "                    ])\n",
    "\n",
    "# create linear regression model\n",
    "tree_pipe.fit(X_train, y_train) # create model\n",
    "tree_preds = tree_pipe.predict(X_test)\n",
    "# calculate model metrics\n",
    "rmse_tree = mean_squared_error(y_test, tree_preds, squared=False)\n",
    "score_tree = np.mean(cross_val_score(tree_pipe, X_train, y_train, cv=10, scoring='neg_root_mean_squared_error'))*(-1)\n",
    "score_tree"
   ]
  },
  {
   "cell_type": "code",
   "execution_count": null,
   "metadata": {},
   "outputs": [],
   "source": [
    "# naive bayes is for texts.\n",
    "# multinomial naive bayes model with polynomial features\n",
    "\n",
    "# nb_pipe = Pipeline([('preprocessor', preprocessor),\n",
    "#                     ('poly', PolynomialFeatures(degree = 2, interaction_only = True)),\n",
    "#                     ('nb', MultinomialNB())\n",
    "#                     ])\n",
    "# # create nb model\n",
    "# nb_pipe.fit(X_train, y_train)\n",
    "\n",
    "# # create predictions\n",
    "# nb_preds = nb_pipe.predict(X_test)\n",
    "\n",
    "# # calculate model metrics\n",
    "# nb_precision = precision_score(y_test, nb_preds)\n",
    "# nb_recall = recall_score(y_test, nb_preds)\n",
    "# nb_f1 = 2 * (nb_precision * nb_recall) / (nb_precision + nb_recall)\n",
    "\n",
    "# nb_accuracy = accuracy_score(y_test, nb_preds)\n",
    "# nb_scor = mean_squared_error(y_test, nb_preds, squared=False)\n",
    "\n",
    "# # cross validation score\n",
    "# nb_score = np.mean(cross_val_score(nb_pipe, X_train, y_train, cv=10, scoring='neg_root_mean_squared_error'))"
   ]
  },
  {
   "cell_type": "code",
   "execution_count": 66,
   "metadata": {},
   "outputs": [
    {
     "name": "stderr",
     "output_type": "stream",
     "text": [
      "C:\\Users\\jacob\\AppData\\Local\\Programs\\Python\\Python39\\lib\\site-packages\\sklearn\\model_selection\\_split.py:676: UserWarning: The least populated class in y has only 1 members, which is less than n_splits=10.\n",
      "  warnings.warn(\n"
     ]
    }
   ],
   "source": [
    "# #############################################\n",
    "# # this takes a really long time to run. Too long. Gone for 30 minutes.\n",
    "# #############################################\n",
    "# # logistic regression with polynomial features\n",
    "# lr_pipe = Pipeline([('preprocessor', preprocessor),\n",
    "#                     ('poly', PolynomialFeatures(degree = 2, interaction_only = True)),\n",
    "#                     ('lr', LogisticRegression(solver = 'liblinear', C = 1))\n",
    "#                     ])\n",
    "\n",
    "# # create logistic regression model\n",
    "# lr_pipe.fit(X_train, y_train)\n",
    "# logreg_preds = lr_pipe.predict(X_test)\n",
    "# # calculate model metrics\n",
    "# rmse_logreg = mean_squared_error(y_test, logreg_preds, squared=False)\n",
    "# score_logreg = np.mean(cross_val_score(lr_pipe, X_train, y_train, cv=10, scoring='neg_root_mean_squared_error'))*(-1)"
   ]
  },
  {
   "cell_type": "code",
   "execution_count": 240,
   "metadata": {},
   "outputs": [
    {
     "name": "stderr",
     "output_type": "stream",
     "text": [
      "/Users/emilyiliu/opt/anaconda3/lib/python3.8/site-packages/sklearn/model_selection/_split.py:666: UserWarning: The least populated class in y has only 1 members, which is less than n_splits=10.\n",
      "  warnings.warn((\"The least populated class in y has only %d\"\n"
     ]
    },
    {
     "data": {
      "text/plain": [
       "156737.8246851557"
      ]
     },
     "execution_count": 240,
     "metadata": {},
     "output_type": "execute_result"
    }
   ],
   "source": [
    "# forest model \n",
    "forest_pipe = Pipeline([('preprocessor', preprocessor),\n",
    "                     ('poly', PolynomialFeatures(degree = 1, interaction_only = False)),\n",
    "                     ('forest', RandomForestClassifier(n_estimators = 100, n_jobs = -1, max_depth = 1))\n",
    "                     ])\n",
    "\n",
    "# create forest model\n",
    "forest_pipe.fit(X_train, y_train)\n",
    "forest_preds = forest_pipe.predict(X_test)\n",
    "# calculate model metrics\n",
    "rmse_forest = mean_squared_error(y_test, forest_preds, squared=False)\n",
    "score_forest = np.mean(cross_val_score(forest_pipe, X_train, y_train, cv=10, scoring='neg_root_mean_squared_error'))*(-1)\n",
    "score_forest"
   ]
  },
  {
   "cell_type": "code",
   "execution_count": 179,
   "metadata": {},
   "outputs": [
    {
     "name": "stderr",
     "output_type": "stream",
     "text": [
      "/Users/emilyiliu/opt/anaconda3/lib/python3.8/site-packages/sklearn/model_selection/_split.py:666: UserWarning: The least populated class in y has only 1 members, which is less than n_splits=10.\n",
      "  warnings.warn((\"The least populated class in y has only %d\"\n"
     ]
    },
    {
     "data": {
      "text/plain": [
       "178089.7550204951"
      ]
     },
     "execution_count": 179,
     "metadata": {},
     "output_type": "execute_result"
    }
   ],
   "source": [
    "#############################################\n",
    "# this takes a really long time to run. Gone for 15 minutes.\n",
    "#############################################\n",
    "# gradient boosting model\n",
    "gb_pipe = Pipeline([('preprocessor', preprocessor),\n",
    "                     ('poly', PolynomialFeatures(degree = 1, interaction_only = False)),\n",
    "                     ('gb', GradientBoostingClassifier(n_estimators = 100, learning_rate = 0.1))\n",
    "                     ])\n",
    "\n",
    "# create predictions\n",
    "gb_pipe.fit(X_train, y_train)\n",
    "gb_preds = gb_pipe.predict(X_test)\n",
    "# calculate model metrics\n",
    "rmse_gb = mean_squared_error(y_test, gb_preds, squared=False)\n",
    "score_gb = np.mean(cross_val_score(gb_pipe, X_train, y_train, cv=10, scoring='neg_root_mean_squared_error'))*(-1)\n",
    "score_gb"
   ]
  },
  {
   "cell_type": "code",
   "execution_count": 241,
   "metadata": {},
   "outputs": [
    {
     "name": "stdout",
     "output_type": "stream",
     "text": [
      "Linear Model:\n",
      "rmse:  81097.01810157737\n",
      "cv:  89282.29437329853\n",
      " \n",
      "KNN Model:\n",
      "rmse:  81924.14272690755\n",
      "cv:  85791.67845312216\n",
      " \n",
      "Lasso:\n",
      "rmse:  78999.80991023897\n",
      "cv:  79121.60466590956\n",
      " \n",
      "Tree Regressor:\n",
      "rmse:  82109.20717913279\n",
      "cv:  83483.83274428333\n",
      " \n",
      "Forest:\n",
      "rmse:  152028.32378821558\n",
      "cv:  156737.8246851557\n",
      " \n"
     ]
    }
   ],
   "source": [
    "# results from various models\n",
    "print('Linear Model:')\n",
    "print('rmse: ', rmse_lm)\n",
    "print('cv: ', score_lm)\n",
    "print(' ')\n",
    "\n",
    "print('KNN Model:')\n",
    "print('rmse: ', rmse_knn)\n",
    "print('cv: ', score_knn)\n",
    "print(' ')\n",
    "\n",
    "print('Lasso:')\n",
    "print('rmse: ', rmse_lasso)\n",
    "print('cv: ', score_lasso)\n",
    "print(' ')\n",
    "\n",
    "print('Tree Regressor:')\n",
    "print('rmse: ', rmse_tree)\n",
    "print('cv: ', score_tree)\n",
    "print(' ')\n",
    "\n",
    "# print('Logistic Regression:')\n",
    "# print('rmse: ', rmse_logreg)\n",
    "# print('cv: ', score_logreg)\n",
    "# print(' ')\n",
    "\n",
    "print('Forest:')\n",
    "print('rmse: ', rmse_forest)\n",
    "print('cv: ', score_forest)\n",
    "print(' ')\n",
    "\n",
    "# print('Gradient Boosting:')\n",
    "# print('rmse: ', rmse_gb)\n",
    "# print('cv: ', score_gb)"
   ]
  },
  {
   "cell_type": "markdown",
   "metadata": {},
   "source": [
    "From what I could observe, it looks like the Lasso model with 10 cross validation score has the best result."
   ]
  },
  {
   "cell_type": "code",
   "execution_count": 312,
   "metadata": {},
   "outputs": [
    {
     "ename": "ValueError",
     "evalue": "A given column is not a column of the dataframe",
     "output_type": "error",
     "traceback": [
      "\u001b[0;31m---------------------------------------------------------------------------\u001b[0m",
      "\u001b[0;31mKeyError\u001b[0m                                  Traceback (most recent call last)",
      "\u001b[0;32m~/opt/anaconda3/lib/python3.8/site-packages/pandas/core/indexes/base.py\u001b[0m in \u001b[0;36mget_loc\u001b[0;34m(self, key, method, tolerance)\u001b[0m\n\u001b[1;32m   3079\u001b[0m             \u001b[0;32mtry\u001b[0m\u001b[0;34m:\u001b[0m\u001b[0;34m\u001b[0m\u001b[0;34m\u001b[0m\u001b[0m\n\u001b[0;32m-> 3080\u001b[0;31m                 \u001b[0;32mreturn\u001b[0m \u001b[0mself\u001b[0m\u001b[0;34m.\u001b[0m\u001b[0m_engine\u001b[0m\u001b[0;34m.\u001b[0m\u001b[0mget_loc\u001b[0m\u001b[0;34m(\u001b[0m\u001b[0mcasted_key\u001b[0m\u001b[0;34m)\u001b[0m\u001b[0;34m\u001b[0m\u001b[0;34m\u001b[0m\u001b[0m\n\u001b[0m\u001b[1;32m   3081\u001b[0m             \u001b[0;32mexcept\u001b[0m \u001b[0mKeyError\u001b[0m \u001b[0;32mas\u001b[0m \u001b[0merr\u001b[0m\u001b[0;34m:\u001b[0m\u001b[0;34m\u001b[0m\u001b[0;34m\u001b[0m\u001b[0m\n",
      "\u001b[0;32mpandas/_libs/index.pyx\u001b[0m in \u001b[0;36mpandas._libs.index.IndexEngine.get_loc\u001b[0;34m()\u001b[0m\n",
      "\u001b[0;32mpandas/_libs/index.pyx\u001b[0m in \u001b[0;36mpandas._libs.index.IndexEngine.get_loc\u001b[0;34m()\u001b[0m\n",
      "\u001b[0;32mpandas/_libs/hashtable_class_helper.pxi\u001b[0m in \u001b[0;36mpandas._libs.hashtable.PyObjectHashTable.get_item\u001b[0;34m()\u001b[0m\n",
      "\u001b[0;32mpandas/_libs/hashtable_class_helper.pxi\u001b[0m in \u001b[0;36mpandas._libs.hashtable.PyObjectHashTable.get_item\u001b[0;34m()\u001b[0m\n",
      "\u001b[0;31mKeyError\u001b[0m: 'company'",
      "\nThe above exception was the direct cause of the following exception:\n",
      "\u001b[0;31mKeyError\u001b[0m                                  Traceback (most recent call last)",
      "\u001b[0;32m~/opt/anaconda3/lib/python3.8/site-packages/sklearn/utils/__init__.py\u001b[0m in \u001b[0;36m_get_column_indices\u001b[0;34m(X, key)\u001b[0m\n\u001b[1;32m    395\u001b[0m             \u001b[0;32mfor\u001b[0m \u001b[0mcol\u001b[0m \u001b[0;32min\u001b[0m \u001b[0mcolumns\u001b[0m\u001b[0;34m:\u001b[0m\u001b[0;34m\u001b[0m\u001b[0;34m\u001b[0m\u001b[0m\n\u001b[0;32m--> 396\u001b[0;31m                 \u001b[0mcol_idx\u001b[0m \u001b[0;34m=\u001b[0m \u001b[0mall_columns\u001b[0m\u001b[0;34m.\u001b[0m\u001b[0mget_loc\u001b[0m\u001b[0;34m(\u001b[0m\u001b[0mcol\u001b[0m\u001b[0;34m)\u001b[0m\u001b[0;34m\u001b[0m\u001b[0;34m\u001b[0m\u001b[0m\n\u001b[0m\u001b[1;32m    397\u001b[0m                 \u001b[0;32mif\u001b[0m \u001b[0;32mnot\u001b[0m \u001b[0misinstance\u001b[0m\u001b[0;34m(\u001b[0m\u001b[0mcol_idx\u001b[0m\u001b[0;34m,\u001b[0m \u001b[0mnumbers\u001b[0m\u001b[0;34m.\u001b[0m\u001b[0mIntegral\u001b[0m\u001b[0;34m)\u001b[0m\u001b[0;34m:\u001b[0m\u001b[0;34m\u001b[0m\u001b[0;34m\u001b[0m\u001b[0m\n",
      "\u001b[0;32m~/opt/anaconda3/lib/python3.8/site-packages/pandas/core/indexes/base.py\u001b[0m in \u001b[0;36mget_loc\u001b[0;34m(self, key, method, tolerance)\u001b[0m\n\u001b[1;32m   3081\u001b[0m             \u001b[0;32mexcept\u001b[0m \u001b[0mKeyError\u001b[0m \u001b[0;32mas\u001b[0m \u001b[0merr\u001b[0m\u001b[0;34m:\u001b[0m\u001b[0;34m\u001b[0m\u001b[0;34m\u001b[0m\u001b[0m\n\u001b[0;32m-> 3082\u001b[0;31m                 \u001b[0;32mraise\u001b[0m \u001b[0mKeyError\u001b[0m\u001b[0;34m(\u001b[0m\u001b[0mkey\u001b[0m\u001b[0;34m)\u001b[0m \u001b[0;32mfrom\u001b[0m \u001b[0merr\u001b[0m\u001b[0;34m\u001b[0m\u001b[0;34m\u001b[0m\u001b[0m\n\u001b[0m\u001b[1;32m   3083\u001b[0m \u001b[0;34m\u001b[0m\u001b[0m\n",
      "\u001b[0;31mKeyError\u001b[0m: 'company'",
      "\nThe above exception was the direct cause of the following exception:\n",
      "\u001b[0;31mValueError\u001b[0m                                Traceback (most recent call last)",
      "\u001b[0;32m<ipython-input-312-5c4ef9712239>\u001b[0m in \u001b[0;36m<module>\u001b[0;34m\u001b[0m\n\u001b[1;32m     15\u001b[0m \u001b[0;34m\u001b[0m\u001b[0m\n\u001b[1;32m     16\u001b[0m \u001b[0;31m# create linear regression model\u001b[0m\u001b[0;34m\u001b[0m\u001b[0;34m\u001b[0m\u001b[0;34m\u001b[0m\u001b[0m\n\u001b[0;32m---> 17\u001b[0;31m \u001b[0mlasso_pipe\u001b[0m\u001b[0;34m.\u001b[0m\u001b[0mfit\u001b[0m\u001b[0;34m(\u001b[0m\u001b[0mX_train\u001b[0m\u001b[0;34m,\u001b[0m \u001b[0my_train\u001b[0m\u001b[0;34m)\u001b[0m\u001b[0;34m\u001b[0m\u001b[0;34m\u001b[0m\u001b[0m\n\u001b[0m\u001b[1;32m     18\u001b[0m \u001b[0mlasso_preds\u001b[0m \u001b[0;34m=\u001b[0m \u001b[0mlasso_pipe\u001b[0m\u001b[0;34m.\u001b[0m\u001b[0mpredict\u001b[0m\u001b[0;34m(\u001b[0m\u001b[0mX_test\u001b[0m\u001b[0;34m)\u001b[0m\u001b[0;34m\u001b[0m\u001b[0;34m\u001b[0m\u001b[0m\n\u001b[1;32m     19\u001b[0m \u001b[0;31m# calculate model metrics\u001b[0m\u001b[0;34m\u001b[0m\u001b[0;34m\u001b[0m\u001b[0;34m\u001b[0m\u001b[0m\n",
      "\u001b[0;32m~/opt/anaconda3/lib/python3.8/site-packages/sklearn/pipeline.py\u001b[0m in \u001b[0;36mfit\u001b[0;34m(self, X, y, **fit_params)\u001b[0m\n\u001b[1;32m    339\u001b[0m         \"\"\"\n\u001b[1;32m    340\u001b[0m         \u001b[0mfit_params_steps\u001b[0m \u001b[0;34m=\u001b[0m \u001b[0mself\u001b[0m\u001b[0;34m.\u001b[0m\u001b[0m_check_fit_params\u001b[0m\u001b[0;34m(\u001b[0m\u001b[0;34m**\u001b[0m\u001b[0mfit_params\u001b[0m\u001b[0;34m)\u001b[0m\u001b[0;34m\u001b[0m\u001b[0;34m\u001b[0m\u001b[0m\n\u001b[0;32m--> 341\u001b[0;31m         \u001b[0mXt\u001b[0m \u001b[0;34m=\u001b[0m \u001b[0mself\u001b[0m\u001b[0;34m.\u001b[0m\u001b[0m_fit\u001b[0m\u001b[0;34m(\u001b[0m\u001b[0mX\u001b[0m\u001b[0;34m,\u001b[0m \u001b[0my\u001b[0m\u001b[0;34m,\u001b[0m \u001b[0;34m**\u001b[0m\u001b[0mfit_params_steps\u001b[0m\u001b[0;34m)\u001b[0m\u001b[0;34m\u001b[0m\u001b[0;34m\u001b[0m\u001b[0m\n\u001b[0m\u001b[1;32m    342\u001b[0m         with _print_elapsed_time('Pipeline',\n\u001b[1;32m    343\u001b[0m                                  self._log_message(len(self.steps) - 1)):\n",
      "\u001b[0;32m~/opt/anaconda3/lib/python3.8/site-packages/sklearn/pipeline.py\u001b[0m in \u001b[0;36m_fit\u001b[0;34m(self, X, y, **fit_params_steps)\u001b[0m\n\u001b[1;32m    301\u001b[0m                 \u001b[0mcloned_transformer\u001b[0m \u001b[0;34m=\u001b[0m \u001b[0mclone\u001b[0m\u001b[0;34m(\u001b[0m\u001b[0mtransformer\u001b[0m\u001b[0;34m)\u001b[0m\u001b[0;34m\u001b[0m\u001b[0;34m\u001b[0m\u001b[0m\n\u001b[1;32m    302\u001b[0m             \u001b[0;31m# Fit or load from cache the current transformer\u001b[0m\u001b[0;34m\u001b[0m\u001b[0;34m\u001b[0m\u001b[0;34m\u001b[0m\u001b[0m\n\u001b[0;32m--> 303\u001b[0;31m             X, fitted_transformer = fit_transform_one_cached(\n\u001b[0m\u001b[1;32m    304\u001b[0m                 \u001b[0mcloned_transformer\u001b[0m\u001b[0;34m,\u001b[0m \u001b[0mX\u001b[0m\u001b[0;34m,\u001b[0m \u001b[0my\u001b[0m\u001b[0;34m,\u001b[0m \u001b[0;32mNone\u001b[0m\u001b[0;34m,\u001b[0m\u001b[0;34m\u001b[0m\u001b[0;34m\u001b[0m\u001b[0m\n\u001b[1;32m    305\u001b[0m                 \u001b[0mmessage_clsname\u001b[0m\u001b[0;34m=\u001b[0m\u001b[0;34m'Pipeline'\u001b[0m\u001b[0;34m,\u001b[0m\u001b[0;34m\u001b[0m\u001b[0;34m\u001b[0m\u001b[0m\n",
      "\u001b[0;32m~/opt/anaconda3/lib/python3.8/site-packages/joblib/memory.py\u001b[0m in \u001b[0;36m__call__\u001b[0;34m(self, *args, **kwargs)\u001b[0m\n\u001b[1;32m    350\u001b[0m \u001b[0;34m\u001b[0m\u001b[0m\n\u001b[1;32m    351\u001b[0m     \u001b[0;32mdef\u001b[0m \u001b[0m__call__\u001b[0m\u001b[0;34m(\u001b[0m\u001b[0mself\u001b[0m\u001b[0;34m,\u001b[0m \u001b[0;34m*\u001b[0m\u001b[0margs\u001b[0m\u001b[0;34m,\u001b[0m \u001b[0;34m**\u001b[0m\u001b[0mkwargs\u001b[0m\u001b[0;34m)\u001b[0m\u001b[0;34m:\u001b[0m\u001b[0;34m\u001b[0m\u001b[0;34m\u001b[0m\u001b[0m\n\u001b[0;32m--> 352\u001b[0;31m         \u001b[0;32mreturn\u001b[0m \u001b[0mself\u001b[0m\u001b[0;34m.\u001b[0m\u001b[0mfunc\u001b[0m\u001b[0;34m(\u001b[0m\u001b[0;34m*\u001b[0m\u001b[0margs\u001b[0m\u001b[0;34m,\u001b[0m \u001b[0;34m**\u001b[0m\u001b[0mkwargs\u001b[0m\u001b[0;34m)\u001b[0m\u001b[0;34m\u001b[0m\u001b[0;34m\u001b[0m\u001b[0m\n\u001b[0m\u001b[1;32m    353\u001b[0m \u001b[0;34m\u001b[0m\u001b[0m\n\u001b[1;32m    354\u001b[0m     \u001b[0;32mdef\u001b[0m \u001b[0mcall_and_shelve\u001b[0m\u001b[0;34m(\u001b[0m\u001b[0mself\u001b[0m\u001b[0;34m,\u001b[0m \u001b[0;34m*\u001b[0m\u001b[0margs\u001b[0m\u001b[0;34m,\u001b[0m \u001b[0;34m**\u001b[0m\u001b[0mkwargs\u001b[0m\u001b[0;34m)\u001b[0m\u001b[0;34m:\u001b[0m\u001b[0;34m\u001b[0m\u001b[0;34m\u001b[0m\u001b[0m\n",
      "\u001b[0;32m~/opt/anaconda3/lib/python3.8/site-packages/sklearn/pipeline.py\u001b[0m in \u001b[0;36m_fit_transform_one\u001b[0;34m(transformer, X, y, weight, message_clsname, message, **fit_params)\u001b[0m\n\u001b[1;32m    752\u001b[0m     \u001b[0;32mwith\u001b[0m \u001b[0m_print_elapsed_time\u001b[0m\u001b[0;34m(\u001b[0m\u001b[0mmessage_clsname\u001b[0m\u001b[0;34m,\u001b[0m \u001b[0mmessage\u001b[0m\u001b[0;34m)\u001b[0m\u001b[0;34m:\u001b[0m\u001b[0;34m\u001b[0m\u001b[0;34m\u001b[0m\u001b[0m\n\u001b[1;32m    753\u001b[0m         \u001b[0;32mif\u001b[0m \u001b[0mhasattr\u001b[0m\u001b[0;34m(\u001b[0m\u001b[0mtransformer\u001b[0m\u001b[0;34m,\u001b[0m \u001b[0;34m'fit_transform'\u001b[0m\u001b[0;34m)\u001b[0m\u001b[0;34m:\u001b[0m\u001b[0;34m\u001b[0m\u001b[0;34m\u001b[0m\u001b[0m\n\u001b[0;32m--> 754\u001b[0;31m             \u001b[0mres\u001b[0m \u001b[0;34m=\u001b[0m \u001b[0mtransformer\u001b[0m\u001b[0;34m.\u001b[0m\u001b[0mfit_transform\u001b[0m\u001b[0;34m(\u001b[0m\u001b[0mX\u001b[0m\u001b[0;34m,\u001b[0m \u001b[0my\u001b[0m\u001b[0;34m,\u001b[0m \u001b[0;34m**\u001b[0m\u001b[0mfit_params\u001b[0m\u001b[0;34m)\u001b[0m\u001b[0;34m\u001b[0m\u001b[0;34m\u001b[0m\u001b[0m\n\u001b[0m\u001b[1;32m    755\u001b[0m         \u001b[0;32melse\u001b[0m\u001b[0;34m:\u001b[0m\u001b[0;34m\u001b[0m\u001b[0;34m\u001b[0m\u001b[0m\n\u001b[1;32m    756\u001b[0m             \u001b[0mres\u001b[0m \u001b[0;34m=\u001b[0m \u001b[0mtransformer\u001b[0m\u001b[0;34m.\u001b[0m\u001b[0mfit\u001b[0m\u001b[0;34m(\u001b[0m\u001b[0mX\u001b[0m\u001b[0;34m,\u001b[0m \u001b[0my\u001b[0m\u001b[0;34m,\u001b[0m \u001b[0;34m**\u001b[0m\u001b[0mfit_params\u001b[0m\u001b[0;34m)\u001b[0m\u001b[0;34m.\u001b[0m\u001b[0mtransform\u001b[0m\u001b[0;34m(\u001b[0m\u001b[0mX\u001b[0m\u001b[0;34m)\u001b[0m\u001b[0;34m\u001b[0m\u001b[0;34m\u001b[0m\u001b[0m\n",
      "\u001b[0;32m~/opt/anaconda3/lib/python3.8/site-packages/sklearn/compose/_column_transformer.py\u001b[0m in \u001b[0;36mfit_transform\u001b[0;34m(self, X, y)\u001b[0m\n\u001b[1;32m    504\u001b[0m         \u001b[0mself\u001b[0m\u001b[0;34m.\u001b[0m\u001b[0m_validate_transformers\u001b[0m\u001b[0;34m(\u001b[0m\u001b[0;34m)\u001b[0m\u001b[0;34m\u001b[0m\u001b[0;34m\u001b[0m\u001b[0m\n\u001b[1;32m    505\u001b[0m         \u001b[0mself\u001b[0m\u001b[0;34m.\u001b[0m\u001b[0m_validate_column_callables\u001b[0m\u001b[0;34m(\u001b[0m\u001b[0mX\u001b[0m\u001b[0;34m)\u001b[0m\u001b[0;34m\u001b[0m\u001b[0;34m\u001b[0m\u001b[0m\n\u001b[0;32m--> 506\u001b[0;31m         \u001b[0mself\u001b[0m\u001b[0;34m.\u001b[0m\u001b[0m_validate_remainder\u001b[0m\u001b[0;34m(\u001b[0m\u001b[0mX\u001b[0m\u001b[0;34m)\u001b[0m\u001b[0;34m\u001b[0m\u001b[0;34m\u001b[0m\u001b[0m\n\u001b[0m\u001b[1;32m    507\u001b[0m \u001b[0;34m\u001b[0m\u001b[0m\n\u001b[1;32m    508\u001b[0m         \u001b[0mresult\u001b[0m \u001b[0;34m=\u001b[0m \u001b[0mself\u001b[0m\u001b[0;34m.\u001b[0m\u001b[0m_fit_transform\u001b[0m\u001b[0;34m(\u001b[0m\u001b[0mX\u001b[0m\u001b[0;34m,\u001b[0m \u001b[0my\u001b[0m\u001b[0;34m,\u001b[0m \u001b[0m_fit_transform_one\u001b[0m\u001b[0;34m)\u001b[0m\u001b[0;34m\u001b[0m\u001b[0;34m\u001b[0m\u001b[0m\n",
      "\u001b[0;32m~/opt/anaconda3/lib/python3.8/site-packages/sklearn/compose/_column_transformer.py\u001b[0m in \u001b[0;36m_validate_remainder\u001b[0;34m(self, X)\u001b[0m\n\u001b[1;32m    330\u001b[0m         \u001b[0mcols\u001b[0m \u001b[0;34m=\u001b[0m \u001b[0;34m[\u001b[0m\u001b[0;34m]\u001b[0m\u001b[0;34m\u001b[0m\u001b[0;34m\u001b[0m\u001b[0m\n\u001b[1;32m    331\u001b[0m         \u001b[0;32mfor\u001b[0m \u001b[0mcolumns\u001b[0m \u001b[0;32min\u001b[0m \u001b[0mself\u001b[0m\u001b[0;34m.\u001b[0m\u001b[0m_columns\u001b[0m\u001b[0;34m:\u001b[0m\u001b[0;34m\u001b[0m\u001b[0;34m\u001b[0m\u001b[0m\n\u001b[0;32m--> 332\u001b[0;31m             \u001b[0mcols\u001b[0m\u001b[0;34m.\u001b[0m\u001b[0mextend\u001b[0m\u001b[0;34m(\u001b[0m\u001b[0m_get_column_indices\u001b[0m\u001b[0;34m(\u001b[0m\u001b[0mX\u001b[0m\u001b[0;34m,\u001b[0m \u001b[0mcolumns\u001b[0m\u001b[0;34m)\u001b[0m\u001b[0;34m)\u001b[0m\u001b[0;34m\u001b[0m\u001b[0;34m\u001b[0m\u001b[0m\n\u001b[0m\u001b[1;32m    333\u001b[0m \u001b[0;34m\u001b[0m\u001b[0m\n\u001b[1;32m    334\u001b[0m         \u001b[0mremaining_idx\u001b[0m \u001b[0;34m=\u001b[0m \u001b[0msorted\u001b[0m\u001b[0;34m(\u001b[0m\u001b[0mset\u001b[0m\u001b[0;34m(\u001b[0m\u001b[0mrange\u001b[0m\u001b[0;34m(\u001b[0m\u001b[0mself\u001b[0m\u001b[0;34m.\u001b[0m\u001b[0m_n_features\u001b[0m\u001b[0;34m)\u001b[0m\u001b[0;34m)\u001b[0m \u001b[0;34m-\u001b[0m \u001b[0mset\u001b[0m\u001b[0;34m(\u001b[0m\u001b[0mcols\u001b[0m\u001b[0;34m)\u001b[0m\u001b[0;34m)\u001b[0m\u001b[0;34m\u001b[0m\u001b[0;34m\u001b[0m\u001b[0m\n",
      "\u001b[0;32m~/opt/anaconda3/lib/python3.8/site-packages/sklearn/utils/__init__.py\u001b[0m in \u001b[0;36m_get_column_indices\u001b[0;34m(X, key)\u001b[0m\n\u001b[1;32m    401\u001b[0m \u001b[0;34m\u001b[0m\u001b[0m\n\u001b[1;32m    402\u001b[0m         \u001b[0;32mexcept\u001b[0m \u001b[0mKeyError\u001b[0m \u001b[0;32mas\u001b[0m \u001b[0me\u001b[0m\u001b[0;34m:\u001b[0m\u001b[0;34m\u001b[0m\u001b[0;34m\u001b[0m\u001b[0m\n\u001b[0;32m--> 403\u001b[0;31m             raise ValueError(\n\u001b[0m\u001b[1;32m    404\u001b[0m                 \u001b[0;34m\"A given column is not a column of the dataframe\"\u001b[0m\u001b[0;34m\u001b[0m\u001b[0;34m\u001b[0m\u001b[0m\n\u001b[1;32m    405\u001b[0m             ) from e\n",
      "\u001b[0;31mValueError\u001b[0m: A given column is not a column of the dataframe"
     ]
    }
   ],
   "source": [
    "df = pd.get_dummies(faang, columns = ['company', 'title'])\n",
    "\n",
    "# select X variables\n",
    "X = df.drop(\"totalyearlycompensation\", axis = 1)\n",
    "y = df[\"totalyearlycompensation\"]\n",
    "\n",
    "# create train and test datasets\n",
    "X_train, X_test, y_train, y_test = train_test_split(df, y, test_size = .25, random_state = 1234)\n",
    "\n",
    "# lasso model\n",
    "lasso_pipe = Pipeline([('preprocessor', preprocessor),\n",
    "                    ('poly', PolynomialFeatures(degree = 2, interaction_only = False)),\n",
    "                    ('lasso', Lasso())\n",
    "                    ])\n",
    "\n",
    "# create linear regression model\n",
    "lasso_pipe.fit(X_train, y_train)\n",
    "lasso_preds = lasso_pipe.predict(X_test)\n",
    "# calculate model metrics\n",
    "rmse_lasso = mean_squared_error(y_test, lasso_preds, squared=False)\n",
    "score_lasso = np.mean(cross_val_score(lasso_pipe, X_train, y_train, cv=10, scoring='neg_root_mean_squared_error'))*(-1)\n",
    "score_lasso"
   ]
  },
  {
   "cell_type": "code",
   "execution_count": 297,
   "metadata": {},
   "outputs": [
    {
     "data": {
      "text/html": [
       "<div>\n",
       "<style scoped>\n",
       "    .dataframe tbody tr th:only-of-type {\n",
       "        vertical-align: middle;\n",
       "    }\n",
       "\n",
       "    .dataframe tbody tr th {\n",
       "        vertical-align: top;\n",
       "    }\n",
       "\n",
       "    .dataframe thead th {\n",
       "        text-align: right;\n",
       "    }\n",
       "</style>\n",
       "<table border=\"1\" class=\"dataframe\">\n",
       "  <thead>\n",
       "    <tr style=\"text-align: right;\">\n",
       "      <th></th>\n",
       "      <th>Column_Name</th>\n",
       "      <th>Coef_Values</th>\n",
       "    </tr>\n",
       "  </thead>\n",
       "  <tbody>\n",
       "    <tr>\n",
       "      <th>3</th>\n",
       "      <td>yearsofexperience</td>\n",
       "      <td>74794.193365</td>\n",
       "    </tr>\n",
       "    <tr>\n",
       "      <th>3</th>\n",
       "      <td>yearsofexperience</td>\n",
       "      <td>74794.193365</td>\n",
       "    </tr>\n",
       "    <tr>\n",
       "      <th>1</th>\n",
       "      <td>title</td>\n",
       "      <td>48190.056807</td>\n",
       "    </tr>\n",
       "    <tr>\n",
       "      <th>1</th>\n",
       "      <td>title</td>\n",
       "      <td>48190.056807</td>\n",
       "    </tr>\n",
       "    <tr>\n",
       "      <th>4</th>\n",
       "      <td>yearsatcompany</td>\n",
       "      <td>39439.074589</td>\n",
       "    </tr>\n",
       "    <tr>\n",
       "      <th>4</th>\n",
       "      <td>yearsatcompany</td>\n",
       "      <td>39439.074589</td>\n",
       "    </tr>\n",
       "    <tr>\n",
       "      <th>2</th>\n",
       "      <td>totalyearlycompensation</td>\n",
       "      <td>9441.500574</td>\n",
       "    </tr>\n",
       "    <tr>\n",
       "      <th>2</th>\n",
       "      <td>totalyearlycompensation</td>\n",
       "      <td>9441.500574</td>\n",
       "    </tr>\n",
       "    <tr>\n",
       "      <th>7</th>\n",
       "      <td>Masters_Degree</td>\n",
       "      <td>2849.901233</td>\n",
       "    </tr>\n",
       "    <tr>\n",
       "      <th>7</th>\n",
       "      <td>Masters_Degree</td>\n",
       "      <td>2849.901233</td>\n",
       "    </tr>\n",
       "    <tr>\n",
       "      <th>8</th>\n",
       "      <td>Bachelors_Degree</td>\n",
       "      <td>0.000000</td>\n",
       "    </tr>\n",
       "    <tr>\n",
       "      <th>9</th>\n",
       "      <td>Doctorate_Degree</td>\n",
       "      <td>0.000000</td>\n",
       "    </tr>\n",
       "    <tr>\n",
       "      <th>0</th>\n",
       "      <td>company</td>\n",
       "      <td>0.000000</td>\n",
       "    </tr>\n",
       "    <tr>\n",
       "      <th>0</th>\n",
       "      <td>company</td>\n",
       "      <td>0.000000</td>\n",
       "    </tr>\n",
       "    <tr>\n",
       "      <th>8</th>\n",
       "      <td>Bachelors_Degree</td>\n",
       "      <td>0.000000</td>\n",
       "    </tr>\n",
       "    <tr>\n",
       "      <th>9</th>\n",
       "      <td>Doctorate_Degree</td>\n",
       "      <td>0.000000</td>\n",
       "    </tr>\n",
       "    <tr>\n",
       "      <th>6</th>\n",
       "      <td>bonus</td>\n",
       "      <td>-150.822233</td>\n",
       "    </tr>\n",
       "    <tr>\n",
       "      <th>6</th>\n",
       "      <td>bonus</td>\n",
       "      <td>-150.822233</td>\n",
       "    </tr>\n",
       "    <tr>\n",
       "      <th>5</th>\n",
       "      <td>basesalary</td>\n",
       "      <td>-1505.128349</td>\n",
       "    </tr>\n",
       "    <tr>\n",
       "      <th>5</th>\n",
       "      <td>basesalary</td>\n",
       "      <td>-1505.128349</td>\n",
       "    </tr>\n",
       "    <tr>\n",
       "      <th>11</th>\n",
       "      <td>Some_College</td>\n",
       "      <td>-6710.538959</td>\n",
       "    </tr>\n",
       "    <tr>\n",
       "      <th>11</th>\n",
       "      <td>Some_College</td>\n",
       "      <td>-6710.538959</td>\n",
       "    </tr>\n",
       "    <tr>\n",
       "      <th>10</th>\n",
       "      <td>Highschool</td>\n",
       "      <td>-16594.009740</td>\n",
       "    </tr>\n",
       "    <tr>\n",
       "      <th>10</th>\n",
       "      <td>Highschool</td>\n",
       "      <td>-16594.009740</td>\n",
       "    </tr>\n",
       "  </tbody>\n",
       "</table>\n",
       "</div>"
      ],
      "text/plain": [
       "                Column_Name   Coef_Values\n",
       "3         yearsofexperience  74794.193365\n",
       "3         yearsofexperience  74794.193365\n",
       "1                     title  48190.056807\n",
       "1                     title  48190.056807\n",
       "4            yearsatcompany  39439.074589\n",
       "4            yearsatcompany  39439.074589\n",
       "2   totalyearlycompensation   9441.500574\n",
       "2   totalyearlycompensation   9441.500574\n",
       "7            Masters_Degree   2849.901233\n",
       "7            Masters_Degree   2849.901233\n",
       "8          Bachelors_Degree      0.000000\n",
       "9          Doctorate_Degree      0.000000\n",
       "0                   company      0.000000\n",
       "0                   company      0.000000\n",
       "8          Bachelors_Degree      0.000000\n",
       "9          Doctorate_Degree      0.000000\n",
       "6                     bonus   -150.822233\n",
       "6                     bonus   -150.822233\n",
       "5                basesalary  -1505.128349\n",
       "5                basesalary  -1505.128349\n",
       "11             Some_College  -6710.538959\n",
       "11             Some_College  -6710.538959\n",
       "10               Highschool -16594.009740\n",
       "10               Highschool -16594.009740"
      ]
     },
     "execution_count": 297,
     "metadata": {},
     "output_type": "execute_result"
    }
   ],
   "source": [
    "## get interpretable results\n",
    "\n",
    "\n",
    "coef_df = pd.DataFrame()\n",
    "coef_df[\"Column_Name\"] = X_train.columns\n",
    "coef_df['Coef_Values'] = pd.Series(lasso_pipe.named_steps['lasso'].coef_)\n",
    "lowest_coef = coef_df.sort_values('Coef_Values', ascending=True).head(100)\n",
    "highest_coef = coef_df.sort_values('Coef_Values', ascending=True).tail(100)\n",
    "\n",
    "# pd.Series(lasso_pipe.named_steps['lasso'].coef_)\n",
    "\n",
    "coefs = lasso_pipe.named_steps['lasso'].coef_       # dense np.array\n",
    "# lasso_pipe.named_steps['lasso'].feature_names_in_\n",
    "\n",
    "\n",
    "important_coef_df = pd.concat([highest_coef, lowest_coef]).sort_values('Coef_Values', ascending = False)\n",
    "important_coef_df"
   ]
  },
  {
   "cell_type": "code",
   "execution_count": 258,
   "metadata": {},
   "outputs": [
    {
     "data": {
      "text/plain": [
       "Index(['company', 'title', 'totalyearlycompensation', 'yearsofexperience',\n",
       "       'yearsatcompany', 'basesalary', 'bonus', 'Masters_Degree',\n",
       "       'Bachelors_Degree', 'Doctorate_Degree', 'Highschool', 'Some_College'],\n",
       "      dtype='object')"
      ]
     },
     "execution_count": 258,
     "metadata": {},
     "output_type": "execute_result"
    }
   ],
   "source": [
    "X_train.columns"
   ]
  },
  {
   "cell_type": "code",
   "execution_count": 267,
   "metadata": {},
   "outputs": [
    {
     "data": {
      "text/plain": [
       "array([ 0.00000000e+00,  4.81900568e+04,  9.44150057e+03,  7.47941934e+04,\n",
       "        3.94390746e+04, -1.50512835e+03, -1.50822233e+02,  2.84990123e+03,\n",
       "        0.00000000e+00,  0.00000000e+00, -1.65940097e+04, -6.71053896e+03,\n",
       "        8.63041618e+03,  0.00000000e+00,  3.61909978e+03,  0.00000000e+00,\n",
       "        8.27568610e+02,  0.00000000e+00, -2.94396797e+04,  0.00000000e+00,\n",
       "       -3.44366189e+04,  0.00000000e+00,  6.36159991e+03, -0.00000000e+00,\n",
       "       -5.87888288e+03, -4.22706826e+04,  8.51042106e+03,  2.65847697e+04,\n",
       "       -1.27194736e+04,  1.06281415e+02,  1.11135215e+03,  5.69875207e+03,\n",
       "        6.87007627e+03, -7.16980022e+03,  9.42930946e+02,  3.92606286e+02,\n",
       "        2.14189947e+03,  4.75698157e+02, -6.68450722e+02, -2.51200456e+04,\n",
       "       -5.34325817e+04, -4.84190882e+04, -1.81911854e+04, -9.39899280e+04,\n",
       "       -5.70948767e+03, -1.42138733e+03,  1.27270358e+03, -3.81594673e+03,\n",
       "       -1.54441636e+04,  5.25161375e+03,  2.18201660e+03, -8.90495733e+03,\n",
       "       -5.34063353e+03, -7.47040909e+03,  3.19814243e+03, -1.81281176e+03,\n",
       "        1.71300886e+04, -1.05379054e+04, -9.96855876e+03, -2.61756867e+03,\n",
       "        1.00271867e+04, -2.56280359e+03,  1.98625887e+02,  6.26895180e+02,\n",
       "       -2.09421772e+03, -2.05415261e+03,  3.30111604e+01,  1.10320151e+04,\n",
       "        1.09477575e+02,  8.49973191e+03, -2.34230619e+04, -8.16866777e+04,\n",
       "       -1.39971648e+03,  9.02721764e+03,  1.28483484e+01, -4.52610205e+03,\n",
       "        2.56032965e+03, -1.42055340e+04,  4.70686739e+01,  5.75415335e+03,\n",
       "       -1.84512282e+03, -8.67872888e+03,  1.23579428e+04,  1.46197728e+03,\n",
       "       -1.93737379e+03,  1.50438910e+03, -1.19875193e+04,  5.69248112e+03,\n",
       "        5.17622696e+04, -8.96702940e+02,  1.39733135e+03,  5.29963858e+02,\n",
       "        2.61180430e+02,  2.02572555e+03,  3.33473636e+04,  2.76974926e+04,\n",
       "        7.48529657e+04, -4.68187886e+04, -8.54053379e+04, -1.34771854e+04,\n",
       "       -1.32344675e+04, -1.48297956e+04, -1.11074017e+04,  6.73748000e+04,\n",
       "       -3.83899308e+04, -9.30043937e+03, -2.57013640e+04,  3.71608659e+04,\n",
       "       -2.50460502e+04, -1.07282599e+05,  1.11633928e+04,  1.34767594e+04,\n",
       "       -1.54783945e+04, -1.48939146e+04,  6.62675551e+02,  3.63652150e+03,\n",
       "        9.95184402e+02, -4.05668550e+03, -3.31694715e+02, -2.01055093e+03,\n",
       "       -2.34451780e+04, -1.74338252e+04, -2.36519870e+04,  2.01879376e+04,\n",
       "       -2.10216906e+05,  2.35140770e+04,  1.48240038e+04, -1.73823735e+04,\n",
       "       -4.91401437e+03, -5.61737214e+04, -1.22135014e+03,  6.40376173e+03,\n",
       "        2.29908635e+04, -6.52309483e+03,  1.85489992e+04,  1.65258087e+04,\n",
       "       -6.27603068e+03, -1.85500459e+03,  9.58696398e+03, -1.13588906e+04,\n",
       "       -8.30018260e+01,  0.00000000e+00, -3.80546611e+03,  0.00000000e+00,\n",
       "        0.00000000e+00, -3.74715976e+02,  1.01621799e+03, -5.56031145e+03,\n",
       "        6.55881648e+03,  2.58779393e+03,  3.85292467e+03, -2.31679361e+03,\n",
       "        3.22500379e+03, -4.03085546e+03,  3.92970856e+04,  4.75607007e+03,\n",
       "       -1.76951596e+03, -1.47133688e+03,  1.31398959e+04,  2.53419323e+00,\n",
       "        2.94960915e+04,  1.04166908e+03, -1.18739883e+04, -5.87920771e+03,\n",
       "       -7.21001259e+02, -2.68673935e+02,  4.09238016e+03,  0.00000000e+00,\n",
       "        0.00000000e+00,  3.05265475e+03, -1.24654988e+03, -2.78741653e+02,\n",
       "        1.61093911e+03, -6.16014245e+03,  2.81068369e+02, -5.30950073e+03,\n",
       "       -3.68477817e+03,  1.32167746e+04,  3.30967518e+04,  1.25221156e+03,\n",
       "       -8.39208707e+03, -2.67454478e+03,  5.64807578e+03, -2.29162417e+03,\n",
       "        3.25989380e+03,  7.65938395e+02, -5.48980622e+03, -2.87089053e+03,\n",
       "       -4.61946174e+03, -4.75258361e+02,  0.00000000e+00,  0.00000000e+00,\n",
       "        3.12788856e+03, -1.10712457e+03, -6.20622789e+03,  9.56783832e+03,\n",
       "       -0.00000000e+00, -2.23543938e+03,  0.00000000e+00,  7.83910298e+02,\n",
       "       -7.07953037e+03, -3.54923322e+04,  0.00000000e+00,  4.88463180e+03,\n",
       "       -8.37552347e+03, -1.80418183e+02,  0.00000000e+00,  0.00000000e+00,\n",
       "        4.49707897e+03,  3.38313078e+03, -4.93383630e+02,  8.13991212e+03,\n",
       "        4.43946828e+01,  0.00000000e+00, -6.32171821e+01,  7.17135856e+02,\n",
       "       -0.00000000e+00, -0.00000000e+00,  4.60432117e+03, -0.00000000e+00,\n",
       "       -0.00000000e+00,  4.11852444e+03,  0.00000000e+00,  0.00000000e+00,\n",
       "       -5.53791641e+01, -0.00000000e+00,  2.90568014e+03,  0.00000000e+00,\n",
       "       -7.75879462e+03,  0.00000000e+00, -2.06271530e+03,  1.13219642e+04,\n",
       "       -1.54635252e+03,  1.88060031e+02, -4.08149924e+01,  4.42544285e+01,\n",
       "        5.68186418e+02, -2.39131250e+00, -0.00000000e+00, -2.25102742e+04,\n",
       "       -0.00000000e+00, -0.00000000e+00, -3.41050542e+02,  0.00000000e+00,\n",
       "        0.00000000e+00,  1.66818100e+03, -0.00000000e+00,  1.13794359e+03,\n",
       "       -1.01303535e+03,  1.72651591e+03,  0.00000000e+00, -1.34817168e+02,\n",
       "       -5.50929428e+03,  1.29179422e+03, -0.00000000e+00,  2.33725828e+04,\n",
       "        0.00000000e+00,  0.00000000e+00,  0.00000000e+00,  0.00000000e+00,\n",
       "       -2.13240033e+04, -9.89692728e+03,  4.19824270e+03, -1.34890800e+03,\n",
       "        5.18429529e+04, -0.00000000e+00,  0.00000000e+00, -3.42092031e+04,\n",
       "        1.76592030e+04, -2.04380957e+04,  2.91539097e+04, -2.85201825e+03,\n",
       "        2.65545495e+04,  0.00000000e+00, -1.35604248e+04, -4.48576647e+02,\n",
       "        0.00000000e+00,  0.00000000e+00,  0.00000000e+00,  6.50202389e+03,\n",
       "       -0.00000000e+00, -0.00000000e+00, -3.25730786e+04,  0.00000000e+00,\n",
       "        5.37955145e+04, -2.87313230e+03,  0.00000000e+00, -1.03777683e+04,\n",
       "       -0.00000000e+00, -5.27200477e+04,  4.61518034e+02, -3.64768930e+04,\n",
       "        2.99913108e+04,  0.00000000e+00, -2.52325580e+04,  0.00000000e+00,\n",
       "        0.00000000e+00,  0.00000000e+00, -0.00000000e+00, -4.67507681e+03,\n",
       "        2.50597357e+04, -8.43732866e+04, -2.15461488e+03,  0.00000000e+00,\n",
       "       -5.43480200e+03, -1.53437595e+04,  9.18867371e+03, -0.00000000e+00,\n",
       "        3.27698124e+04,  2.99281506e+04, -1.23212467e+04, -1.47833995e+04,\n",
       "        6.59686124e+02,  0.00000000e+00, -3.65957696e+04,  5.35604746e+04,\n",
       "        3.10466351e+04,  0.00000000e+00,  0.00000000e+00, -6.18766631e+04,\n",
       "        5.22391411e+04,  1.09492562e+03,  2.78155440e+04, -3.17141022e+04,\n",
       "       -9.53576215e+04,  1.04062753e+04, -1.66109850e+05, -3.29752108e+04,\n",
       "        2.59618482e+04,  1.63984645e+05,  5.02804747e+03,  4.14196572e+04,\n",
       "        0.00000000e+00,  0.00000000e+00,  0.00000000e+00,  0.00000000e+00,\n",
       "        0.00000000e+00,  2.03858465e+04, -2.59606938e+05,  0.00000000e+00,\n",
       "        0.00000000e+00, -6.58797452e+04, -1.29639722e+05,  0.00000000e+00,\n",
       "        4.31243319e+04,  6.93192509e+02,  0.00000000e+00,  0.00000000e+00,\n",
       "        0.00000000e+00,  0.00000000e+00,  0.00000000e+00,  0.00000000e+00,\n",
       "        0.00000000e+00,  0.00000000e+00,  0.00000000e+00,  0.00000000e+00,\n",
       "        0.00000000e+00,  0.00000000e+00,  0.00000000e+00,  0.00000000e+00,\n",
       "        1.37182892e+04,  0.00000000e+00,  0.00000000e+00,  0.00000000e+00,\n",
       "        0.00000000e+00,  0.00000000e+00,  0.00000000e+00,  0.00000000e+00,\n",
       "        0.00000000e+00,  0.00000000e+00,  0.00000000e+00,  0.00000000e+00,\n",
       "        0.00000000e+00,  0.00000000e+00,  1.87033706e+03,  0.00000000e+00,\n",
       "        0.00000000e+00,  0.00000000e+00,  0.00000000e+00,  0.00000000e+00,\n",
       "        0.00000000e+00,  0.00000000e+00,  0.00000000e+00,  0.00000000e+00,\n",
       "        0.00000000e+00,  0.00000000e+00,  0.00000000e+00, -0.00000000e+00,\n",
       "        0.00000000e+00,  0.00000000e+00,  0.00000000e+00,  0.00000000e+00,\n",
       "        0.00000000e+00,  0.00000000e+00,  0.00000000e+00,  0.00000000e+00,\n",
       "        0.00000000e+00,  0.00000000e+00,  0.00000000e+00,  0.00000000e+00,\n",
       "        0.00000000e+00,  0.00000000e+00,  0.00000000e+00,  0.00000000e+00,\n",
       "        0.00000000e+00,  0.00000000e+00,  0.00000000e+00,  0.00000000e+00,\n",
       "        0.00000000e+00,  0.00000000e+00, -5.94365562e+02,  0.00000000e+00,\n",
       "        0.00000000e+00,  0.00000000e+00,  0.00000000e+00,  0.00000000e+00,\n",
       "        0.00000000e+00,  0.00000000e+00,  0.00000000e+00,  0.00000000e+00,\n",
       "        2.06894716e+04,  0.00000000e+00,  0.00000000e+00,  0.00000000e+00,\n",
       "        0.00000000e+00,  0.00000000e+00,  0.00000000e+00,  0.00000000e+00,\n",
       "        0.00000000e+00,  1.59215553e+04,  0.00000000e+00,  0.00000000e+00,\n",
       "        0.00000000e+00,  0.00000000e+00,  0.00000000e+00,  0.00000000e+00,\n",
       "        0.00000000e+00, -0.00000000e+00,  0.00000000e+00,  0.00000000e+00,\n",
       "        0.00000000e+00,  0.00000000e+00,  0.00000000e+00,  0.00000000e+00,\n",
       "       -4.24165947e+03,  0.00000000e+00,  0.00000000e+00,  0.00000000e+00,\n",
       "        0.00000000e+00,  0.00000000e+00, -3.19483467e+04,  0.00000000e+00,\n",
       "        0.00000000e+00,  0.00000000e+00,  0.00000000e+00,  2.47559525e+03,\n",
       "        0.00000000e+00,  0.00000000e+00,  0.00000000e+00, -1.07738953e+04,\n",
       "        0.00000000e+00,  0.00000000e+00, -0.00000000e+00,  0.00000000e+00,\n",
       "        1.87649914e+03])"
      ]
     },
     "execution_count": 267,
     "metadata": {},
     "output_type": "execute_result"
    }
   ],
   "source": [
    "# change pipeline results\n",
    "lasso = lasso_pipe.named_steps['lasso']\n",
    "\n",
    "lasso.coef_"
   ]
  }
 ],
 "metadata": {
  "kernelspec": {
   "display_name": "Python 3",
   "language": "python",
   "name": "python3"
  },
  "language_info": {
   "codemirror_mode": {
    "name": "ipython",
    "version": 3
   },
   "file_extension": ".py",
   "mimetype": "text/x-python",
   "name": "python",
   "nbconvert_exporter": "python",
   "pygments_lexer": "ipython3",
   "version": "3.8.8"
  }
 },
 "nbformat": 4,
 "nbformat_minor": 2
}
