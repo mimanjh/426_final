{
 "cells": [
  {
   "attachments": {},
   "cell_type": "markdown",
   "metadata": {},
   "source": [
    "Question of interest: What working scenario would give the best total compensation per year?"
   ]
  },
  {
   "cell_type": "code",
   "execution_count": null,
   "metadata": {},
   "outputs": [],
   "source": [
    "# libraries\n",
    "import pandas as pd"
   ]
  },
  {
   "cell_type": "markdown",
   "metadata": {},
   "source": [
    "Read in all 5 FAANG company data and combine them into one."
   ]
  },
  {
   "cell_type": "code",
   "execution_count": null,
   "metadata": {},
   "outputs": [],
   "source": [
    "facebook = pd.read_csv('data/facebook.csv')\n",
    "netflix = pd.read_csv('data/netflix.csv')\n",
    "amazon = pd.read_csv('data/amazon.csv')\n",
    "apple = pd.read_csv('data/apple.csv')\n",
    "google = pd.read_csv('data/google.csv')\n",
    "\n",
    "arr = [facebook, netflix, amazon, apple, google]\n",
    "faang = pd.concat(arr)"
   ]
  },
  {
   "cell_type": "markdown",
   "metadata": {},
   "source": [
    "Wrangle with data"
   ]
  },
  {
   "cell_type": "code",
   "execution_count": null,
   "metadata": {},
   "outputs": [],
   "source": []
  },
  {
   "cell_type": "markdown",
   "metadata": {},
   "source": [
    "Deal with NaN and empty strings."
   ]
  },
  {
   "cell_type": "code",
   "execution_count": null,
   "metadata": {},
   "outputs": [],
   "source": []
  },
  {
   "cell_type": "markdown",
   "metadata": {},
   "source": [
    "Different modeling methods"
   ]
  },
  {
   "cell_type": "code",
   "execution_count": null,
   "metadata": {},
   "outputs": [],
   "source": [
    "# fit linear regression model\n",
    "from sklearn.linear_model import LinearRegression\n",
    "from sklearn.metrics import mean_squared_error\n",
    "\n",
    "# create linear regression model\n",
    "def lm_mod(X_train, y_train, X_test, y_test):\n",
    "    lm = LinearRegression()\n",
    "    lm.fit(X_train, y_train) # create model\n",
    "    lm_preds = lm.predict(X_test)\n",
    "    mse_lm = mean_squared_error(y_test, lm_preds)\n",
    "    print(mse_lm)\n",
    "    \n",
    "lm_mod(X_train, y_train, X_test, y_test)"
   ]
  },
  {
   "cell_type": "code",
   "execution_count": null,
   "metadata": {},
   "outputs": [],
   "source": [
    "# fit lasso regression model\n",
    "from sklearn.linear_model import Lasso\n",
    "from sklearn import linear_model\n",
    "\n",
    "# create lasso regression model\n",
    "def lasso_mod(X_train, y_train, X_test, y_test):\n",
    "    lasso = linear_model.Lasso(alpha = 0.5)\n",
    "    lasso.fit(X_train, y_train) # create model\n",
    "    lasso_preds = lasso.predict(X_test)\n",
    "    mse_lasso = mean_squared_error(y_test, lasso_preds)\n",
    "    print(mse_lasso)\n",
    "          \n",
    "lasso_mod(X_train, y_train, X_test, y_test)"
   ]
  },
  {
   "cell_type": "code",
   "execution_count": null,
   "metadata": {},
   "outputs": [],
   "source": [
    "# fit K-nearest neighbors\n",
    "from sklearn.neighbors import KNeighborsRegressor\n",
    "\n",
    "# create k-nearest neighbors model\n",
    "def knn_mod(X_train, y_train, X_test, y_test):\n",
    "    knn = KNeighborsRegressor(n_neighbors = 10)\n",
    "    knn.fit(X_train, y_train) # create model\n",
    "    knn_preds = knn.predict(X_test)\n",
    "    mse_knn = mean_squared_error(y_test, knn_preds)\n",
    "    print(mse_knn)\n",
    "        \n",
    "knn_mod(X_train, y_train, X_test, y_test)"
   ]
  },
  {
   "cell_type": "code",
   "execution_count": null,
   "metadata": {},
   "outputs": [],
   "source": [
    "# multinomial naive bayes\n",
    "from sklearn.naive_bayes import MultinomialNB\n",
    "\n",
    "# create model\n",
    "nb = MultinomialNB()\n",
    "nb.fit(X_train, y_train)\n",
    "\n",
    "# create predictions\n",
    "nb_preds = nb.predict(X_test)\n",
    "\n",
    "# calculate model metrics\n",
    "nb_precision = metrics.precision_score(y_test, nb_preds)\n",
    "nb_recall = metrics.recall_score(y_test, nb_preds)\n",
    "nb_f1 = 2 * (nb_precision * nb_recall) / (nb_precision + nb_recall)\n",
    "\n",
    "nb_accuracy = metrics.accuracy_score(y_test, nb_preds)\n",
    "nb_auc = roc_auc_score(y_test, nb_preds)\n",
    "\n",
    "# cross validation score\n",
    "nb_cv = cross_val_score(nb, X_train, y_train, cv = 10).mean()"
   ]
  },
  {
   "cell_type": "code",
   "execution_count": null,
   "metadata": {},
   "outputs": [],
   "source": [
    "# logistic regression\n",
    "from sklearn.linear_model import LogisticRegression\n",
    "\n",
    "# create logistic regression model\n",
    "logreg = LogisticRegression(solver = 'liblinear', C = 1)\n",
    "logreg.fit(X_train, y_train)\n",
    "\n",
    "# create predictions\n",
    "logreg_preds = logreg.predict(X_test)\n",
    "\n",
    "# calculate model metrics\n",
    "logreg_precision = metrics.precision_score(y_test, logreg_preds)\n",
    "logreg_recall = metrics.recall_score(y_test, logreg_preds)\n",
    "logreg_f1 = 2 * (logreg_precision * logreg_recall) / (logreg_precision + logreg_recall)\n",
    "\n",
    "logreg_accuracy = metrics.accuracy_score(y_test, logreg_preds)\n",
    "logreg_auc = roc_auc_score(y_test, logreg_preds)\n",
    "\n",
    "# cross validation score\n",
    "logreg_cv = cross_val_score(logreg, X_train, y_train, cv = 10).mean()"
   ]
  },
  {
   "cell_type": "code",
   "execution_count": null,
   "metadata": {},
   "outputs": [],
   "source": [
    "# decision tree\n",
    "from sklearn.tree import DecisionTreeClassifier\n",
    "\n",
    "# create decision tree regression model\n",
    "tree = DecisionTreeClassifier()\n",
    "tree.fit(X_train, y_train)\n",
    "\n",
    "# create predictions\n",
    "tree_preds = tree.predict(X_test)\n",
    "\n",
    "# calculate model metrics\n",
    "tree_precision = metrics.precision_score(y_test, tree_preds)\n",
    "tree_recall = metrics.recall_score(y_test, tree_preds)\n",
    "tree_f1 = 2 * (tree_precision * tree_recall) / (tree_precision + tree_recall)\n",
    "\n",
    "tree_accuracy = metrics.accuracy_score(y_test, tree_preds)\n",
    "tree_auc = roc_auc_score(y_test, tree_preds)\n",
    "\n",
    "# cross validation score\n",
    "tree_cv = cross_val_score(tree, X_train, y_train, cv = 10).mean()"
   ]
  },
  {
   "cell_type": "code",
   "execution_count": null,
   "metadata": {},
   "outputs": [],
   "source": [
    "# random forest\n",
    "from sklearn.ensemble import RandomForestClassifier\n",
    "\n",
    "# create model\n",
    "forest = RandomForestClassifier(n_estimators = 100, n_jobs = -1, max_depth = 1)\n",
    "forest.fit(X_train, y_train)\n",
    "\n",
    "# create predictions\n",
    "forest_preds = forest.predict(X_test)\n",
    "\n",
    "# calculate model metrics\n",
    "forest_precision = metrics.precision_score(y_test, forest_preds)\n",
    "forest_recall = metrics.recall_score(y_test, forest_preds)\n",
    "forest_f1 = 2 * (forest_precision * forest_recall) / (forest_precision + forest_recall)\n",
    "\n",
    "forest_accuracy = metrics.accuracy_score(y_test, forest_preds)\n",
    "forest_auc = roc_auc_score(y_test, forest_preds)\n",
    "\n",
    "# cross validation score\n",
    "forest_cv = cross_val_score(forest, X_train, y_train, cv = 10).mean()"
   ]
  },
  {
   "cell_type": "code",
   "execution_count": null,
   "metadata": {},
   "outputs": [],
   "source": [
    "# gradient boosting\n",
    "from sklearn.ensemble import GradientBoostingClassifier\n",
    "\n",
    "# create model\n",
    "gradient = GradientBoostingClassifier(n_estimators = 100, learning_rate = 0.1)\n",
    "gradient.fit(X_train, y_train)\n",
    "\n",
    "# create predictions\n",
    "gradient_preds = gradient.predict(X_test)\n",
    "\n",
    "# calculate model metrics\n",
    "gradient_precision = metrics.precision_score(y_test, gradient_preds)\n",
    "gradient_recall = metrics.recall_score(y_test, gradient_preds)\n",
    "gradient_f1 = 2 * (gradient_precision * gradient_recall) / (gradient_precision + gradient_recall)\n",
    "\n",
    "gradient_accuracy = metrics.accuracy_score(y_test, gradient_preds)\n",
    "gradient_auc = roc_auc_score(y_test, gradient_preds)\n",
    "\n",
    "# cross validation score\n",
    "gradient_cv = cross_val_score(gradient, X_train, y_train, cv = 10).mean()"
   ]
  },
  {
   "cell_type": "code",
   "execution_count": null,
   "metadata": {},
   "outputs": [],
   "source": []
  },
  {
   "cell_type": "code",
   "execution_count": null,
   "metadata": {},
   "outputs": [],
   "source": []
  }
 ],
 "metadata": {
  "kernelspec": {
   "display_name": "Python 3",
   "language": "python",
   "name": "python3"
  },
  "language_info": {
   "codemirror_mode": {
    "name": "ipython",
    "version": 3
   },
   "file_extension": ".py",
   "mimetype": "text/x-python",
   "name": "python",
   "nbconvert_exporter": "python",
   "pygments_lexer": "ipython3",
   "version": "3.8.8"
  }
 },
 "nbformat": 4,
 "nbformat_minor": 2
}
