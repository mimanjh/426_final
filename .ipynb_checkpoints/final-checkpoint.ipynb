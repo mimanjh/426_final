{
 "cells": [
  {
   "cell_type": "markdown",
   "metadata": {},
   "source": [
    "## Question of interest: What working scenario would give the best total compensation per year?"
   ]
  },
  {
   "cell_type": "code",
   "execution_count": 17,
   "metadata": {},
   "outputs": [],
   "source": [
    "# libraries\n",
    "import pandas as pd"
   ]
  },
  {
   "cell_type": "code",
   "execution_count": 31,
   "metadata": {},
   "outputs": [],
   "source": [
    "# read in all 5 FAANG company data and combine them into one.\n",
    "facebook = pd.read_csv('data/facebook.csv')\n",
    "netflix = pd.read_csv('data/netflix.csv')\n",
    "amazon = pd.read_csv('data/amazon.csv')\n",
    "apple = pd.read_csv('data/apple.csv')\n",
    "google = pd.read_csv('data/google.csv')\n",
    "\n",
    "arr = [facebook, netflix, amazon, apple, google]\n",
    "faang_eda = pd.concat(arr)"
   ]
  },
  {
   "cell_type": "code",
   "execution_count": 54,
   "metadata": {},
   "outputs": [
    {
     "data": {
      "text/plain": [
       "company                        0\n",
       "title                          0\n",
       "totalyearlycompensation        0\n",
       "location                       0\n",
       "yearsofexperience              0\n",
       "yearsatcompany                 0\n",
       "basesalary                     0\n",
       "bonus                          0\n",
       "Masters_Degree                 0\n",
       "Bachelors_Degree               0\n",
       "Doctorate_Degree               0\n",
       "Highschool                     0\n",
       "Some_College                   0\n",
       "facebook                   17652\n",
       "Apple                       9694\n",
       "Amazon                     15865\n",
       "dtype: int64"
      ]
     },
     "execution_count": 54,
     "metadata": {},
     "output_type": "execute_result"
    }
   ],
   "source": [
    "faang_eda.isna().sum()"
   ]
  },
  {
   "cell_type": "code",
   "execution_count": 50,
   "metadata": {},
   "outputs": [
    {
     "data": {
      "text/plain": [
       "Index(['company', 'title', 'totalyearlycompensation', 'location',\n",
       "       'yearsofexperience', 'yearsatcompany', 'basesalary', 'bonus',\n",
       "       'Masters_Degree', 'Bachelors_Degree', 'Doctorate_Degree', 'Highschool',\n",
       "       'Some_College'],\n",
       "      dtype='object')"
      ]
     },
     "execution_count": 50,
     "metadata": {},
     "output_type": "execute_result"
    }
   ],
   "source": [
    "google.columns"
   ]
  },
  {
   "cell_type": "code",
   "execution_count": 51,
   "metadata": {},
   "outputs": [
    {
     "data": {
      "text/plain": [
       "Index(['company', 'title', 'totalyearlycompensation', 'location',\n",
       "       'yearsofexperience', 'yearsatcompany', 'basesalary', 'bonus',\n",
       "       'Masters_Degree', 'Bachelors_Degree', 'Doctorate_Degree', 'Highschool',\n",
       "       'Some_College', 'facebook', 'Apple', 'Amazon'],\n",
       "      dtype='object')"
      ]
     },
     "execution_count": 51,
     "metadata": {},
     "output_type": "execute_result"
    }
   ],
   "source": [
    "faang_eda.columns"
   ]
  },
  {
   "cell_type": "code",
   "execution_count": 52,
   "metadata": {},
   "outputs": [
    {
     "data": {
      "text/plain": [
       "Index(['company', 'title', 'totalyearlycompensation', 'location',\n",
       "       'yearsofexperience', 'yearsatcompany', 'basesalary', 'bonus',\n",
       "       'Masters_Degree', 'Bachelors_Degree', 'Doctorate_Degree', 'Highschool',\n",
       "       'Some_College', 'Apple'],\n",
       "      dtype='object')"
      ]
     },
     "execution_count": 52,
     "metadata": {},
     "output_type": "execute_result"
    }
   ],
   "source": [
    "amazon.columns"
   ]
  },
  {
   "cell_type": "code",
   "execution_count": 53,
   "metadata": {},
   "outputs": [
    {
     "data": {
      "text/plain": [
       "Index(['company', 'title', 'totalyearlycompensation', 'location',\n",
       "       'yearsofexperience', 'yearsatcompany', 'basesalary', 'bonus',\n",
       "       'Masters_Degree', 'Bachelors_Degree', 'Doctorate_Degree', 'Highschool',\n",
       "       'Some_College', 'facebook'],\n",
       "      dtype='object')"
      ]
     },
     "execution_count": 53,
     "metadata": {},
     "output_type": "execute_result"
    }
   ],
   "source": [
    "netflix.columns"
   ]
  },
  {
   "cell_type": "code",
   "execution_count": 47,
   "metadata": {},
   "outputs": [
    {
     "data": {
      "text/plain": [
       "Index(['company', 'title', 'totalyearlycompensation', 'location',\n",
       "       'yearsofexperience', 'yearsatcompany', 'basesalary', 'bonus',\n",
       "       'Masters_Degree', 'Bachelors_Degree', 'Doctorate_Degree', 'Highschool',\n",
       "       'Some_College', 'Amazon'],\n",
       "      dtype='object')"
      ]
     },
     "execution_count": 47,
     "metadata": {},
     "output_type": "execute_result"
    }
   ],
   "source": [
    "apple.columns"
   ]
  },
  {
   "cell_type": "markdown",
   "metadata": {},
   "source": [
    "## Additional data cleaning"
   ]
  },
  {
   "cell_type": "code",
   "execution_count": 19,
   "metadata": {},
   "outputs": [
    {
     "name": "stderr",
     "output_type": "stream",
     "text": [
      "<ipython-input-19-dc67da14b7ae>:7: SettingWithCopyWarning: \n",
      "A value is trying to be set on a copy of a slice from a DataFrame.\n",
      "Try using .loc[row_indexer,col_indexer] = value instead\n",
      "\n",
      "See the caveats in the documentation: https://pandas.pydata.org/pandas-docs/stable/user_guide/indexing.html#returning-a-view-versus-a-copy\n",
      "  ms_phd[\"Masters_Degree\"] = 0\n",
      "<ipython-input-19-dc67da14b7ae>:18: SettingWithCopyWarning: \n",
      "A value is trying to be set on a copy of a slice from a DataFrame.\n",
      "Try using .loc[row_indexer,col_indexer] = value instead\n",
      "\n",
      "See the caveats in the documentation: https://pandas.pydata.org/pandas-docs/stable/user_guide/indexing.html#returning-a-view-versus-a-copy\n",
      "  bs_ms[\"Bachelors_Degree\"] = 0\n"
     ]
    }
   ],
   "source": [
    "## cleaning of education variables\n",
    "\n",
    "## find duplicates of people with masters degree and doctorate degrees\n",
    "ms_phd = faang_eda[(faang_eda[\"Masters_Degree\"] == 1) & (faang_eda[\"Doctorate_Degree\"] == 1)]\n",
    "\n",
    "# change duplicates to zeros and only select the higher degree\n",
    "ms_phd[\"Masters_Degree\"] = 0\n",
    "phd = ms_phd\n",
    "\n",
    "# remove the duplicates and add on the higher degree\n",
    "faang_eda.drop(ms_phd.index, axis = 0)\n",
    "faang = pd.concat([faang_eda, phd])\n",
    "\n",
    "##  find duplicates of people with bachelors and masters degrees\n",
    "bs_ms = faang_eda[(faang_eda[\"Bachelors_Degree\"] == 1) & (faang_eda[\"Masters_Degree\"] == 1)]\n",
    "\n",
    "# change duplicates to zeros and only select the higher degree\n",
    "bs_ms[\"Bachelors_Degree\"] = 0\n",
    "ms = bs_ms\n",
    "\n",
    "# remove the duplicates and add on the higher degree\n",
    "faang_eda.drop(bs_ms.index, axis = 0)\n",
    "faang = pd.concat([faang_eda, ms])"
   ]
  },
  {
   "cell_type": "code",
   "execution_count": 20,
   "metadata": {},
   "outputs": [],
   "source": [
    "## drop other rows with zero values\n",
    "zerosalary = faang_eda[faang_eda[\"basesalary\"] == 0]\n",
    "faang_eda = faang_eda.drop(zerosalary.index, axis = 0)"
   ]
  },
  {
   "cell_type": "markdown",
   "metadata": {},
   "source": [
    "## Exploratory data analysis"
   ]
  },
  {
   "cell_type": "code",
   "execution_count": 10,
   "metadata": {},
   "outputs": [],
   "source": [
    "# libraries\n",
    "import seaborn as sns\n",
    "import matplotlib.pyplot as plt"
   ]
  },
  {
   "cell_type": "code",
   "execution_count": 11,
   "metadata": {},
   "outputs": [
    {
     "data": {
      "text/plain": [
       "Index(['company', 'title', 'totalyearlycompensation', 'location',\n",
       "       'yearsofexperience', 'yearsatcompany', 'basesalary', 'bonus',\n",
       "       'Masters_Degree', 'Bachelors_Degree', 'Doctorate_Degree', 'Highschool',\n",
       "       'Some_College', 'facebook', 'Apple', 'Amazon'],\n",
       "      dtype='object')"
      ]
     },
     "execution_count": 11,
     "metadata": {},
     "output_type": "execute_result"
    }
   ],
   "source": [
    "faang_eda.columns"
   ]
  },
  {
   "cell_type": "code",
   "execution_count": 25,
   "metadata": {},
   "outputs": [
    {
     "data": {
      "text/html": [
       "<div>\n",
       "<style scoped>\n",
       "    .dataframe tbody tr th:only-of-type {\n",
       "        vertical-align: middle;\n",
       "    }\n",
       "\n",
       "    .dataframe tbody tr th {\n",
       "        vertical-align: top;\n",
       "    }\n",
       "\n",
       "    .dataframe thead th {\n",
       "        text-align: right;\n",
       "    }\n",
       "</style>\n",
       "<table border=\"1\" class=\"dataframe\">\n",
       "  <thead>\n",
       "    <tr style=\"text-align: right;\">\n",
       "      <th></th>\n",
       "      <th>totalyearlycompensation</th>\n",
       "      <th>yearsofexperience</th>\n",
       "      <th>yearsatcompany</th>\n",
       "      <th>basesalary</th>\n",
       "      <th>bonus</th>\n",
       "      <th>Masters_Degree</th>\n",
       "      <th>Bachelors_Degree</th>\n",
       "      <th>Doctorate_Degree</th>\n",
       "      <th>Highschool</th>\n",
       "      <th>Some_College</th>\n",
       "    </tr>\n",
       "  </thead>\n",
       "  <tbody>\n",
       "    <tr>\n",
       "      <th>count</th>\n",
       "      <td>1.479700e+04</td>\n",
       "      <td>14797.000000</td>\n",
       "      <td>14797.000000</td>\n",
       "      <td>14797.000000</td>\n",
       "      <td>14797.000000</td>\n",
       "      <td>14797.000000</td>\n",
       "      <td>14797.000000</td>\n",
       "      <td>14797.000000</td>\n",
       "      <td>14797.000000</td>\n",
       "      <td>14797.000000</td>\n",
       "    </tr>\n",
       "    <tr>\n",
       "      <th>mean</th>\n",
       "      <td>2.635540e+05</td>\n",
       "      <td>7.206653</td>\n",
       "      <td>2.240221</td>\n",
       "      <td>150494.416571</td>\n",
       "      <td>24014.653916</td>\n",
       "      <td>0.269987</td>\n",
       "      <td>0.189903</td>\n",
       "      <td>0.044333</td>\n",
       "      <td>0.005474</td>\n",
       "      <td>0.004933</td>\n",
       "    </tr>\n",
       "    <tr>\n",
       "      <th>std</th>\n",
       "      <td>1.576805e+05</td>\n",
       "      <td>5.766760</td>\n",
       "      <td>2.604763</td>\n",
       "      <td>51108.091234</td>\n",
       "      <td>31372.488267</td>\n",
       "      <td>0.443968</td>\n",
       "      <td>0.392238</td>\n",
       "      <td>0.205842</td>\n",
       "      <td>0.073787</td>\n",
       "      <td>0.070067</td>\n",
       "    </tr>\n",
       "    <tr>\n",
       "      <th>min</th>\n",
       "      <td>1.000000e+04</td>\n",
       "      <td>0.000000</td>\n",
       "      <td>0.000000</td>\n",
       "      <td>9000.000000</td>\n",
       "      <td>0.000000</td>\n",
       "      <td>0.000000</td>\n",
       "      <td>0.000000</td>\n",
       "      <td>0.000000</td>\n",
       "      <td>0.000000</td>\n",
       "      <td>0.000000</td>\n",
       "    </tr>\n",
       "    <tr>\n",
       "      <th>25%</th>\n",
       "      <td>1.750000e+05</td>\n",
       "      <td>3.000000</td>\n",
       "      <td>0.000000</td>\n",
       "      <td>125000.000000</td>\n",
       "      <td>0.000000</td>\n",
       "      <td>0.000000</td>\n",
       "      <td>0.000000</td>\n",
       "      <td>0.000000</td>\n",
       "      <td>0.000000</td>\n",
       "      <td>0.000000</td>\n",
       "    </tr>\n",
       "    <tr>\n",
       "      <th>50%</th>\n",
       "      <td>2.300000e+05</td>\n",
       "      <td>6.000000</td>\n",
       "      <td>1.000000</td>\n",
       "      <td>150000.000000</td>\n",
       "      <td>20000.000000</td>\n",
       "      <td>0.000000</td>\n",
       "      <td>0.000000</td>\n",
       "      <td>0.000000</td>\n",
       "      <td>0.000000</td>\n",
       "      <td>0.000000</td>\n",
       "    </tr>\n",
       "    <tr>\n",
       "      <th>75%</th>\n",
       "      <td>3.120000e+05</td>\n",
       "      <td>10.000000</td>\n",
       "      <td>3.000000</td>\n",
       "      <td>170000.000000</td>\n",
       "      <td>30000.000000</td>\n",
       "      <td>1.000000</td>\n",
       "      <td>0.000000</td>\n",
       "      <td>0.000000</td>\n",
       "      <td>0.000000</td>\n",
       "      <td>0.000000</td>\n",
       "    </tr>\n",
       "    <tr>\n",
       "      <th>max</th>\n",
       "      <td>4.980000e+06</td>\n",
       "      <td>42.000000</td>\n",
       "      <td>20.000000</td>\n",
       "      <td>800000.000000</td>\n",
       "      <td>555000.000000</td>\n",
       "      <td>1.000000</td>\n",
       "      <td>1.000000</td>\n",
       "      <td>1.000000</td>\n",
       "      <td>1.000000</td>\n",
       "      <td>1.000000</td>\n",
       "    </tr>\n",
       "  </tbody>\n",
       "</table>\n",
       "</div>"
      ],
      "text/plain": [
       "       totalyearlycompensation  yearsofexperience  yearsatcompany  \\\n",
       "count             1.479700e+04       14797.000000    14797.000000   \n",
       "mean              2.635540e+05           7.206653        2.240221   \n",
       "std               1.576805e+05           5.766760        2.604763   \n",
       "min               1.000000e+04           0.000000        0.000000   \n",
       "25%               1.750000e+05           3.000000        0.000000   \n",
       "50%               2.300000e+05           6.000000        1.000000   \n",
       "75%               3.120000e+05          10.000000        3.000000   \n",
       "max               4.980000e+06          42.000000       20.000000   \n",
       "\n",
       "          basesalary          bonus  Masters_Degree  Bachelors_Degree  \\\n",
       "count   14797.000000   14797.000000    14797.000000      14797.000000   \n",
       "mean   150494.416571   24014.653916        0.269987          0.189903   \n",
       "std     51108.091234   31372.488267        0.443968          0.392238   \n",
       "min      9000.000000       0.000000        0.000000          0.000000   \n",
       "25%    125000.000000       0.000000        0.000000          0.000000   \n",
       "50%    150000.000000   20000.000000        0.000000          0.000000   \n",
       "75%    170000.000000   30000.000000        1.000000          0.000000   \n",
       "max    800000.000000  555000.000000        1.000000          1.000000   \n",
       "\n",
       "       Doctorate_Degree    Highschool  Some_College  \n",
       "count      14797.000000  14797.000000  14797.000000  \n",
       "mean           0.044333      0.005474      0.004933  \n",
       "std            0.205842      0.073787      0.070067  \n",
       "min            0.000000      0.000000      0.000000  \n",
       "25%            0.000000      0.000000      0.000000  \n",
       "50%            0.000000      0.000000      0.000000  \n",
       "75%            0.000000      0.000000      0.000000  \n",
       "max            1.000000      1.000000      1.000000  "
      ]
     },
     "execution_count": 25,
     "metadata": {},
     "output_type": "execute_result"
    }
   ],
   "source": [
    "faang_eda.describe()"
   ]
  },
  {
   "cell_type": "code",
   "execution_count": 12,
   "metadata": {},
   "outputs": [
    {
     "data": {
      "image/png": "[encoded data removed]",
      "text/plain": [
       "<Figure size 432x288 with 1 Axes>"
      ]
     },
     "metadata": {
      "needs_background": "light"
     },
     "output_type": "display_data"
    }
   ],
   "source": [
    "## bar plot of total yearly compensation and companies\n",
    "company_plt = sns.barplot(x = \"company\", y = \"totalyearlycompensation\", data = faang_eda, ci = None)\n",
    "company_plt.set(xlabel = 'Company', ylabel = 'Total Yearly Compensation ($)')\n",
    "\n",
    "plt.savefig('figures/compensation-companies-plot.png')"
   ]
  },
  {
   "cell_type": "code",
   "execution_count": 13,
   "metadata": {},
   "outputs": [
    {
     "name": "stderr",
     "output_type": "stream",
     "text": [
      "<ipython-input-13-0707baa6e506>:8: UserWarning: FixedFormatter should only be used together with FixedLocator\n",
      "  yrs_exp_plt.set_yticklabels(['0', '0', '100000', '200000', '300000', '400000', '500000'])\n"
     ]
    },
    {
     "data": {
      "image/png": "[encoded data removed]",
      "text/plain": [
       "<Figure size 432x288 with 1 Axes>"
      ]
     },
     "metadata": {
      "needs_background": "light"
     },
     "output_type": "display_data"
    }
   ],
   "source": [
    "## years of experience vs total yearly compensation plot\n",
    "\n",
    "# create plot\n",
    "yrs_exp_plt = sns.scatterplot(x = \"yearsofexperience\", y = \"totalyearlycompensation\", data = faang_eda, ci = None, \n",
    "                hue = \"company\")\n",
    "\n",
    "# set axis ticks, legend position and axis labels\n",
    "yrs_exp_plt.set_yticklabels(['0', '0', '100000', '200000', '300000', '400000', '500000'])\n",
    "plt.legend(bbox_to_anchor = (1.02, 1), loc = 'upper left', borderaxespad = 0)\n",
    "yrs_exp_plt.set(xlabel = 'Years of Experience', ylabel = 'Total Yearly Compensation ($)')\n",
    "\n",
    "# save figure\n",
    "plt.savefig('figures/yrs-exp.png')"
   ]
  },
  {
   "cell_type": "code",
   "execution_count": 14,
   "metadata": {},
   "outputs": [
    {
     "data": {
      "text/plain": [
       "<matplotlib.legend.Legend at 0x118f6cca0>"
      ]
     },
     "execution_count": 14,
     "metadata": {},
     "output_type": "execute_result"
    },
    {
     "data": {
      "image/png": "[encoded data removed]",
      "text/plain": [
       "<Figure size 432x288 with 1 Axes>"
      ]
     },
     "metadata": {
      "needs_background": "light"
     },
     "output_type": "display_data"
    }
   ],
   "source": [
    "## scatter plot of years at company vs total yearly compensation\n",
    "\n",
    "# create plot\n",
    "sns.scatterplot(x = \"yearsatcompany\", y = \"totalyearlycompensation\", data = faang_eda, ci = None, hue = \"company\")\n",
    "\n",
    "# set legend location\n",
    "plt.legend(bbox_to_anchor = (1.02, 1), loc = 'upper left', borderaxespad = 0)"
   ]
  },
  {
   "cell_type": "code",
   "execution_count": 21,
   "metadata": {},
   "outputs": [
    {
     "data": {
      "image/png": "[encoded data removed]",
      "text/plain": [
       "<Figure size 432x288 with 1 Axes>"
      ]
     },
     "metadata": {
      "needs_background": "light"
     },
     "output_type": "display_data"
    }
   ],
   "source": [
    "## education vs total yearly compensation plot\n",
    "\n",
    "# create education column (\"undummy\" the variables)\n",
    "education = faang_eda[[\"Masters_Degree\", \"Bachelors_Degree\", \"Doctorate_Degree\", \"Highschool\", \"Some_College\"]].eq(1).idxmax(axis = 1)\n",
    "faang_eda[\"education\"] = education\n",
    "\n",
    "# create education plot\n",
    "edu_plt = sns.barplot(x = \"education\", y = \"totalyearlycompensation\", data = faang_eda, ci = None, hue = \"company\",\n",
    "                     order = [\"Highschool\", \"Some_College\", \"Bachelors_Degree\", \"Masters_Degree\", \"Doctorate_Degree\"])\n",
    "\n",
    "# change x ticks labels, rename axis labels and change legend location\n",
    "edu_plt.set_xticklabels(['High School','Some College', 'BS', 'MS','PhD'])\n",
    "edu_plt.set(xlabel = 'Education', ylabel = 'Total Yearly Compensation ($)')\n",
    "plt.legend(bbox_to_anchor = (1.02, 1), loc = 'upper left', borderaxespad = 0)\n",
    "\n",
    "# save plot\n",
    "plt.savefig('figures/edu-compensation.png')\n"
   ]
  },
  {
   "cell_type": "markdown",
   "metadata": {},
   "source": [
    "## Create train and test."
   ]
  },
  {
   "cell_type": "code",
   "execution_count": 22,
   "metadata": {},
   "outputs": [],
   "source": [
    "# libraries\n",
    "from sklearn.model_selection import train_test_split, cross_val_score"
   ]
  },
  {
   "cell_type": "code",
   "execution_count": 23,
   "metadata": {},
   "outputs": [
    {
     "data": {
      "text/plain": [
       "Index(['company', 'title', 'totalyearlycompensation', 'location',\n",
       "       'yearsofexperience', 'yearsatcompany', 'basesalary', 'bonus',\n",
       "       'Masters_Degree', 'Bachelors_Degree', 'Doctorate_Degree', 'Highschool',\n",
       "       'Some_College', 'facebook', 'Apple', 'Amazon', 'education'],\n",
       "      dtype='object')"
      ]
     },
     "execution_count": 23,
     "metadata": {},
     "output_type": "execute_result"
    }
   ],
   "source": [
    "faang_eda.columns"
   ]
  },
  {
   "cell_type": "code",
   "execution_count": 28,
   "metadata": {},
   "outputs": [],
   "source": [
    "# create modified data frame for analysis\n",
    "faang = faang_eda.drop([\"location\", \"education\"], axis = 1)\n",
    "\n",
    "# create dummy variables\n",
    "# faang = pd.get_dummies(faang_eda, columns = ['company', 'title']) \n",
    "# ** Create dummy variables through pipelining"
   ]
  },
  {
   "cell_type": "code",
   "execution_count": 24,
   "metadata": {},
   "outputs": [],
   "source": [
    "# select X variables\n",
    "X = faang.drop(\"totalyearlycompensation\", axis = 1)\n",
    "y = faang[\"totalyearlycompensation\"]\n",
    "\n",
    "# create train and test datasets\n",
    "X_train, X_test, y_train, y_test = train_test_split(faang, y, test_size = .25, random_state = 1234)"
   ]
  },
  {
   "cell_type": "markdown",
   "metadata": {},
   "source": [
    "## Different modeling methods"
   ]
  },
  {
   "cell_type": "code",
   "execution_count": null,
   "metadata": {},
   "outputs": [],
   "source": [
    "## modeling format with pipelining (HW 5 pt 1)\n",
    "\n",
    "from sklearn.pipeline import make_pipeline, Pipeline\n",
    "from sklearn.model_selection import cross_val_score\n",
    "from sklearn.impute import SimpleImputer\n",
    "\n",
    "# linear regression model with polynomial features\n",
    "lm_pipe = Pipeline([('poly', PolynomialFeatures(degree = 2, interaction_only = True)),\n",
    "                    ('imputer', SimpleImputer(strategy='mean')),\n",
    "                    ('ss', StandardScaler()),\n",
    "                    ('lm', LinearRegression()),\n",
    "                    ('onehot', OneHotEncoder(handle_unknown))\n",
    "                    ])\n",
    "lm_pipe.fit(X_train, y_train)\n",
    "lm_pipe_preds = lm_pipe.predict(X_test)\n",
    "\n",
    "# test error for lm\n",
    "lm_pipe_mse = mean_squared_error(y_test, lm_pipe_preds)  # , squared=False\n",
    "# cross-validated error for lm\n",
    "lm_score = np.mean(cross_val_score(lm_pipe, X_train, y_train,\n",
    "                                   cv=10, scoring='neg_mean_squared_error'))*(-1)\n",
    "print('Linear Model:')\n",
    "print(lm_pipe_mse)\n",
    "print(lm_score)\n",
    "\n",
    "# categorical_transformer = Pipeline(steps=[\n",
    "#     ('imputer', SimpleImputer(strategy='constant', fill_value='missing')),\n",
    "#     ('onehot', OneHotEncoder(handle_unknown='ignore'))])"
   ]
  },
  {
   "cell_type": "code",
   "execution_count": null,
   "metadata": {},
   "outputs": [],
   "source": [
    "# fit linear regression model\n",
    "from sklearn.linear_model import LinearRegression\n",
    "from sklearn.metrics import mean_squared_error\n",
    "\n",
    "# create linear regression model\n",
    "def lm_mod(X_train, y_train, X_test, y_test):\n",
    "    lm = LinearRegression()\n",
    "    lm.fit(X_train, y_train) # create model\n",
    "    lm_preds = lm.predict(X_test)\n",
    "    mse_lm = mean_squared_error(y_test, lm_preds)\n",
    "    print(mse_lm)\n",
    "    \n",
    "lm_mod(X_train, y_train, X_test, y_test)"
   ]
  },
  {
   "cell_type": "code",
   "execution_count": null,
   "metadata": {},
   "outputs": [],
   "source": [
    "# fit lasso regression model\n",
    "from sklearn.linear_model import Lasso\n",
    "from sklearn import linear_model\n",
    "\n",
    "# create lasso regression model\n",
    "def lasso_mod(X_train, y_train, X_test, y_test):\n",
    "    lasso = linear_model.Lasso(alpha = 0.5)\n",
    "    lasso.fit(X_train, y_train) # create model\n",
    "    lasso_preds = lasso.predict(X_test)\n",
    "    mse_lasso = mean_squared_error(y_test, lasso_preds)\n",
    "    print(mse_lasso)\n",
    "          \n",
    "lasso_mod(X_train, y_train, X_test, y_test)"
   ]
  },
  {
   "cell_type": "code",
   "execution_count": null,
   "metadata": {},
   "outputs": [],
   "source": [
    "# fit K-nearest neighbors\n",
    "from sklearn.neighbors import KNeighborsRegressor\n",
    "\n",
    "# create k-nearest neighbors model\n",
    "def knn_mod(X_train, y_train, X_test, y_test):\n",
    "    knn = KNeighborsRegressor(n_neighbors = 10)\n",
    "    knn.fit(X_train, y_train) # create model\n",
    "    knn_preds = knn.predict(X_test)\n",
    "    mse_knn = mean_squared_error(y_test, knn_preds)\n",
    "    print(mse_knn)\n",
    "        \n",
    "knn_mod(X_train, y_train, X_test, y_test)"
   ]
  },
  {
   "cell_type": "code",
   "execution_count": 3,
   "metadata": {},
   "outputs": [
    {
     "ename": "NameError",
     "evalue": "name 'X_train' is not defined",
     "output_type": "error",
     "traceback": [
      "\u001b[0;31m---------------------------------------------------------------------------\u001b[0m",
      "\u001b[0;31mNameError\u001b[0m                                 Traceback (most recent call last)",
      "\u001b[0;32m<ipython-input-3-2bf913561e7a>\u001b[0m in \u001b[0;36m<module>\u001b[0;34m\u001b[0m\n\u001b[1;32m      4\u001b[0m \u001b[0;31m# create model\u001b[0m\u001b[0;34m\u001b[0m\u001b[0;34m\u001b[0m\u001b[0;34m\u001b[0m\u001b[0m\n\u001b[1;32m      5\u001b[0m \u001b[0mnb\u001b[0m \u001b[0;34m=\u001b[0m \u001b[0mMultinomialNB\u001b[0m\u001b[0;34m(\u001b[0m\u001b[0;34m)\u001b[0m\u001b[0;34m\u001b[0m\u001b[0;34m\u001b[0m\u001b[0m\n\u001b[0;32m----> 6\u001b[0;31m \u001b[0mnb\u001b[0m\u001b[0;34m.\u001b[0m\u001b[0mfit\u001b[0m\u001b[0;34m(\u001b[0m\u001b[0mX_train\u001b[0m\u001b[0;34m,\u001b[0m \u001b[0my_train\u001b[0m\u001b[0;34m)\u001b[0m\u001b[0;34m\u001b[0m\u001b[0;34m\u001b[0m\u001b[0m\n\u001b[0m\u001b[1;32m      7\u001b[0m \u001b[0;34m\u001b[0m\u001b[0m\n\u001b[1;32m      8\u001b[0m \u001b[0;31m# create predictions\u001b[0m\u001b[0;34m\u001b[0m\u001b[0;34m\u001b[0m\u001b[0;34m\u001b[0m\u001b[0m\n",
      "\u001b[0;31mNameError\u001b[0m: name 'X_train' is not defined"
     ]
    }
   ],
   "source": [
    "# multinomial naive bayes\n",
    "from sklearn.naive_bayes import MultinomialNB\n",
    "\n",
    "# create model\n",
    "nb = MultinomialNB()\n",
    "nb.fit(X_train, y_train)\n",
    "\n",
    "# create predictions\n",
    "nb_preds = nb.predict(X_test)\n",
    "\n",
    "# calculate model metrics\n",
    "nb_precision = metrics.precision_score(y_test, nb_preds)\n",
    "nb_recall = metrics.recall_score(y_test, nb_preds)\n",
    "nb_f1 = 2 * (nb_precision * nb_recall) / (nb_precision + nb_recall)\n",
    "\n",
    "nb_accuracy = metrics.accuracy_score(y_test, nb_preds)\n",
    "nb_auc = roc_auc_score(y_test, nb_preds)\n",
    "\n",
    "# cross validation score\n",
    "nb_cv = cross_val_score(nb, X_train, y_train, cv = 10).mean()"
   ]
  },
  {
   "cell_type": "code",
   "execution_count": null,
   "metadata": {},
   "outputs": [],
   "source": [
    "# logistic regression\n",
    "from sklearn.linear_model import LogisticRegression\n",
    "\n",
    "# create logistic regression model\n",
    "logreg = LogisticRegression(solver = 'liblinear', C = 1)\n",
    "logreg.fit(X_train, y_train)\n",
    "\n",
    "# create predictions\n",
    "logreg_preds = logreg.predict(X_test)\n",
    "\n",
    "# calculate model metrics\n",
    "logreg_precision = metrics.precision_score(y_test, logreg_preds)\n",
    "logreg_recall = metrics.recall_score(y_test, logreg_preds)\n",
    "logreg_f1 = 2 * (logreg_precision * logreg_recall) / (logreg_precision + logreg_recall)\n",
    "\n",
    "logreg_accuracy = metrics.accuracy_score(y_test, logreg_preds)\n",
    "logreg_auc = roc_auc_score(y_test, logreg_preds)\n",
    "\n",
    "# cross validation score\n",
    "logreg_cv = cross_val_score(logreg, X_train, y_train, cv = 10).mean()"
   ]
  },
  {
   "cell_type": "code",
   "execution_count": null,
   "metadata": {},
   "outputs": [],
   "source": [
    "# decision tree\n",
    "from sklearn.tree import DecisionTreeClassifier\n",
    "\n",
    "# create decision tree regression model\n",
    "tree = DecisionTreeClassifier()\n",
    "tree.fit(X_train, y_train)\n",
    "\n",
    "# create predictions\n",
    "tree_preds = tree.predict(X_test)\n",
    "\n",
    "# calculate model metrics\n",
    "tree_precision = metrics.precision_score(y_test, tree_preds)\n",
    "tree_recall = metrics.recall_score(y_test, tree_preds)\n",
    "tree_f1 = 2 * (tree_precision * tree_recall) / (tree_precision + tree_recall)\n",
    "\n",
    "tree_accuracy = metrics.accuracy_score(y_test, tree_preds)\n",
    "tree_auc = roc_auc_score(y_test, tree_preds)\n",
    "\n",
    "# cross validation score\n",
    "tree_cv = cross_val_score(tree, X_train, y_train, cv = 10).mean()"
   ]
  },
  {
   "cell_type": "code",
   "execution_count": null,
   "metadata": {},
   "outputs": [],
   "source": [
    "# random forest\n",
    "from sklearn.ensemble import RandomForestClassifier\n",
    "\n",
    "# create model\n",
    "forest = RandomForestClassifier(n_estimators = 100, n_jobs = -1, max_depth = 1)\n",
    "forest.fit(X_train, y_train)\n",
    "\n",
    "# create predictions\n",
    "forest_preds = forest.predict(X_test)\n",
    "\n",
    "# calculate model metrics\n",
    "forest_precision = metrics.precision_score(y_test, forest_preds)\n",
    "forest_recall = metrics.recall_score(y_test, forest_preds)\n",
    "forest_f1 = 2 * (forest_precision * forest_recall) / (forest_precision + forest_recall)\n",
    "\n",
    "forest_accuracy = metrics.accuracy_score(y_test, forest_preds)\n",
    "forest_auc = roc_auc_score(y_test, forest_preds)\n",
    "\n",
    "# cross validation score\n",
    "forest_cv = cross_val_score(forest, X_train, y_train, cv = 10).mean()"
   ]
  },
  {
   "cell_type": "code",
   "execution_count": null,
   "metadata": {},
   "outputs": [],
   "source": [
    "# gradient boosting\n",
    "from sklearn.ensemble import GradientBoostingClassifier\n",
    "\n",
    "# create model\n",
    "gradient = GradientBoostingClassifier(n_estimators = 100, learning_rate = 0.1)\n",
    "gradient.fit(X_train, y_train)\n",
    "\n",
    "# create predictions\n",
    "gradient_preds = gradient.predict(X_test)\n",
    "\n",
    "# calculate model metrics\n",
    "gradient_precision = metrics.precision_score(y_test, gradient_preds)\n",
    "gradient_recall = metrics.recall_score(y_test, gradient_preds)\n",
    "gradient_f1 = 2 * (gradient_precision * gradient_recall) / (gradient_precision + gradient_recall)\n",
    "\n",
    "gradient_accuracy = metrics.accuracy_score(y_test, gradient_preds)\n",
    "gradient_auc = roc_auc_score(y_test, gradient_preds)\n",
    "\n",
    "# cross validation score\n",
    "gradient_cv = cross_val_score(gradient, X_train, y_train, cv = 10).mean()"
   ]
  },
  {
   "cell_type": "code",
   "execution_count": null,
   "metadata": {},
   "outputs": [],
   "source": []
  },
  {
   "cell_type": "code",
   "execution_count": null,
   "metadata": {},
   "outputs": [],
   "source": []
  }
 ],
 "metadata": {
  "kernelspec": {
   "display_name": "Python 3",
   "language": "python",
   "name": "python3"
  },
  "language_info": {
   "codemirror_mode": {
    "name": "ipython",
    "version": 3
   },
   "file_extension": ".py",
   "mimetype": "text/x-python",
   "name": "python",
   "nbconvert_exporter": "python",
   "pygments_lexer": "ipython3",
   "version": "3.8.8"
  }
 },
 "nbformat": 4,
 "nbformat_minor": 2
}
