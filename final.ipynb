{
 "cells": [
  {
   "cell_type": "markdown",
   "metadata": {},
   "source": [
    "## Question of interest: What working scenario would give the best total compensation per year?"
   ]
  },
  {
   "cell_type": "code",
   "execution_count": 35,
   "metadata": {},
   "outputs": [],
   "source": [
    "# basic libraries\n",
    "import pandas as pd\n",
    "import numpy as np\n",
    "import seaborn as sns\n",
    "import matplotlib.pyplot as plt"
   ]
  },
  {
   "cell_type": "code",
   "execution_count": 36,
   "metadata": {},
   "outputs": [],
   "source": [
    "## read in all 5 FAANG company data and combine them into one.\n",
    "facebook = pd.read_csv('data/facebook.csv')\n",
    "netflix = pd.read_csv('data/netflix.csv')\n",
    "amazon = pd.read_csv('data/amazon.csv')\n",
    "apple = pd.read_csv('data/apple.csv')\n",
    "google = pd.read_csv('data/google.csv')\n",
    "\n",
    "arr = [facebook, netflix, amazon, apple, google]\n",
    "faang_eda = pd.concat(arr)"
   ]
  },
  {
   "cell_type": "code",
   "execution_count": 37,
   "metadata": {},
   "outputs": [
    {
     "data": {
      "text/plain": [
       "[Text(0.5, 0, 'Company'), Text(0, 0.5, 'Count')]"
      ]
     },
     "execution_count": 37,
     "metadata": {},
     "output_type": "execute_result"
    },
    {
     "data": {
      "image/png": "[encoded data removed]",
      "text/plain": [
       "<Figure size 432x288 with 1 Axes>"
      ]
     },
     "metadata": {
      "needs_background": "light"
     },
     "output_type": "display_data"
    }
   ],
   "source": [
    "## make count bar plot of companies\n",
    "comp = [facebook, netflix, amazon, apple, google]\n",
    "count = pd.concat(comp)\n",
    "\n",
    "df = count.groupby(\"company\").count().reset_index()\n",
    "comp_count = sns.barplot(x = \"company\", y = \"title\", data = df)\n",
    "comp_count.set(xlabel = 'Company', ylabel = 'Count')\n",
    "\n"
   ]
  },
  {
   "cell_type": "markdown",
   "metadata": {},
   "source": [
    "## Additional data cleaning"
   ]
  },
  {
   "cell_type": "code",
   "execution_count": 38,
   "metadata": {},
   "outputs": [
    {
     "name": "stderr",
     "output_type": "stream",
     "text": [
      "C:\\Users\\jacob\\AppData\\Local\\Temp/ipykernel_10188/661345030.py:7: SettingWithCopyWarning: \n",
      "A value is trying to be set on a copy of a slice from a DataFrame.\n",
      "Try using .loc[row_indexer,col_indexer] = value instead\n",
      "\n",
      "See the caveats in the documentation: https://pandas.pydata.org/pandas-docs/stable/user_guide/indexing.html#returning-a-view-versus-a-copy\n",
      "  ms_phd[\"Masters_Degree\"] = 0\n",
      "C:\\Users\\jacob\\AppData\\Local\\Temp/ipykernel_10188/661345030.py:18: SettingWithCopyWarning: \n",
      "A value is trying to be set on a copy of a slice from a DataFrame.\n",
      "Try using .loc[row_indexer,col_indexer] = value instead\n",
      "\n",
      "See the caveats in the documentation: https://pandas.pydata.org/pandas-docs/stable/user_guide/indexing.html#returning-a-view-versus-a-copy\n",
      "  bs_ms[\"Bachelors_Degree\"] = 0\n"
     ]
    }
   ],
   "source": [
    "## cleaning of education variables\n",
    "\n",
    "## find duplicates of people with masters degree and doctorate degrees\n",
    "ms_phd = faang_eda[(faang_eda[\"Masters_Degree\"] == 1) & (faang_eda[\"Doctorate_Degree\"] == 1)]\n",
    "\n",
    "# change duplicates to zeros and only select the higher degree\n",
    "ms_phd[\"Masters_Degree\"] = 0\n",
    "phd = ms_phd\n",
    "\n",
    "# remove the duplicates and add on the higher degree\n",
    "faang_eda.drop(ms_phd.index, axis = 0)\n",
    "faang = pd.concat([faang_eda, phd])\n",
    "\n",
    "##  find duplicates of people with bachelors and masters degrees\n",
    "bs_ms = faang_eda[(faang_eda[\"Bachelors_Degree\"] == 1) & (faang_eda[\"Masters_Degree\"] == 1)]\n",
    "\n",
    "# change duplicates to zeros and only select the higher degree\n",
    "bs_ms[\"Bachelors_Degree\"] = 0\n",
    "ms = bs_ms\n",
    "\n",
    "# remove the duplicates and add on the higher degree\n",
    "faang_eda.drop(bs_ms.index, axis = 0)\n",
    "faang = pd.concat([faang_eda, ms])"
   ]
  },
  {
   "cell_type": "code",
   "execution_count": 39,
   "metadata": {},
   "outputs": [
    {
     "data": {
      "text/html": [
       "<div>\n",
       "<style scoped>\n",
       "    .dataframe tbody tr th:only-of-type {\n",
       "        vertical-align: middle;\n",
       "    }\n",
       "\n",
       "    .dataframe tbody tr th {\n",
       "        vertical-align: top;\n",
       "    }\n",
       "\n",
       "    .dataframe thead th {\n",
       "        text-align: right;\n",
       "    }\n",
       "</style>\n",
       "<table border=\"1\" class=\"dataframe\">\n",
       "  <thead>\n",
       "    <tr style=\"text-align: right;\">\n",
       "      <th></th>\n",
       "      <th>company</th>\n",
       "      <th>title</th>\n",
       "      <th>totalyearlycompensation</th>\n",
       "      <th>location</th>\n",
       "      <th>yearsofexperience</th>\n",
       "      <th>yearsatcompany</th>\n",
       "      <th>basesalary</th>\n",
       "      <th>bonus</th>\n",
       "      <th>Masters_Degree</th>\n",
       "      <th>Bachelors_Degree</th>\n",
       "      <th>Doctorate_Degree</th>\n",
       "      <th>Highschool</th>\n",
       "      <th>Some_College</th>\n",
       "      <th>education</th>\n",
       "    </tr>\n",
       "  </thead>\n",
       "  <tbody>\n",
       "    <tr>\n",
       "      <th>0</th>\n",
       "      <td>Facebook</td>\n",
       "      <td>Software Engineer</td>\n",
       "      <td>600000</td>\n",
       "      <td>Menlo Park, CA</td>\n",
       "      <td>10.0</td>\n",
       "      <td>1.0</td>\n",
       "      <td>215000.0</td>\n",
       "      <td>40000.0</td>\n",
       "      <td>0</td>\n",
       "      <td>0</td>\n",
       "      <td>0</td>\n",
       "      <td>0</td>\n",
       "      <td>0</td>\n",
       "      <td>Masters_Degree</td>\n",
       "    </tr>\n",
       "    <tr>\n",
       "      <th>1</th>\n",
       "      <td>Facebook</td>\n",
       "      <td>Software Engineer</td>\n",
       "      <td>690000</td>\n",
       "      <td>Seattle, WA</td>\n",
       "      <td>11.5</td>\n",
       "      <td>4.0</td>\n",
       "      <td>200000.0</td>\n",
       "      <td>40000.0</td>\n",
       "      <td>0</td>\n",
       "      <td>0</td>\n",
       "      <td>0</td>\n",
       "      <td>0</td>\n",
       "      <td>0</td>\n",
       "      <td>Masters_Degree</td>\n",
       "    </tr>\n",
       "    <tr>\n",
       "      <th>2</th>\n",
       "      <td>Facebook</td>\n",
       "      <td>Software Engineer</td>\n",
       "      <td>450000</td>\n",
       "      <td>Menlo Park, CA</td>\n",
       "      <td>7.0</td>\n",
       "      <td>3.0</td>\n",
       "      <td>190000.0</td>\n",
       "      <td>30000.0</td>\n",
       "      <td>0</td>\n",
       "      <td>0</td>\n",
       "      <td>0</td>\n",
       "      <td>0</td>\n",
       "      <td>0</td>\n",
       "      <td>Masters_Degree</td>\n",
       "    </tr>\n",
       "    <tr>\n",
       "      <th>3</th>\n",
       "      <td>Facebook</td>\n",
       "      <td>Software Engineer</td>\n",
       "      <td>230000</td>\n",
       "      <td>London, EN, United Kingdom</td>\n",
       "      <td>5.0</td>\n",
       "      <td>1.0</td>\n",
       "      <td>134000.0</td>\n",
       "      <td>27000.0</td>\n",
       "      <td>0</td>\n",
       "      <td>0</td>\n",
       "      <td>0</td>\n",
       "      <td>0</td>\n",
       "      <td>0</td>\n",
       "      <td>Masters_Degree</td>\n",
       "    </tr>\n",
       "    <tr>\n",
       "      <th>4</th>\n",
       "      <td>Facebook</td>\n",
       "      <td>Software Engineer</td>\n",
       "      <td>250000</td>\n",
       "      <td>Menlo Park, CA</td>\n",
       "      <td>5.0</td>\n",
       "      <td>0.0</td>\n",
       "      <td>160000.0</td>\n",
       "      <td>1600.0</td>\n",
       "      <td>0</td>\n",
       "      <td>0</td>\n",
       "      <td>0</td>\n",
       "      <td>0</td>\n",
       "      <td>0</td>\n",
       "      <td>Masters_Degree</td>\n",
       "    </tr>\n",
       "    <tr>\n",
       "      <th>...</th>\n",
       "      <td>...</td>\n",
       "      <td>...</td>\n",
       "      <td>...</td>\n",
       "      <td>...</td>\n",
       "      <td>...</td>\n",
       "      <td>...</td>\n",
       "      <td>...</td>\n",
       "      <td>...</td>\n",
       "      <td>...</td>\n",
       "      <td>...</td>\n",
       "      <td>...</td>\n",
       "      <td>...</td>\n",
       "      <td>...</td>\n",
       "      <td>...</td>\n",
       "    </tr>\n",
       "    <tr>\n",
       "      <th>14792</th>\n",
       "      <td>Google</td>\n",
       "      <td>Software Engineer</td>\n",
       "      <td>238000</td>\n",
       "      <td>Seattle, WA</td>\n",
       "      <td>2.0</td>\n",
       "      <td>0.0</td>\n",
       "      <td>131000.0</td>\n",
       "      <td>19650.0</td>\n",
       "      <td>0</td>\n",
       "      <td>0</td>\n",
       "      <td>0</td>\n",
       "      <td>0</td>\n",
       "      <td>0</td>\n",
       "      <td>Masters_Degree</td>\n",
       "    </tr>\n",
       "    <tr>\n",
       "      <th>14793</th>\n",
       "      <td>Google</td>\n",
       "      <td>Software Engineer</td>\n",
       "      <td>220000</td>\n",
       "      <td>San Bruno, CA</td>\n",
       "      <td>2.0</td>\n",
       "      <td>0.0</td>\n",
       "      <td>140000.0</td>\n",
       "      <td>28000.0</td>\n",
       "      <td>0</td>\n",
       "      <td>0</td>\n",
       "      <td>0</td>\n",
       "      <td>0</td>\n",
       "      <td>0</td>\n",
       "      <td>Masters_Degree</td>\n",
       "    </tr>\n",
       "    <tr>\n",
       "      <th>14794</th>\n",
       "      <td>Google</td>\n",
       "      <td>Software Engineer</td>\n",
       "      <td>215000</td>\n",
       "      <td>Mountain View, CA</td>\n",
       "      <td>2.0</td>\n",
       "      <td>2.0</td>\n",
       "      <td>132000.0</td>\n",
       "      <td>23000.0</td>\n",
       "      <td>0</td>\n",
       "      <td>0</td>\n",
       "      <td>0</td>\n",
       "      <td>0</td>\n",
       "      <td>0</td>\n",
       "      <td>Masters_Degree</td>\n",
       "    </tr>\n",
       "    <tr>\n",
       "      <th>14795</th>\n",
       "      <td>Google</td>\n",
       "      <td>Software Engineer</td>\n",
       "      <td>169000</td>\n",
       "      <td>San Bruno, CA</td>\n",
       "      <td>0.0</td>\n",
       "      <td>0.0</td>\n",
       "      <td>125000.0</td>\n",
       "      <td>18750.0</td>\n",
       "      <td>0</td>\n",
       "      <td>0</td>\n",
       "      <td>0</td>\n",
       "      <td>0</td>\n",
       "      <td>0</td>\n",
       "      <td>Masters_Degree</td>\n",
       "    </tr>\n",
       "    <tr>\n",
       "      <th>14796</th>\n",
       "      <td>Google</td>\n",
       "      <td>Software Engineer</td>\n",
       "      <td>327000</td>\n",
       "      <td>Seattle, WA</td>\n",
       "      <td>10.0</td>\n",
       "      <td>1.0</td>\n",
       "      <td>155000.0</td>\n",
       "      <td>22000.0</td>\n",
       "      <td>0</td>\n",
       "      <td>0</td>\n",
       "      <td>0</td>\n",
       "      <td>0</td>\n",
       "      <td>0</td>\n",
       "      <td>Masters_Degree</td>\n",
       "    </tr>\n",
       "  </tbody>\n",
       "</table>\n",
       "<p>14797 rows × 14 columns</p>\n",
       "</div>"
      ],
      "text/plain": [
       "        company              title  totalyearlycompensation  \\\n",
       "0      Facebook  Software Engineer                   600000   \n",
       "1      Facebook  Software Engineer                   690000   \n",
       "2      Facebook  Software Engineer                   450000   \n",
       "3      Facebook  Software Engineer                   230000   \n",
       "4      Facebook  Software Engineer                   250000   \n",
       "...         ...                ...                      ...   \n",
       "14792    Google  Software Engineer                   238000   \n",
       "14793    Google  Software Engineer                   220000   \n",
       "14794    Google  Software Engineer                   215000   \n",
       "14795    Google  Software Engineer                   169000   \n",
       "14796    Google  Software Engineer                   327000   \n",
       "\n",
       "                         location  yearsofexperience  yearsatcompany  \\\n",
       "0                  Menlo Park, CA               10.0             1.0   \n",
       "1                     Seattle, WA               11.5             4.0   \n",
       "2                  Menlo Park, CA                7.0             3.0   \n",
       "3      London, EN, United Kingdom                5.0             1.0   \n",
       "4                  Menlo Park, CA                5.0             0.0   \n",
       "...                           ...                ...             ...   \n",
       "14792                 Seattle, WA                2.0             0.0   \n",
       "14793               San Bruno, CA                2.0             0.0   \n",
       "14794           Mountain View, CA                2.0             2.0   \n",
       "14795               San Bruno, CA                0.0             0.0   \n",
       "14796                 Seattle, WA               10.0             1.0   \n",
       "\n",
       "       basesalary    bonus  Masters_Degree  Bachelors_Degree  \\\n",
       "0        215000.0  40000.0               0                 0   \n",
       "1        200000.0  40000.0               0                 0   \n",
       "2        190000.0  30000.0               0                 0   \n",
       "3        134000.0  27000.0               0                 0   \n",
       "4        160000.0   1600.0               0                 0   \n",
       "...           ...      ...             ...               ...   \n",
       "14792    131000.0  19650.0               0                 0   \n",
       "14793    140000.0  28000.0               0                 0   \n",
       "14794    132000.0  23000.0               0                 0   \n",
       "14795    125000.0  18750.0               0                 0   \n",
       "14796    155000.0  22000.0               0                 0   \n",
       "\n",
       "       Doctorate_Degree  Highschool  Some_College       education  \n",
       "0                     0           0             0  Masters_Degree  \n",
       "1                     0           0             0  Masters_Degree  \n",
       "2                     0           0             0  Masters_Degree  \n",
       "3                     0           0             0  Masters_Degree  \n",
       "4                     0           0             0  Masters_Degree  \n",
       "...                 ...         ...           ...             ...  \n",
       "14792                 0           0             0  Masters_Degree  \n",
       "14793                 0           0             0  Masters_Degree  \n",
       "14794                 0           0             0  Masters_Degree  \n",
       "14795                 0           0             0  Masters_Degree  \n",
       "14796                 0           0             0  Masters_Degree  \n",
       "\n",
       "[14797 rows x 14 columns]"
      ]
     },
     "execution_count": 39,
     "metadata": {},
     "output_type": "execute_result"
    }
   ],
   "source": [
    "## drop other rows with zero values\n",
    "zerosalary = faang_eda[faang_eda[\"basesalary\"] == 0]\n",
    "faang_eda = faang_eda.drop(zerosalary.index, axis = 0)\n",
    "\n",
    "## create education column (\"undummy\" the variables)\n",
    "education = faang_eda[[\"Masters_Degree\", \"Bachelors_Degree\", \"Doctorate_Degree\", \"Highschool\", \"Some_College\"]].eq(1).idxmax(axis = 1)\n",
    "faang_eda[\"education\"] = education\n",
    "# reset index\n",
    "faang_eda = faang_eda.reset_index().drop('index', axis=1)\n",
    "faang_eda"
   ]
  },
  {
   "cell_type": "markdown",
   "metadata": {},
   "source": [
    "## Exploratory data analysis"
   ]
  },
  {
   "cell_type": "code",
   "execution_count": 40,
   "metadata": {},
   "outputs": [
    {
     "data": {
      "text/plain": [
       "company                    0\n",
       "title                      0\n",
       "totalyearlycompensation    0\n",
       "location                   0\n",
       "yearsofexperience          0\n",
       "yearsatcompany             0\n",
       "basesalary                 0\n",
       "bonus                      0\n",
       "Masters_Degree             0\n",
       "Bachelors_Degree           0\n",
       "Doctorate_Degree           0\n",
       "Highschool                 0\n",
       "Some_College               0\n",
       "education                  0\n",
       "dtype: int64"
      ]
     },
     "execution_count": 40,
     "metadata": {},
     "output_type": "execute_result"
    }
   ],
   "source": [
    "# see if missing values exist\n",
    "faang_eda.isna().sum()"
   ]
  },
  {
   "cell_type": "code",
   "execution_count": 41,
   "metadata": {},
   "outputs": [
    {
     "data": {
      "text/html": [
       "<div>\n",
       "<style scoped>\n",
       "    .dataframe tbody tr th:only-of-type {\n",
       "        vertical-align: middle;\n",
       "    }\n",
       "\n",
       "    .dataframe tbody tr th {\n",
       "        vertical-align: top;\n",
       "    }\n",
       "\n",
       "    .dataframe thead th {\n",
       "        text-align: right;\n",
       "    }\n",
       "</style>\n",
       "<table border=\"1\" class=\"dataframe\">\n",
       "  <thead>\n",
       "    <tr style=\"text-align: right;\">\n",
       "      <th></th>\n",
       "      <th>totalyearlycompensation</th>\n",
       "      <th>yearsofexperience</th>\n",
       "      <th>yearsatcompany</th>\n",
       "      <th>basesalary</th>\n",
       "      <th>bonus</th>\n",
       "      <th>Masters_Degree</th>\n",
       "      <th>Bachelors_Degree</th>\n",
       "      <th>Doctorate_Degree</th>\n",
       "      <th>Highschool</th>\n",
       "      <th>Some_College</th>\n",
       "    </tr>\n",
       "  </thead>\n",
       "  <tbody>\n",
       "    <tr>\n",
       "      <th>count</th>\n",
       "      <td>1.479700e+04</td>\n",
       "      <td>14797.000000</td>\n",
       "      <td>14797.000000</td>\n",
       "      <td>14797.000000</td>\n",
       "      <td>14797.000000</td>\n",
       "      <td>14797.000000</td>\n",
       "      <td>14797.000000</td>\n",
       "      <td>14797.000000</td>\n",
       "      <td>14797.000000</td>\n",
       "      <td>14797.000000</td>\n",
       "    </tr>\n",
       "    <tr>\n",
       "      <th>mean</th>\n",
       "      <td>2.635540e+05</td>\n",
       "      <td>7.206653</td>\n",
       "      <td>2.240221</td>\n",
       "      <td>150494.416571</td>\n",
       "      <td>24014.653916</td>\n",
       "      <td>0.269987</td>\n",
       "      <td>0.189903</td>\n",
       "      <td>0.044333</td>\n",
       "      <td>0.005474</td>\n",
       "      <td>0.004933</td>\n",
       "    </tr>\n",
       "    <tr>\n",
       "      <th>std</th>\n",
       "      <td>1.576805e+05</td>\n",
       "      <td>5.766760</td>\n",
       "      <td>2.604763</td>\n",
       "      <td>51108.091234</td>\n",
       "      <td>31372.488267</td>\n",
       "      <td>0.443968</td>\n",
       "      <td>0.392238</td>\n",
       "      <td>0.205842</td>\n",
       "      <td>0.073787</td>\n",
       "      <td>0.070067</td>\n",
       "    </tr>\n",
       "    <tr>\n",
       "      <th>min</th>\n",
       "      <td>1.000000e+04</td>\n",
       "      <td>0.000000</td>\n",
       "      <td>0.000000</td>\n",
       "      <td>9000.000000</td>\n",
       "      <td>0.000000</td>\n",
       "      <td>0.000000</td>\n",
       "      <td>0.000000</td>\n",
       "      <td>0.000000</td>\n",
       "      <td>0.000000</td>\n",
       "      <td>0.000000</td>\n",
       "    </tr>\n",
       "    <tr>\n",
       "      <th>25%</th>\n",
       "      <td>1.750000e+05</td>\n",
       "      <td>3.000000</td>\n",
       "      <td>0.000000</td>\n",
       "      <td>125000.000000</td>\n",
       "      <td>0.000000</td>\n",
       "      <td>0.000000</td>\n",
       "      <td>0.000000</td>\n",
       "      <td>0.000000</td>\n",
       "      <td>0.000000</td>\n",
       "      <td>0.000000</td>\n",
       "    </tr>\n",
       "    <tr>\n",
       "      <th>50%</th>\n",
       "      <td>2.300000e+05</td>\n",
       "      <td>6.000000</td>\n",
       "      <td>1.000000</td>\n",
       "      <td>150000.000000</td>\n",
       "      <td>20000.000000</td>\n",
       "      <td>0.000000</td>\n",
       "      <td>0.000000</td>\n",
       "      <td>0.000000</td>\n",
       "      <td>0.000000</td>\n",
       "      <td>0.000000</td>\n",
       "    </tr>\n",
       "    <tr>\n",
       "      <th>75%</th>\n",
       "      <td>3.120000e+05</td>\n",
       "      <td>10.000000</td>\n",
       "      <td>3.000000</td>\n",
       "      <td>170000.000000</td>\n",
       "      <td>30000.000000</td>\n",
       "      <td>1.000000</td>\n",
       "      <td>0.000000</td>\n",
       "      <td>0.000000</td>\n",
       "      <td>0.000000</td>\n",
       "      <td>0.000000</td>\n",
       "    </tr>\n",
       "    <tr>\n",
       "      <th>max</th>\n",
       "      <td>4.980000e+06</td>\n",
       "      <td>42.000000</td>\n",
       "      <td>20.000000</td>\n",
       "      <td>800000.000000</td>\n",
       "      <td>555000.000000</td>\n",
       "      <td>1.000000</td>\n",
       "      <td>1.000000</td>\n",
       "      <td>1.000000</td>\n",
       "      <td>1.000000</td>\n",
       "      <td>1.000000</td>\n",
       "    </tr>\n",
       "  </tbody>\n",
       "</table>\n",
       "</div>"
      ],
      "text/plain": [
       "       totalyearlycompensation  yearsofexperience  yearsatcompany  \\\n",
       "count             1.479700e+04       14797.000000    14797.000000   \n",
       "mean              2.635540e+05           7.206653        2.240221   \n",
       "std               1.576805e+05           5.766760        2.604763   \n",
       "min               1.000000e+04           0.000000        0.000000   \n",
       "25%               1.750000e+05           3.000000        0.000000   \n",
       "50%               2.300000e+05           6.000000        1.000000   \n",
       "75%               3.120000e+05          10.000000        3.000000   \n",
       "max               4.980000e+06          42.000000       20.000000   \n",
       "\n",
       "          basesalary          bonus  Masters_Degree  Bachelors_Degree  \\\n",
       "count   14797.000000   14797.000000    14797.000000      14797.000000   \n",
       "mean   150494.416571   24014.653916        0.269987          0.189903   \n",
       "std     51108.091234   31372.488267        0.443968          0.392238   \n",
       "min      9000.000000       0.000000        0.000000          0.000000   \n",
       "25%    125000.000000       0.000000        0.000000          0.000000   \n",
       "50%    150000.000000   20000.000000        0.000000          0.000000   \n",
       "75%    170000.000000   30000.000000        1.000000          0.000000   \n",
       "max    800000.000000  555000.000000        1.000000          1.000000   \n",
       "\n",
       "       Doctorate_Degree    Highschool  Some_College  \n",
       "count      14797.000000  14797.000000  14797.000000  \n",
       "mean           0.044333      0.005474      0.004933  \n",
       "std            0.205842      0.073787      0.070067  \n",
       "min            0.000000      0.000000      0.000000  \n",
       "25%            0.000000      0.000000      0.000000  \n",
       "50%            0.000000      0.000000      0.000000  \n",
       "75%            0.000000      0.000000      0.000000  \n",
       "max            1.000000      1.000000      1.000000  "
      ]
     },
     "execution_count": 41,
     "metadata": {},
     "output_type": "execute_result"
    }
   ],
   "source": [
    "# data set summary\n",
    "faang_eda.describe()"
   ]
  },
  {
   "cell_type": "code",
   "execution_count": 42,
   "metadata": {},
   "outputs": [
    {
     "data": {
      "text/plain": [
       "[Text(0.5, 0, 'Company'), Text(0, 0.5, 'Total Yearly Compensation ($)')]"
      ]
     },
     "execution_count": 42,
     "metadata": {},
     "output_type": "execute_result"
    },
    {
     "data": {
      "image/png": "[encoded data removed]",
      "text/plain": [
       "<Figure size 432x288 with 1 Axes>"
      ]
     },
     "metadata": {
      "needs_background": "light"
     },
     "output_type": "display_data"
    }
   ],
   "source": [
    "## bar plot of total yearly compensation and companies\n",
    "company_plt = sns.barplot(x = \"company\", y = \"totalyearlycompensation\", data = faang_eda, ci = None)\n",
    "company_plt.set(xlabel = 'Company', ylabel = 'Total Yearly Compensation ($)')"
   ]
  },
  {
   "cell_type": "code",
   "execution_count": 44,
   "metadata": {},
   "outputs": [
    {
     "name": "stderr",
     "output_type": "stream",
     "text": [
      "C:\\Users\\jacob\\AppData\\Local\\Temp/ipykernel_10188/2801283058.py:7: UserWarning: FixedFormatter should only be used together with FixedLocator\n",
      "  yrs_exp_plt.set_yticklabels(['0', '0', '100000', '200000', '300000', '400000', '500000'])\n"
     ]
    },
    {
     "data": {
      "text/plain": [
       "[Text(0.5, 0, 'Years of Experience'),\n",
       " Text(0, 0.5, 'Total Yearly Compensation ($)')]"
      ]
     },
     "execution_count": 44,
     "metadata": {},
     "output_type": "execute_result"
    },
    {
     "data": {
      "image/png": "[encoded data removed]",
      "text/plain": [
       "<Figure size 432x288 with 1 Axes>"
      ]
     },
     "metadata": {
      "needs_background": "light"
     },
     "output_type": "display_data"
    }
   ],
   "source": [
    "## years of experience vs total yearly compensation plot\n",
    "\n",
    "# create plot\n",
    "yrs_exp_plt = sns.scatterplot(x = \"yearsofexperience\", y = \"totalyearlycompensation\", data = faang_eda, ci = None, hue = \"company\")\n",
    "\n",
    "# set axis ticks, legend position and axis labels\n",
    "yrs_exp_plt.set_yticklabels(['0', '0', '100000', '200000', '300000', '400000', '500000'])\n",
    "plt.legend(bbox_to_anchor = (1.02, 1), loc = 'upper left', borderaxespad = 0)\n",
    "yrs_exp_plt.set(xlabel = 'Years of Experience', ylabel = 'Total Yearly Compensation ($)')"
   ]
  },
  {
   "cell_type": "code",
   "execution_count": 45,
   "metadata": {},
   "outputs": [
    {
     "data": {
      "text/plain": [
       "<matplotlib.legend.Legend at 0x161dcbad490>"
      ]
     },
     "execution_count": 45,
     "metadata": {},
     "output_type": "execute_result"
    },
    {
     "data": {
      "image/png": "[encoded data removed]",
      "text/plain": [
       "<Figure size 432x288 with 1 Axes>"
      ]
     },
     "metadata": {
      "needs_background": "light"
     },
     "output_type": "display_data"
    }
   ],
   "source": [
    "## scatter plot of years at company vs total yearly compensation\n",
    "\n",
    "# create plot\n",
    "sns.scatterplot(x = \"yearsatcompany\", y = \"totalyearlycompensation\", data = faang_eda, ci = None, hue = \"company\")\n",
    "\n",
    "# set legend location\n",
    "plt.legend(bbox_to_anchor = (1.02, 1), loc = 'upper left', borderaxespad = 0)"
   ]
  },
  {
   "cell_type": "code",
   "execution_count": 46,
   "metadata": {},
   "outputs": [
    {
     "data": {
      "text/plain": [
       "<matplotlib.legend.Legend at 0x161dcc1b0a0>"
      ]
     },
     "execution_count": 46,
     "metadata": {},
     "output_type": "execute_result"
    },
    {
     "data": {
      "image/png": "[encoded data removed]",
      "text/plain": [
       "<Figure size 432x288 with 1 Axes>"
      ]
     },
     "metadata": {
      "needs_background": "light"
     },
     "output_type": "display_data"
    }
   ],
   "source": [
    "## education vs total yearly compensation plot\n",
    "\n",
    "# create education plot\n",
    "edu_plt = sns.barplot(x = \"education\", y = \"totalyearlycompensation\", data = faang_eda, ci = None, hue = \"company\",\n",
    "                     order = [\"Highschool\", \"Some_College\", \"Bachelors_Degree\", \"Masters_Degree\", \"Doctorate_Degree\"])\n",
    "\n",
    "# change x ticks labels, rename axis labels and change legend location\n",
    "edu_plt.set_xticklabels(['High School','Some College', 'BS', 'MS','PhD'])\n",
    "edu_plt.set(xlabel = 'Education', ylabel = 'Total Yearly Compensation ($)')\n",
    "plt.legend(bbox_to_anchor = (1.02, 1), loc = 'upper left', borderaxespad = 0)"
   ]
  },
  {
   "cell_type": "code",
   "execution_count": 47,
   "metadata": {},
   "outputs": [
    {
     "data": {
      "text/plain": [
       "<AxesSubplot:xlabel='totalyearlycompensation', ylabel='Count'>"
      ]
     },
     "execution_count": 47,
     "metadata": {},
     "output_type": "execute_result"
    },
    {
     "data": {
      "image/png": "[encoded data removed]",
      "text/plain": [
       "<Figure size 432x288 with 1 Axes>"
      ]
     },
     "metadata": {
      "needs_background": "light"
     },
     "output_type": "display_data"
    }
   ],
   "source": [
    "# histogram of yearly total compensation\n",
    "sns.histplot(x = \"totalyearlycompensation\", data = faang_eda)"
   ]
  },
  {
   "cell_type": "markdown",
   "metadata": {},
   "source": [
    "## Create train and test."
   ]
  },
  {
   "cell_type": "code",
   "execution_count": 51,
   "metadata": {},
   "outputs": [],
   "source": [
    "# sklearn modeling libraries\n",
    "from sklearn import linear_model\n",
    "from sklearn.preprocessing import PolynomialFeatures, OneHotEncoder, MinMaxScaler, StandardScaler\n",
    "from sklearn.pipeline import Pipeline\n",
    "from sklearn.model_selection import cross_val_score, GridSearchCV, train_test_split\n",
    "from sklearn.impute import SimpleImputer\n",
    "from sklearn.linear_model import LinearRegression, Lasso\n",
    "from sklearn.neighbors import KNeighborsRegressor\n",
    "from sklearn.tree import DecisionTreeRegressor\n",
    "from sklearn.metrics import mean_squared_error\n",
    "from sklearn.compose import ColumnTransformer\n",
    "from sklearn.naive_bayes import MultinomialNB\n",
    "from sklearn.ensemble import RandomForestClassifier"
   ]
  },
  {
   "cell_type": "code",
   "execution_count": 52,
   "metadata": {},
   "outputs": [],
   "source": [
    "# create modified data frame for analysis\n",
    "faang = faang_eda.drop([\"location\", \"education\"], axis = 1)"
   ]
  },
  {
   "cell_type": "code",
   "execution_count": 53,
   "metadata": {},
   "outputs": [],
   "source": [
    "faang = pd.get_dummies(faang, columns = [\"company\", \"title\"])"
   ]
  },
  {
   "cell_type": "code",
   "execution_count": 54,
   "metadata": {},
   "outputs": [],
   "source": [
    "# select X variables\n",
    "X = faang.drop(\"totalyearlycompensation\", axis = 1)\n",
    "y = faang[\"totalyearlycompensation\"]\n",
    "\n",
    "# create train and test datasets\n",
    "X_train, X_test, y_train, y_test = train_test_split(faang, y, test_size = .25, random_state = 1234)"
   ]
  },
  {
   "cell_type": "markdown",
   "metadata": {},
   "source": [
    "## Different modeling methods"
   ]
  },
  {
   "cell_type": "code",
   "execution_count": 19,
   "metadata": {},
   "outputs": [],
   "source": [
    "# get appropriate tuning parameters using GridSearchCV\n",
    "#############################################\n",
    "# this takes a really long time to run.\n",
    "#############################################\n",
    "# # lm\n",
    "# pipe_lm_gs = Pipeline(\n",
    "#     [('preprocessor', preprocessor),\n",
    "#      ('poly', PolynomialFeatures()),\n",
    "#      ('lm', LinearRegression())])\n",
    "# param_grid = [{'poly__degree':[1,2,3]}]\n",
    "# gs_lm = GridSearchCV(pipe_lm_gs, param_grid, scoring='neg_mean_squared_error')\n",
    "# gs_lm.fit(X_train, y_train)\n",
    "# # knn\n",
    "# pipe_knn_gs = Pipeline(\n",
    "#     [('preprocessor', preprocessor),\n",
    "#      ('poly', PolynomialFeatures()),\n",
    "#      ('knn', KNeighborsRegressor())])\n",
    "# param_grid = [{'knn__n_neighbors': list(range(1,10)), 'poly__degree':[1,2,3]}]\n",
    "# gs_knn = GridSearchCV(pipe_knn_gs, param_grid, scoring='neg_mean_squared_error')\n",
    "# gs_knn.fit(X_train, y_train)\n",
    "# # lasso\n",
    "# pipe_lasso_gs = Pipeline(\n",
    "#     [('preprocessor', preprocessor),\n",
    "#      ('poly', PolynomialFeatures()),\n",
    "#      ('lasso', Lasso())])\n",
    "# param_grid = [{'poly__degree':[1,2,3]}]\n",
    "# gs_lasso = GridSearchCV(pipe_lasso_gs, param_grid, scoring='neg_mean_squared_error')\n",
    "# gs_lasso.fit(X_train, y_train)\n",
    "# # tree\n",
    "# pipe_tree_gs = Pipeline(\n",
    "#     [('preprocessor', preprocessor),\n",
    "#      ('poly', PolynomialFeatures()),\n",
    "#      ('tree', DecisionTreeRegressor())])\n",
    "# param_grid = [{'tree__min_samples_leaf': list(range(1,10))}, {'poly__degree':[1,2,3]}]\n",
    "# gs_tree = GridSearchCV(pipe_tree_gs, param_grid, scoring='neg_mean_squared_error')\n",
    "# gs_tree.fit(X_train, y_train)\n",
    "\n",
    "# print('lm: ', gs_lm.best_params_)\n",
    "# print('knn: ', gs_knn.best_params_)\n",
    "# print('lasso: ', gs_lasso.best_params_)\n",
    "# print('tree: ', gs_tree.best_params_)"
   ]
  },
  {
   "cell_type": "code",
   "execution_count": 55,
   "metadata": {},
   "outputs": [
    {
     "data": {
      "text/plain": [
       "2.8467565565876175e-10"
      ]
     },
     "execution_count": 55,
     "metadata": {},
     "output_type": "execute_result"
    }
   ],
   "source": [
    "# linear regression model\n",
    "lm_pipe = LinearRegression()\n",
    "lm_pipe.fit(X_train, y_train)\n",
    "lm_preds = lm_pipe.predict(X_test)\n",
    "\n",
    "# calculate model metrics\n",
    "rmse_lm = mean_squared_error(y_test, lm_preds, squared = False)\n",
    "score_lm = np.mean(cross_val_score(lm_pipe, X_train, y_train, cv=10, scoring='neg_root_mean_squared_error'))*(-1)\n",
    "\n",
    "# likely assumptions are not met"
   ]
  },
  {
   "cell_type": "code",
   "execution_count": 56,
   "metadata": {},
   "outputs": [
    {
     "name": "stderr",
     "output_type": "stream",
     "text": [
      "C:\\Users\\jacob\\AppData\\Local\\Programs\\Python\\Python39\\lib\\site-packages\\sklearn\\base.py:441: UserWarning: X does not have valid feature names, but KNeighborsRegressor was fitted with feature names\n",
      "  warnings.warn(\n",
      "C:\\Users\\jacob\\AppData\\Local\\Programs\\Python\\Python39\\lib\\site-packages\\sklearn\\base.py:441: UserWarning: X does not have valid feature names, but KNeighborsRegressor was fitted with feature names\n",
      "  warnings.warn(\n",
      "C:\\Users\\jacob\\AppData\\Local\\Programs\\Python\\Python39\\lib\\site-packages\\sklearn\\base.py:441: UserWarning: X does not have valid feature names, but KNeighborsRegressor was fitted with feature names\n",
      "  warnings.warn(\n",
      "C:\\Users\\jacob\\AppData\\Local\\Programs\\Python\\Python39\\lib\\site-packages\\sklearn\\base.py:441: UserWarning: X does not have valid feature names, but KNeighborsRegressor was fitted with feature names\n",
      "  warnings.warn(\n",
      "C:\\Users\\jacob\\AppData\\Local\\Programs\\Python\\Python39\\lib\\site-packages\\sklearn\\base.py:441: UserWarning: X does not have valid feature names, but KNeighborsRegressor was fitted with feature names\n",
      "  warnings.warn(\n",
      "C:\\Users\\jacob\\AppData\\Local\\Programs\\Python\\Python39\\lib\\site-packages\\sklearn\\base.py:441: UserWarning: X does not have valid feature names, but KNeighborsRegressor was fitted with feature names\n",
      "  warnings.warn(\n",
      "C:\\Users\\jacob\\AppData\\Local\\Programs\\Python\\Python39\\lib\\site-packages\\sklearn\\base.py:441: UserWarning: X does not have valid feature names, but KNeighborsRegressor was fitted with feature names\n",
      "  warnings.warn(\n",
      "C:\\Users\\jacob\\AppData\\Local\\Programs\\Python\\Python39\\lib\\site-packages\\sklearn\\base.py:441: UserWarning: X does not have valid feature names, but KNeighborsRegressor was fitted with feature names\n",
      "  warnings.warn(\n",
      "C:\\Users\\jacob\\AppData\\Local\\Programs\\Python\\Python39\\lib\\site-packages\\sklearn\\base.py:441: UserWarning: X does not have valid feature names, but KNeighborsRegressor was fitted with feature names\n",
      "  warnings.warn(\n",
      "C:\\Users\\jacob\\AppData\\Local\\Programs\\Python\\Python39\\lib\\site-packages\\sklearn\\base.py:441: UserWarning: X does not have valid feature names, but KNeighborsRegressor was fitted with feature names\n",
      "  warnings.warn(\n",
      "C:\\Users\\jacob\\AppData\\Local\\Programs\\Python\\Python39\\lib\\site-packages\\sklearn\\base.py:441: UserWarning: X does not have valid feature names, but KNeighborsRegressor was fitted with feature names\n",
      "  warnings.warn(\n"
     ]
    },
    {
     "data": {
      "text/plain": [
       "15803.461720104542"
      ]
     },
     "execution_count": 56,
     "metadata": {},
     "output_type": "execute_result"
    }
   ],
   "source": [
    "# knn model\n",
    "knn_pipe = KNeighborsRegressor(n_neighbors = 10)\n",
    "knn_pipe.fit(X_train, y_train)\n",
    "knn_preds = knn_pipe.predict(X_test)\n",
    "\n",
    "# calculate model metrics\n",
    "rmse_knn = mean_squared_error(y_test, knn_preds, squared=False)\n",
    "score_knn = np.mean(cross_val_score(knn_pipe, X_train, y_train, cv=10, scoring='neg_root_mean_squared_error'))*(-1)"
   ]
  },
  {
   "cell_type": "code",
   "execution_count": 57,
   "metadata": {},
   "outputs": [
    {
     "data": {
      "text/plain": [
       "3.3784014691009395e-06"
      ]
     },
     "execution_count": 57,
     "metadata": {},
     "output_type": "execute_result"
    }
   ],
   "source": [
    "#  lasso model\n",
    "lasso_pipe = Lasso(alpha = 0.5)\n",
    "lasso_pipe.fit(X_train, y_train)\n",
    "lasso_preds = lasso_pipe.predict(X_test)\n",
    "\n",
    "# calculate model metrics\n",
    "rmse_lasso = mean_squared_error(y_test, lasso_preds, squared=False)\n",
    "score_lasso = np.mean(cross_val_score(lasso_pipe, X_train, y_train, cv=10, scoring='neg_root_mean_squared_error'))*(-1)\n",
    "\n",
    "# likely assumptions are not met"
   ]
  },
  {
   "cell_type": "code",
   "execution_count": 58,
   "metadata": {},
   "outputs": [
    {
     "data": {
      "text/plain": [
       "20522.0325581909"
      ]
     },
     "execution_count": 58,
     "metadata": {},
     "output_type": "execute_result"
    }
   ],
   "source": [
    "# decision tree model\n",
    "tree_pipe = DecisionTreeRegressor(min_samples_leaf = 15)\n",
    "tree_pipe.fit(X_train, y_train) # create model\n",
    "tree_preds = tree_pipe.predict(X_test)\n",
    "\n",
    "# calculate model metrics\n",
    "rmse_tree = mean_squared_error(y_test, tree_preds, squared=False)\n",
    "score_tree = np.mean(cross_val_score(tree_pipe, X_train, y_train, cv=10, scoring='neg_root_mean_squared_error'))*(-1)"
   ]
  },
  {
   "cell_type": "code",
   "execution_count": 59,
   "metadata": {},
   "outputs": [
    {
     "name": "stderr",
     "output_type": "stream",
     "text": [
      "C:\\Users\\jacob\\AppData\\Local\\Programs\\Python\\Python39\\lib\\site-packages\\sklearn\\model_selection\\_split.py:676: UserWarning: The least populated class in y has only 1 members, which is less than n_splits=10.\n",
      "  warnings.warn(\n"
     ]
    }
   ],
   "source": [
    "# multinomial naive bayes model\n",
    "nb_pipe = MultinomialNB()\n",
    "nb_pipe.fit(X_train, y_train)\n",
    "\n",
    "# create predictions\n",
    "nb_preds = nb_pipe.predict(X_test)\n",
    "rmse_nb = mean_squared_error(y_test, nb_preds, squared=False)\n",
    "score_nb = np.mean(cross_val_score(nb_pipe, X_train, y_train, cv=10, scoring='neg_root_mean_squared_error'))*(-1)"
   ]
  },
  {
   "cell_type": "code",
   "execution_count": 60,
   "metadata": {},
   "outputs": [
    {
     "name": "stderr",
     "output_type": "stream",
     "text": [
      "C:\\Users\\jacob\\AppData\\Local\\Programs\\Python\\Python39\\lib\\site-packages\\sklearn\\model_selection\\_split.py:676: UserWarning: The least populated class in y has only 1 members, which is less than n_splits=10.\n",
      "  warnings.warn(\n"
     ]
    }
   ],
   "source": [
    "# forest model\n",
    "forest_pipe = RandomForestClassifier(n_estimators = 100, n_jobs = -1, max_depth = 10)\n",
    "forest_pipe.fit(X_train, y_train)\n",
    "forest_preds = forest_pipe.predict(X_test)\n",
    "\n",
    "# calculate model metrics\n",
    "rmse_forest = mean_squared_error(y_test, forest_preds, squared=False)\n",
    "score_forest = np.mean(cross_val_score(forest_pipe, X_train, y_train, cv=10, scoring='neg_root_mean_squared_error'))*(-1)"
   ]
  },
  {
   "cell_type": "code",
   "execution_count": 61,
   "metadata": {},
   "outputs": [
    {
     "name": "stdout",
     "output_type": "stream",
     "text": [
      "Linear Model:\n",
      "rmse:  7.362988708711129e-10\n",
      "cv:  2.8467565565876175e-10\n",
      " \n",
      "KNN Model:\n",
      "rmse:  62610.592543503764\n",
      "cv:  15803.461720104542\n",
      " \n",
      "Lasso:\n",
      "rmse:  4.239566307252631e-06\n",
      "cv:  3.3784014691009395e-06\n",
      " \n",
      "Tree Regressor:\n",
      "rmse:  68087.21755274128\n",
      "cv:  20522.0325581909\n",
      " \n",
      "Forest:\n",
      "rmse:  117870.44830855382\n",
      "cv:  79758.59977031744\n",
      " \n",
      "Naive Bayes: \n",
      "rmse:  143560.01764258926\n",
      "cv:  147268.57615946242\n"
     ]
    }
   ],
   "source": [
    "# results from various models\n",
    "print('Linear Model:')\n",
    "print('rmse: ', rmse_lm)\n",
    "print('cv: ', score_lm)\n",
    "print(' ')\n",
    "\n",
    "print('KNN Model:')\n",
    "print('rmse: ', rmse_knn)\n",
    "print('cv: ', score_knn)\n",
    "print(' ')\n",
    "\n",
    "print('Lasso:')\n",
    "print('rmse: ', rmse_lasso)\n",
    "print('cv: ', score_lasso)\n",
    "print(' ')\n",
    "\n",
    "print('Tree Regressor:')\n",
    "print('rmse: ', rmse_tree)\n",
    "print('cv: ', score_tree)\n",
    "print(' ')\n",
    "\n",
    "print('Forest:')\n",
    "print('rmse: ', rmse_forest)\n",
    "print('cv: ', score_forest)\n",
    "print(' ')\n",
    "\n",
    "print('Naive Bayes: ')\n",
    "print('rmse: ', rmse_nb)\n",
    "print('cv: ', score_nb)"
   ]
  },
  {
   "cell_type": "markdown",
   "metadata": {},
   "source": [
    "KNN gave the lowest RMSE, but it's results are not very interpretable, therefore we will go with the second best model which was the decision tree with 15 leaves. Its variable importance features are given below."
   ]
  },
  {
   "cell_type": "code",
   "execution_count": 62,
   "metadata": {},
   "outputs": [
    {
     "data": {
      "text/html": [
       "<div>\n",
       "<style scoped>\n",
       "    .dataframe tbody tr th:only-of-type {\n",
       "        vertical-align: middle;\n",
       "    }\n",
       "\n",
       "    .dataframe tbody tr th {\n",
       "        vertical-align: top;\n",
       "    }\n",
       "\n",
       "    .dataframe thead th {\n",
       "        text-align: right;\n",
       "    }\n",
       "</style>\n",
       "<table border=\"1\" class=\"dataframe\">\n",
       "  <thead>\n",
       "    <tr style=\"text-align: right;\">\n",
       "      <th></th>\n",
       "      <th>Column_Name</th>\n",
       "      <th>Coef_Values</th>\n",
       "    </tr>\n",
       "  </thead>\n",
       "  <tbody>\n",
       "    <tr>\n",
       "      <th>0</th>\n",
       "      <td>totalyearlycompensation</td>\n",
       "      <td>9.999990e-01</td>\n",
       "    </tr>\n",
       "    <tr>\n",
       "      <th>4</th>\n",
       "      <td>bonus</td>\n",
       "      <td>3.409791e-07</td>\n",
       "    </tr>\n",
       "    <tr>\n",
       "      <th>3</th>\n",
       "      <td>basesalary</td>\n",
       "      <td>2.525693e-07</td>\n",
       "    </tr>\n",
       "    <tr>\n",
       "      <th>2</th>\n",
       "      <td>yearsatcompany</td>\n",
       "      <td>1.242664e-07</td>\n",
       "    </tr>\n",
       "    <tr>\n",
       "      <th>26</th>\n",
       "      <td>title_Software Engineer</td>\n",
       "      <td>1.220366e-07</td>\n",
       "    </tr>\n",
       "    <tr>\n",
       "      <th>1</th>\n",
       "      <td>yearsofexperience</td>\n",
       "      <td>8.235010e-08</td>\n",
       "    </tr>\n",
       "    <tr>\n",
       "      <th>12</th>\n",
       "      <td>company_Facebook</td>\n",
       "      <td>7.951832e-08</td>\n",
       "    </tr>\n",
       "    <tr>\n",
       "      <th>13</th>\n",
       "      <td>company_Google</td>\n",
       "      <td>2.541658e-08</td>\n",
       "    </tr>\n",
       "    <tr>\n",
       "      <th>10</th>\n",
       "      <td>company_Amazon</td>\n",
       "      <td>5.009744e-09</td>\n",
       "    </tr>\n",
       "    <tr>\n",
       "      <th>5</th>\n",
       "      <td>Masters_Degree</td>\n",
       "      <td>8.188434e-10</td>\n",
       "    </tr>\n",
       "    <tr>\n",
       "      <th>24</th>\n",
       "      <td>title_Recruiter</td>\n",
       "      <td>0.000000e+00</td>\n",
       "    </tr>\n",
       "    <tr>\n",
       "      <th>25</th>\n",
       "      <td>title_Sales</td>\n",
       "      <td>0.000000e+00</td>\n",
       "    </tr>\n",
       "    <tr>\n",
       "      <th>27</th>\n",
       "      <td>title_Software Engineering Manager</td>\n",
       "      <td>0.000000e+00</td>\n",
       "    </tr>\n",
       "    <tr>\n",
       "      <th>14</th>\n",
       "      <td>company_Netflix</td>\n",
       "      <td>0.000000e+00</td>\n",
       "    </tr>\n",
       "    <tr>\n",
       "      <th>18</th>\n",
       "      <td>title_Human Resources</td>\n",
       "      <td>0.000000e+00</td>\n",
       "    </tr>\n",
       "    <tr>\n",
       "      <th>17</th>\n",
       "      <td>title_Hardware Engineer</td>\n",
       "      <td>0.000000e+00</td>\n",
       "    </tr>\n",
       "    <tr>\n",
       "      <th>6</th>\n",
       "      <td>Bachelors_Degree</td>\n",
       "      <td>0.000000e+00</td>\n",
       "    </tr>\n",
       "    <tr>\n",
       "      <th>7</th>\n",
       "      <td>Doctorate_Degree</td>\n",
       "      <td>0.000000e+00</td>\n",
       "    </tr>\n",
       "    <tr>\n",
       "      <th>8</th>\n",
       "      <td>Highschool</td>\n",
       "      <td>0.000000e+00</td>\n",
       "    </tr>\n",
       "    <tr>\n",
       "      <th>9</th>\n",
       "      <td>Some_College</td>\n",
       "      <td>0.000000e+00</td>\n",
       "    </tr>\n",
       "    <tr>\n",
       "      <th>11</th>\n",
       "      <td>company_Apple</td>\n",
       "      <td>0.000000e+00</td>\n",
       "    </tr>\n",
       "    <tr>\n",
       "      <th>29</th>\n",
       "      <td>title_Technical Program Manager</td>\n",
       "      <td>0.000000e+00</td>\n",
       "    </tr>\n",
       "    <tr>\n",
       "      <th>28</th>\n",
       "      <td>title_Solution Architect</td>\n",
       "      <td>0.000000e+00</td>\n",
       "    </tr>\n",
       "    <tr>\n",
       "      <th>15</th>\n",
       "      <td>title_Business Analyst</td>\n",
       "      <td>0.000000e+00</td>\n",
       "    </tr>\n",
       "    <tr>\n",
       "      <th>16</th>\n",
       "      <td>title_Data Scientist</td>\n",
       "      <td>0.000000e+00</td>\n",
       "    </tr>\n",
       "    <tr>\n",
       "      <th>23</th>\n",
       "      <td>title_Product Manager</td>\n",
       "      <td>0.000000e+00</td>\n",
       "    </tr>\n",
       "  </tbody>\n",
       "</table>\n",
       "</div>"
      ],
      "text/plain": [
       "                           Column_Name   Coef_Values\n",
       "0              totalyearlycompensation  9.999990e-01\n",
       "4                                bonus  3.409791e-07\n",
       "3                           basesalary  2.525693e-07\n",
       "2                       yearsatcompany  1.242664e-07\n",
       "26             title_Software Engineer  1.220366e-07\n",
       "1                    yearsofexperience  8.235010e-08\n",
       "12                    company_Facebook  7.951832e-08\n",
       "13                      company_Google  2.541658e-08\n",
       "10                      company_Amazon  5.009744e-09\n",
       "5                       Masters_Degree  8.188434e-10\n",
       "24                     title_Recruiter  0.000000e+00\n",
       "25                         title_Sales  0.000000e+00\n",
       "27  title_Software Engineering Manager  0.000000e+00\n",
       "14                     company_Netflix  0.000000e+00\n",
       "18               title_Human Resources  0.000000e+00\n",
       "17             title_Hardware Engineer  0.000000e+00\n",
       "6                     Bachelors_Degree  0.000000e+00\n",
       "7                     Doctorate_Degree  0.000000e+00\n",
       "8                           Highschool  0.000000e+00\n",
       "9                         Some_College  0.000000e+00\n",
       "11                       company_Apple  0.000000e+00\n",
       "29     title_Technical Program Manager  0.000000e+00\n",
       "28            title_Solution Architect  0.000000e+00\n",
       "15              title_Business Analyst  0.000000e+00\n",
       "16                title_Data Scientist  0.000000e+00\n",
       "23               title_Product Manager  0.000000e+00"
      ]
     },
     "execution_count": 62,
     "metadata": {},
     "output_type": "execute_result"
    }
   ],
   "source": [
    "# decision tree variable importance values\n",
    "coef_df = pd.DataFrame()\n",
    "coef_df[\"Column_Name\"] = X_train.columns\n",
    "coef_df['Coef_Values'] = pd.Series(tree_pipe.feature_importances_)\n",
    "lowest_coef = coef_df.sort_values('Coef_Values', ascending=True).head(5)\n",
    "highest_coef = coef_df.sort_values('Coef_Values', ascending=True).tail(21)\n",
    "\n",
    "important_coef_df = pd.concat([highest_coef, lowest_coef]).sort_values('Coef_Values', ascending = False)\n",
    "important_coef_df"
   ]
  }
 ],
 "metadata": {
  "kernelspec": {
   "display_name": "Python 3",
   "language": "python",
   "name": "python3"
  },
  "language_info": {
   "codemirror_mode": {
    "name": "ipython",
    "version": 3
   },
   "file_extension": ".py",
   "mimetype": "text/x-python",
   "name": "python",
   "nbconvert_exporter": "python",
   "pygments_lexer": "ipython3",
   "version": "3.9.7"
  }
 },
 "nbformat": 4,
 "nbformat_minor": 2
}
