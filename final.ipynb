{
 "cells": [
  {
   "cell_type": "markdown",
   "metadata": {},
   "source": [
    "Question of interest: What working scenario would give the best total compensation per year?"
   ]
  },
  {
   "cell_type": "code",
   "execution_count": 1,
   "metadata": {},
   "outputs": [],
   "source": [
    "# libraries\n",
    "import pandas as pd"
   ]
  },
  {
   "cell_type": "code",
   "execution_count": 64,
   "metadata": {},
   "outputs": [],
   "source": [
    "# read in all 5 FAANG company data and combine them into one.\n",
    "facebook = pd.read_csv('data/facebook.csv')\n",
    "netflix = pd.read_csv('data/netflix.csv')\n",
    "amazon = pd.read_csv('data/amazon.csv')\n",
    "apple = pd.read_csv('data/apple.csv')\n",
    "google = pd.read_csv('data/google.csv')\n",
    "\n",
    "arr = [facebook, netflix, amazon, apple, google]\n",
    "faang_eda = pd.concat(arr).drop(\"location\", axis = 1) # remove location"
   ]
  },
  {
   "cell_type": "code",
   "execution_count": 69,
   "metadata": {},
   "outputs": [
    {
     "data": {
      "text/plain": [
       "Index(['company', 'title', 'totalyearlycompensation', 'yearsofexperience',\n",
       "       'yearsatcompany', 'basesalary', 'bonus', 'Masters_Degree',\n",
       "       'Bachelors_Degree', 'Doctorate_Degree', 'Highschool', 'Some_College',\n",
       "       'facebook', 'Apple', 'Amazon'],\n",
       "      dtype='object')"
      ]
     },
     "execution_count": 69,
     "metadata": {},
     "output_type": "execute_result"
    }
   ],
   "source": [
    "faang_eda.columns"
   ]
  },
  {
   "cell_type": "markdown",
   "metadata": {},
   "source": [
    "## Additional data cleaning"
   ]
  },
  {
   "cell_type": "code",
   "execution_count": 76,
   "metadata": {},
   "outputs": [
    {
     "name": "stderr",
     "output_type": "stream",
     "text": [
      "<ipython-input-76-bcfab1717c8d>:7: SettingWithCopyWarning: \n",
      "A value is trying to be set on a copy of a slice from a DataFrame.\n",
      "Try using .loc[row_indexer,col_indexer] = value instead\n",
      "\n",
      "See the caveats in the documentation: https://pandas.pydata.org/pandas-docs/stable/user_guide/indexing.html#returning-a-view-versus-a-copy\n",
      "  ms_phd[\"Masters_Degree\"] = 0\n",
      "<ipython-input-76-bcfab1717c8d>:18: SettingWithCopyWarning: \n",
      "A value is trying to be set on a copy of a slice from a DataFrame.\n",
      "Try using .loc[row_indexer,col_indexer] = value instead\n",
      "\n",
      "See the caveats in the documentation: https://pandas.pydata.org/pandas-docs/stable/user_guide/indexing.html#returning-a-view-versus-a-copy\n",
      "  bs_ms[\"Bachelors_Degree\"] = 0\n"
     ]
    },
    {
     "data": {
      "text/html": [
       "<div>\n",
       "<style scoped>\n",
       "    .dataframe tbody tr th:only-of-type {\n",
       "        vertical-align: middle;\n",
       "    }\n",
       "\n",
       "    .dataframe tbody tr th {\n",
       "        vertical-align: top;\n",
       "    }\n",
       "\n",
       "    .dataframe thead th {\n",
       "        text-align: right;\n",
       "    }\n",
       "</style>\n",
       "<table border=\"1\" class=\"dataframe\">\n",
       "  <thead>\n",
       "    <tr style=\"text-align: right;\">\n",
       "      <th></th>\n",
       "      <th>company</th>\n",
       "      <th>title</th>\n",
       "      <th>totalyearlycompensation</th>\n",
       "      <th>yearsofexperience</th>\n",
       "      <th>yearsatcompany</th>\n",
       "      <th>basesalary</th>\n",
       "      <th>bonus</th>\n",
       "      <th>Masters_Degree</th>\n",
       "      <th>Bachelors_Degree</th>\n",
       "      <th>Doctorate_Degree</th>\n",
       "      <th>Highschool</th>\n",
       "      <th>Some_College</th>\n",
       "      <th>facebook</th>\n",
       "      <th>Apple</th>\n",
       "      <th>Amazon</th>\n",
       "    </tr>\n",
       "  </thead>\n",
       "  <tbody>\n",
       "    <tr>\n",
       "      <th>0</th>\n",
       "      <td>Facebook</td>\n",
       "      <td>Software Engineer</td>\n",
       "      <td>168000</td>\n",
       "      <td>1.0</td>\n",
       "      <td>1.0</td>\n",
       "      <td>0.0</td>\n",
       "      <td>0.0</td>\n",
       "      <td>0</td>\n",
       "      <td>0</td>\n",
       "      <td>0</td>\n",
       "      <td>0</td>\n",
       "      <td>0</td>\n",
       "      <td>NaN</td>\n",
       "      <td>NaN</td>\n",
       "      <td>NaN</td>\n",
       "    </tr>\n",
       "    <tr>\n",
       "      <th>1</th>\n",
       "      <td>Facebook</td>\n",
       "      <td>Software Engineer</td>\n",
       "      <td>190000</td>\n",
       "      <td>1.0</td>\n",
       "      <td>1.0</td>\n",
       "      <td>140000.0</td>\n",
       "      <td>14000.0</td>\n",
       "      <td>0</td>\n",
       "      <td>0</td>\n",
       "      <td>0</td>\n",
       "      <td>0</td>\n",
       "      <td>0</td>\n",
       "      <td>NaN</td>\n",
       "      <td>NaN</td>\n",
       "      <td>NaN</td>\n",
       "    </tr>\n",
       "    <tr>\n",
       "      <th>2</th>\n",
       "      <td>Facebook</td>\n",
       "      <td>Software Engineer</td>\n",
       "      <td>600000</td>\n",
       "      <td>10.0</td>\n",
       "      <td>1.0</td>\n",
       "      <td>215000.0</td>\n",
       "      <td>40000.0</td>\n",
       "      <td>0</td>\n",
       "      <td>0</td>\n",
       "      <td>0</td>\n",
       "      <td>0</td>\n",
       "      <td>0</td>\n",
       "      <td>NaN</td>\n",
       "      <td>NaN</td>\n",
       "      <td>NaN</td>\n",
       "    </tr>\n",
       "    <tr>\n",
       "      <th>3</th>\n",
       "      <td>Facebook</td>\n",
       "      <td>Software Engineer</td>\n",
       "      <td>690000</td>\n",
       "      <td>11.5</td>\n",
       "      <td>4.0</td>\n",
       "      <td>200000.0</td>\n",
       "      <td>40000.0</td>\n",
       "      <td>0</td>\n",
       "      <td>0</td>\n",
       "      <td>0</td>\n",
       "      <td>0</td>\n",
       "      <td>0</td>\n",
       "      <td>NaN</td>\n",
       "      <td>NaN</td>\n",
       "      <td>NaN</td>\n",
       "    </tr>\n",
       "    <tr>\n",
       "      <th>4</th>\n",
       "      <td>Facebook</td>\n",
       "      <td>Software Engineer</td>\n",
       "      <td>220000</td>\n",
       "      <td>20.0</td>\n",
       "      <td>1.0</td>\n",
       "      <td>0.0</td>\n",
       "      <td>0.0</td>\n",
       "      <td>0</td>\n",
       "      <td>0</td>\n",
       "      <td>0</td>\n",
       "      <td>0</td>\n",
       "      <td>0</td>\n",
       "      <td>NaN</td>\n",
       "      <td>NaN</td>\n",
       "      <td>NaN</td>\n",
       "    </tr>\n",
       "  </tbody>\n",
       "</table>\n",
       "</div>"
      ],
      "text/plain": [
       "    company              title  totalyearlycompensation  yearsofexperience  \\\n",
       "0  Facebook  Software Engineer                   168000                1.0   \n",
       "1  Facebook  Software Engineer                   190000                1.0   \n",
       "2  Facebook  Software Engineer                   600000               10.0   \n",
       "3  Facebook  Software Engineer                   690000               11.5   \n",
       "4  Facebook  Software Engineer                   220000               20.0   \n",
       "\n",
       "   yearsatcompany  basesalary    bonus  Masters_Degree  Bachelors_Degree  \\\n",
       "0             1.0         0.0      0.0               0                 0   \n",
       "1             1.0    140000.0  14000.0               0                 0   \n",
       "2             1.0    215000.0  40000.0               0                 0   \n",
       "3             4.0    200000.0  40000.0               0                 0   \n",
       "4             1.0         0.0      0.0               0                 0   \n",
       "\n",
       "   Doctorate_Degree  Highschool  Some_College facebook Apple Amazon  \n",
       "0                 0           0             0      NaN   NaN    NaN  \n",
       "1                 0           0             0      NaN   NaN    NaN  \n",
       "2                 0           0             0      NaN   NaN    NaN  \n",
       "3                 0           0             0      NaN   NaN    NaN  \n",
       "4                 0           0             0      NaN   NaN    NaN  "
      ]
     },
     "execution_count": 76,
     "metadata": {},
     "output_type": "execute_result"
    }
   ],
   "source": [
    "## cleaning of education variables\n",
    "\n",
    "## find duplicates of people with masters degree and doctorate degrees\n",
    "ms_phd = faang_eda[(faang_eda[\"Masters_Degree\"] == 1) & (faang_eda[\"Doctorate_Degree\"] == 1)]\n",
    "\n",
    "# change duplicates to zeros and only select the higher degree\n",
    "ms_phd[\"Masters_Degree\"] = 0\n",
    "phd = ms_phd\n",
    "\n",
    "# remove the duplicates and add on the higher degree\n",
    "faang_eda.drop(ms_phd.index, axis = 0)\n",
    "faang = pd.concat([faang_eda, phd])\n",
    "\n",
    "##  find duplicates of people with bachelors and masters degrees\n",
    "bs_ms = faang_eda[(faang_eda[\"Bachelors_Degree\"] == 1) & (faang_eda[\"Masters_Degree\"] == 1)]\n",
    "\n",
    "# change duplicates to zeros and only select the higher degree\n",
    "bs_ms[\"Bachelors_Degree\"] = 0\n",
    "ms = bs_ms\n",
    "\n",
    "# remove the duplicates and add on the higher degree\n",
    "faang_eda.drop(bs_ms.index, axis = 0)\n",
    "faang = pd.concat([faang_eda, ms])\n",
    "\n",
    "faang.head()"
   ]
  },
  {
   "cell_type": "markdown",
   "metadata": {},
   "source": [
    "## Exploratory data analysis"
   ]
  },
  {
   "cell_type": "code",
   "execution_count": 20,
   "metadata": {},
   "outputs": [],
   "source": [
    "import seaborn as sns"
   ]
  },
  {
   "cell_type": "code",
   "execution_count": 24,
   "metadata": {},
   "outputs": [
    {
     "data": {
      "text/plain": [
       "Index(['company', 'title', 'totalyearlycompensation', 'yearsofexperience',\n",
       "       'yearsatcompany', 'basesalary', 'bonus', 'Masters_Degree',\n",
       "       'Bachelors_Degree', 'Doctorate_Degree', 'Highschool', 'Some_College',\n",
       "       'facebook', 'Apple', 'Amazon'],\n",
       "      dtype='object')"
      ]
     },
     "execution_count": 24,
     "metadata": {},
     "output_type": "execute_result"
    }
   ],
   "source": [
    "faang_eda.describe()\n",
    "faang_eda.columns"
   ]
  },
  {
   "cell_type": "code",
   "execution_count": 21,
   "metadata": {},
   "outputs": [
    {
     "data": {
      "text/plain": [
       "<AxesSubplot:xlabel='company', ylabel='totalyearlycompensation'>"
      ]
     },
     "execution_count": 21,
     "metadata": {},
     "output_type": "execute_result"
    },
    {
     "data": {
      "image/png": "[encoded data removed]",
      "text/plain": [
       "<Figure size 432x288 with 1 Axes>"
      ]
     },
     "metadata": {
      "needs_background": "light"
     },
     "output_type": "display_data"
    }
   ],
   "source": [
    "# bar plot of total yeraly compensation and companies\n",
    "sns.barplot(x = \"company\", y = \"totalyearlycompensation\", data = faang_eda, ci = None)"
   ]
  },
  {
   "cell_type": "code",
   "execution_count": null,
   "metadata": {},
   "outputs": [],
   "source": [
    "# bar plot of total yeraly compensation and companies\n",
    "sns.barplot(x = \"company\", y = \"totalyearlycompensation\", data = faang_eda, ci = None)"
   ]
  },
  {
   "cell_type": "code",
   "execution_count": 18,
   "metadata": {},
   "outputs": [],
   "source": [
    "# create dummy variables\n",
    "faang = pd.get_dummies(faang_eda, columns = ['company', 'title'])"
   ]
  },
  {
   "cell_type": "code",
   "execution_count": 4,
   "metadata": {},
   "outputs": [
    {
     "data": {
      "text/plain": [
       "Index(['totalyearlycompensation', 'yearsofexperience', 'yearsatcompany',\n",
       "       'basesalary', 'bonus', 'Masters_Degree', 'Bachelors_Degree',\n",
       "       'Doctorate_Degree', 'Highschool', 'Some_College', 'facebook', 'Apple',\n",
       "       'Amazon', 'company_Amazon', 'company_Apple', 'company_Facebook',\n",
       "       'company_Google', 'company_Netflix', 'title_Business Analyst',\n",
       "       'title_Data Scientist', 'title_Hardware Engineer',\n",
       "       'title_Human Resources', 'title_Management Consultant',\n",
       "       'title_Marketing', 'title_Mechanical Engineer',\n",
       "       'title_Product Designer', 'title_Product Manager', 'title_Recruiter',\n",
       "       'title_Sales', 'title_Software Engineer',\n",
       "       'title_Software Engineering Manager', 'title_Solution Architect',\n",
       "       'title_Technical Program Manager'],\n",
       "      dtype='object')"
      ]
     },
     "execution_count": 4,
     "metadata": {},
     "output_type": "execute_result"
    }
   ],
   "source": [
    "# create summary statistics\n"
   ]
  },
  {
   "cell_type": "code",
   "execution_count": null,
   "metadata": {},
   "outputs": [],
   "source": []
  },
  {
   "cell_type": "code",
   "execution_count": null,
   "metadata": {},
   "outputs": [],
   "source": []
  },
  {
   "cell_type": "markdown",
   "metadata": {},
   "source": [
    "## Create train and test."
   ]
  },
  {
   "cell_type": "code",
   "execution_count": 7,
   "metadata": {},
   "outputs": [],
   "source": [
    "from sklearn.model_selection import train_test_split, cross_val_score\n",
    "\n",
    "# select X variables\n",
    "X = faang.drop(\"totalyearlycompensation\", axis = 1)\n",
    "y = faang[\"totalyearlycompensation\"]\n",
    "\n",
    "# create train and test datasets\n",
    "X_train, X_test, y_train, y_test = train_test_split(faang, y, test_size = .4, random_state = 1234)"
   ]
  },
  {
   "cell_type": "markdown",
   "metadata": {},
   "source": [
    "## Different modeling methods"
   ]
  },
  {
   "cell_type": "code",
   "execution_count": null,
   "metadata": {},
   "outputs": [],
   "source": [
    "# fit linear regression model\n",
    "from sklearn.linear_model import LinearRegression\n",
    "from sklearn.metrics import mean_squared_error\n",
    "\n",
    "# create linear regression model\n",
    "def lm_mod(X_train, y_train, X_test, y_test):\n",
    "    lm = LinearRegression()\n",
    "    lm.fit(X_train, y_train) # create model\n",
    "    lm_preds = lm.predict(X_test)\n",
    "    mse_lm = mean_squared_error(y_test, lm_preds)\n",
    "    print(mse_lm)\n",
    "    \n",
    "lm_mod(X_train, y_train, X_test, y_test)"
   ]
  },
  {
   "cell_type": "code",
   "execution_count": null,
   "metadata": {},
   "outputs": [],
   "source": [
    "# fit lasso regression model\n",
    "from sklearn.linear_model import Lasso\n",
    "from sklearn import linear_model\n",
    "\n",
    "# create lasso regression model\n",
    "def lasso_mod(X_train, y_train, X_test, y_test):\n",
    "    lasso = linear_model.Lasso(alpha = 0.5)\n",
    "    lasso.fit(X_train, y_train) # create model\n",
    "    lasso_preds = lasso.predict(X_test)\n",
    "    mse_lasso = mean_squared_error(y_test, lasso_preds)\n",
    "    print(mse_lasso)\n",
    "          \n",
    "lasso_mod(X_train, y_train, X_test, y_test)"
   ]
  },
  {
   "cell_type": "code",
   "execution_count": null,
   "metadata": {},
   "outputs": [],
   "source": [
    "# fit K-nearest neighbors\n",
    "from sklearn.neighbors import KNeighborsRegressor\n",
    "\n",
    "# create k-nearest neighbors model\n",
    "def knn_mod(X_train, y_train, X_test, y_test):\n",
    "    knn = KNeighborsRegressor(n_neighbors = 10)\n",
    "    knn.fit(X_train, y_train) # create model\n",
    "    knn_preds = knn.predict(X_test)\n",
    "    mse_knn = mean_squared_error(y_test, knn_preds)\n",
    "    print(mse_knn)\n",
    "        \n",
    "knn_mod(X_train, y_train, X_test, y_test)"
   ]
  },
  {
   "cell_type": "code",
   "execution_count": null,
   "metadata": {},
   "outputs": [],
   "source": [
    "# multinomial naive bayes\n",
    "from sklearn.naive_bayes import MultinomialNB\n",
    "\n",
    "# create model\n",
    "nb = MultinomialNB()\n",
    "nb.fit(X_train, y_train)\n",
    "\n",
    "# create predictions\n",
    "nb_preds = nb.predict(X_test)\n",
    "\n",
    "# calculate model metrics\n",
    "nb_precision = metrics.precision_score(y_test, nb_preds)\n",
    "nb_recall = metrics.recall_score(y_test, nb_preds)\n",
    "nb_f1 = 2 * (nb_precision * nb_recall) / (nb_precision + nb_recall)\n",
    "\n",
    "nb_accuracy = metrics.accuracy_score(y_test, nb_preds)\n",
    "nb_auc = roc_auc_score(y_test, nb_preds)\n",
    "\n",
    "# cross validation score\n",
    "nb_cv = cross_val_score(nb, X_train, y_train, cv = 10).mean()"
   ]
  },
  {
   "cell_type": "code",
   "execution_count": null,
   "metadata": {},
   "outputs": [],
   "source": [
    "# logistic regression\n",
    "from sklearn.linear_model import LogisticRegression\n",
    "\n",
    "# create logistic regression model\n",
    "logreg = LogisticRegression(solver = 'liblinear', C = 1)\n",
    "logreg.fit(X_train, y_train)\n",
    "\n",
    "# create predictions\n",
    "logreg_preds = logreg.predict(X_test)\n",
    "\n",
    "# calculate model metrics\n",
    "logreg_precision = metrics.precision_score(y_test, logreg_preds)\n",
    "logreg_recall = metrics.recall_score(y_test, logreg_preds)\n",
    "logreg_f1 = 2 * (logreg_precision * logreg_recall) / (logreg_precision + logreg_recall)\n",
    "\n",
    "logreg_accuracy = metrics.accuracy_score(y_test, logreg_preds)\n",
    "logreg_auc = roc_auc_score(y_test, logreg_preds)\n",
    "\n",
    "# cross validation score\n",
    "logreg_cv = cross_val_score(logreg, X_train, y_train, cv = 10).mean()"
   ]
  },
  {
   "cell_type": "code",
   "execution_count": null,
   "metadata": {},
   "outputs": [],
   "source": [
    "# decision tree\n",
    "from sklearn.tree import DecisionTreeClassifier\n",
    "\n",
    "# create decision tree regression model\n",
    "tree = DecisionTreeClassifier()\n",
    "tree.fit(X_train, y_train)\n",
    "\n",
    "# create predictions\n",
    "tree_preds = tree.predict(X_test)\n",
    "\n",
    "# calculate model metrics\n",
    "tree_precision = metrics.precision_score(y_test, tree_preds)\n",
    "tree_recall = metrics.recall_score(y_test, tree_preds)\n",
    "tree_f1 = 2 * (tree_precision * tree_recall) / (tree_precision + tree_recall)\n",
    "\n",
    "tree_accuracy = metrics.accuracy_score(y_test, tree_preds)\n",
    "tree_auc = roc_auc_score(y_test, tree_preds)\n",
    "\n",
    "# cross validation score\n",
    "tree_cv = cross_val_score(tree, X_train, y_train, cv = 10).mean()"
   ]
  },
  {
   "cell_type": "code",
   "execution_count": null,
   "metadata": {},
   "outputs": [],
   "source": [
    "# random forest\n",
    "from sklearn.ensemble import RandomForestClassifier\n",
    "\n",
    "# create model\n",
    "forest = RandomForestClassifier(n_estimators = 100, n_jobs = -1, max_depth = 1)\n",
    "forest.fit(X_train, y_train)\n",
    "\n",
    "# create predictions\n",
    "forest_preds = forest.predict(X_test)\n",
    "\n",
    "# calculate model metrics\n",
    "forest_precision = metrics.precision_score(y_test, forest_preds)\n",
    "forest_recall = metrics.recall_score(y_test, forest_preds)\n",
    "forest_f1 = 2 * (forest_precision * forest_recall) / (forest_precision + forest_recall)\n",
    "\n",
    "forest_accuracy = metrics.accuracy_score(y_test, forest_preds)\n",
    "forest_auc = roc_auc_score(y_test, forest_preds)\n",
    "\n",
    "# cross validation score\n",
    "forest_cv = cross_val_score(forest, X_train, y_train, cv = 10).mean()"
   ]
  },
  {
   "cell_type": "code",
   "execution_count": null,
   "metadata": {},
   "outputs": [],
   "source": [
    "# gradient boosting\n",
    "from sklearn.ensemble import GradientBoostingClassifier\n",
    "\n",
    "# create model\n",
    "gradient = GradientBoostingClassifier(n_estimators = 100, learning_rate = 0.1)\n",
    "gradient.fit(X_train, y_train)\n",
    "\n",
    "# create predictions\n",
    "gradient_preds = gradient.predict(X_test)\n",
    "\n",
    "# calculate model metrics\n",
    "gradient_precision = metrics.precision_score(y_test, gradient_preds)\n",
    "gradient_recall = metrics.recall_score(y_test, gradient_preds)\n",
    "gradient_f1 = 2 * (gradient_precision * gradient_recall) / (gradient_precision + gradient_recall)\n",
    "\n",
    "gradient_accuracy = metrics.accuracy_score(y_test, gradient_preds)\n",
    "gradient_auc = roc_auc_score(y_test, gradient_preds)\n",
    "\n",
    "# cross validation score\n",
    "gradient_cv = cross_val_score(gradient, X_train, y_train, cv = 10).mean()"
   ]
  },
  {
   "cell_type": "code",
   "execution_count": null,
   "metadata": {},
   "outputs": [],
   "source": []
  },
  {
   "cell_type": "code",
   "execution_count": null,
   "metadata": {},
   "outputs": [],
   "source": []
  }
 ],
 "metadata": {
  "kernelspec": {
   "display_name": "Python 3",
   "language": "python",
   "name": "python3"
  },
  "language_info": {
   "codemirror_mode": {
    "name": "ipython",
    "version": 3
   },
   "file_extension": ".py",
   "mimetype": "text/x-python",
   "name": "python",
   "nbconvert_exporter": "python",
   "pygments_lexer": "ipython3",
   "version": "3.8.8"
  }
 },
 "nbformat": 4,
 "nbformat_minor": 2
}
